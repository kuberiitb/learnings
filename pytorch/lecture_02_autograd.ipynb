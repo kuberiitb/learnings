{
  "nbformat": 4,
  "nbformat_minor": 0,
  "metadata": {
    "colab": {
      "name": "pytorch/lecture_02_autograd.ipynb",
      "provenance": [],
      "collapsed_sections": [],
      "authorship_tag": "ABX9TyMlyOzKZbLQDTJ8Ukq53li8",
      "include_colab_link": true
    },
    "kernelspec": {
      "name": "python3",
      "display_name": "Python 3"
    },
    "language_info": {
      "name": "python"
    },
    "accelerator": "GPU"
  },
  "cells": [
    {
      "cell_type": "markdown",
      "metadata": {
        "id": "view-in-github",
        "colab_type": "text"
      },
      "source": [
        "<a href=\"https://colab.research.google.com/github/kuberiitb/learnings/blob/master/pytorch/lecture_02_autograd.ipynb\" target=\"_parent\"><img src=\"https://colab.research.google.com/assets/colab-badge.svg\" alt=\"Open In Colab\"/></a>"
      ]
    },
    {
      "cell_type": "markdown",
      "source": [
        "# Learnings from [Abhishek Thakur Pytoch Series](https://www.youtube.com/watch?v=_R-mvKBD5U8&list=PL98nY_tJQXZln8spB5uTZdKN08mYGkOf2&index=2)"
      ],
      "metadata": {
        "id": "0HMsltSXKh0L"
      }
    },
    {
      "cell_type": "code",
      "execution_count": 131,
      "metadata": {
        "id": "CzLw2t8YKIsx"
      },
      "outputs": [],
      "source": [
        "import torch "
      ]
    },
    {
      "cell_type": "code",
      "source": [
        "torch.cuda.is_available()"
      ],
      "metadata": {
        "colab": {
          "base_uri": "https://localhost:8080/"
        },
        "id": "Bz_DAznzKtyZ",
        "outputId": "a8030f07-0075-4e67-8f58-d5956a72c243"
      },
      "execution_count": 132,
      "outputs": [
        {
          "output_type": "execute_result",
          "data": {
            "text/plain": [
              "True"
            ]
          },
          "metadata": {},
          "execution_count": 132
        }
      ]
    },
    {
      "cell_type": "code",
      "source": [
        "!nvidia-smi"
      ],
      "metadata": {
        "colab": {
          "base_uri": "https://localhost:8080/"
        },
        "id": "7JmP75ViLIZG",
        "outputId": "e88889d0-7fdb-4e99-b199-2851518f4aae"
      },
      "execution_count": 133,
      "outputs": [
        {
          "output_type": "stream",
          "name": "stdout",
          "text": [
            "Thu Feb  3 07:13:46 2022       \n",
            "+-----------------------------------------------------------------------------+\n",
            "| NVIDIA-SMI 460.32.03    Driver Version: 460.32.03    CUDA Version: 11.2     |\n",
            "|-------------------------------+----------------------+----------------------+\n",
            "| GPU  Name        Persistence-M| Bus-Id        Disp.A | Volatile Uncorr. ECC |\n",
            "| Fan  Temp  Perf  Pwr:Usage/Cap|         Memory-Usage | GPU-Util  Compute M. |\n",
            "|                               |                      |               MIG M. |\n",
            "|===============================+======================+======================|\n",
            "|   0  Tesla T4            Off  | 00000000:00:04.0 Off |                    0 |\n",
            "| N/A   45C    P0    26W /  70W |   1332MiB / 15109MiB |      0%      Default |\n",
            "|                               |                      |                  N/A |\n",
            "+-------------------------------+----------------------+----------------------+\n",
            "                                                                               \n",
            "+-----------------------------------------------------------------------------+\n",
            "| Processes:                                                                  |\n",
            "|  GPU   GI   CI        PID   Type   Process name                  GPU Memory |\n",
            "|        ID   ID                                                   Usage      |\n",
            "|=============================================================================|\n",
            "+-----------------------------------------------------------------------------+\n"
          ]
        }
      ]
    },
    {
      "cell_type": "markdown",
      "source": [
        "## autograd"
      ],
      "metadata": {
        "id": "7BqdSzNibiZ6"
      }
    },
    {
      "cell_type": "code",
      "source": [
        "a = torch.tensor([5.], requires_grad = True)\n",
        "b = torch.tensor([6.], requires_grad = True)"
      ],
      "metadata": {
        "id": "QF6I3j7bbhxt"
      },
      "execution_count": 135,
      "outputs": []
    },
    {
      "cell_type": "code",
      "source": [
        "a"
      ],
      "metadata": {
        "colab": {
          "base_uri": "https://localhost:8080/"
        },
        "id": "f86qDR4Zbmly",
        "outputId": "39842f04-7e40-41e1-e356-be8c39abf441"
      },
      "execution_count": 136,
      "outputs": [
        {
          "output_type": "execute_result",
          "data": {
            "text/plain": [
              "tensor([5.], requires_grad=True)"
            ]
          },
          "metadata": {},
          "execution_count": 136
        }
      ]
    },
    {
      "cell_type": "code",
      "source": [
        "b"
      ],
      "metadata": {
        "colab": {
          "base_uri": "https://localhost:8080/"
        },
        "id": "B5VD6sU7b3M1",
        "outputId": "c0ed4328-eff9-4cb9-f185-56f4ae16fe57"
      },
      "execution_count": 137,
      "outputs": [
        {
          "output_type": "execute_result",
          "data": {
            "text/plain": [
              "tensor([6.], requires_grad=True)"
            ]
          },
          "metadata": {},
          "execution_count": 137
        }
      ]
    },
    {
      "cell_type": "code",
      "source": [
        "y = a**3 - b**2"
      ],
      "metadata": {
        "id": "XKtmxI8pb4FN"
      },
      "execution_count": 138,
      "outputs": []
    },
    {
      "cell_type": "code",
      "source": [
        "y"
      ],
      "metadata": {
        "colab": {
          "base_uri": "https://localhost:8080/"
        },
        "id": "ap8C6f4ccDPj",
        "outputId": "233ad404-0555-42bd-8c60-f92462eb47ef"
      },
      "execution_count": 139,
      "outputs": [
        {
          "output_type": "execute_result",
          "data": {
            "text/plain": [
              "tensor([89.], grad_fn=<SubBackward0>)"
            ]
          },
          "metadata": {},
          "execution_count": 139
        }
      ]
    },
    {
      "cell_type": "code",
      "source": [
        "# dy/da = 3 * a **2  = 2* 5**2 = 75\n",
        "# dy/db = - 2 * b    = - 2 * 6 = -12  "
      ],
      "metadata": {
        "id": "f1rL8_uPcDch"
      },
      "execution_count": 141,
      "outputs": []
    },
    {
      "cell_type": "code",
      "source": [
        "print(a.grad)\n",
        "print(b.grad) # None before computing \n"
      ],
      "metadata": {
        "colab": {
          "base_uri": "https://localhost:8080/"
        },
        "id": "RDV8ttBKcG3W",
        "outputId": "60f505f4-c5ee-4226-8e41-efe9fdaffe9f"
      },
      "execution_count": 145,
      "outputs": [
        {
          "output_type": "stream",
          "name": "stdout",
          "text": [
            "None\n",
            "None\n"
          ]
        }
      ]
    },
    {
      "cell_type": "code",
      "source": [
        "y.backward() # computing grad wrt all variables"
      ],
      "metadata": {
        "id": "CRHT30f0cdeh"
      },
      "execution_count": 148,
      "outputs": []
    },
    {
      "cell_type": "code",
      "source": [
        "print(a.grad)\n",
        "print(b.grad) # after computing \n"
      ],
      "metadata": {
        "colab": {
          "base_uri": "https://localhost:8080/"
        },
        "id": "kyVMDaHucePU",
        "outputId": "8338ca62-a8d2-4a27-b1ff-3e55711d477e"
      },
      "execution_count": 149,
      "outputs": [
        {
          "output_type": "stream",
          "name": "stdout",
          "text": [
            "tensor([75.])\n",
            "tensor([-12.])\n"
          ]
        }
      ]
    },
    {
      "cell_type": "code",
      "source": [
        "W = torch.randn(10,1, requires_grad=True)\n",
        "b = torch.randn(1, requires_grad=True)"
      ],
      "metadata": {
        "id": "EgEUsEE5cvh0"
      },
      "execution_count": 166,
      "outputs": []
    },
    {
      "cell_type": "code",
      "source": [
        "W"
      ],
      "metadata": {
        "colab": {
          "base_uri": "https://localhost:8080/"
        },
        "id": "hLn1qYPAd_56",
        "outputId": "712a8a6a-e5ea-4bca-ae53-33a58974c2f0"
      },
      "execution_count": 167,
      "outputs": [
        {
          "output_type": "execute_result",
          "data": {
            "text/plain": [
              "tensor([[-0.8216],\n",
              "        [ 2.2799],\n",
              "        [ 0.3978],\n",
              "        [-0.5996],\n",
              "        [-0.2353],\n",
              "        [ 0.2086],\n",
              "        [-0.4670],\n",
              "        [ 1.3343],\n",
              "        [ 0.7608],\n",
              "        [-1.7591]], requires_grad=True)"
            ]
          },
          "metadata": {},
          "execution_count": 167
        }
      ]
    },
    {
      "cell_type": "code",
      "source": [
        "b"
      ],
      "metadata": {
        "colab": {
          "base_uri": "https://localhost:8080/"
        },
        "id": "J-039CPdeCiJ",
        "outputId": "f7fe31c5-2632-4e5a-b5be-60aeeb41f259"
      },
      "execution_count": 168,
      "outputs": [
        {
          "output_type": "execute_result",
          "data": {
            "text/plain": [
              "tensor([-0.8503], requires_grad=True)"
            ]
          },
          "metadata": {},
          "execution_count": 168
        }
      ]
    },
    {
      "cell_type": "code",
      "source": [
        "x = torch.rand(1, 10) # grad not required"
      ],
      "metadata": {
        "id": "NpGWsQelc5Rd"
      },
      "execution_count": 169,
      "outputs": []
    },
    {
      "cell_type": "code",
      "source": [
        "output = torch.matmul(x,W) + b "
      ],
      "metadata": {
        "id": "JmERat1sdGEW"
      },
      "execution_count": 170,
      "outputs": []
    },
    {
      "cell_type": "code",
      "source": [
        "loss = 1 - output"
      ],
      "metadata": {
        "id": "-qml30qWdPrT"
      },
      "execution_count": 171,
      "outputs": []
    },
    {
      "cell_type": "code",
      "source": [
        "loss, output"
      ],
      "metadata": {
        "colab": {
          "base_uri": "https://localhost:8080/"
        },
        "id": "p1JEXXsveICD",
        "outputId": "d5d7bc22-1087-4e0b-899a-e1ef976914ed"
      },
      "execution_count": 173,
      "outputs": [
        {
          "output_type": "execute_result",
          "data": {
            "text/plain": [
              "(tensor([[0.0054]], grad_fn=<RsubBackward1>),\n",
              " tensor([[0.9946]], grad_fn=<AddBackward0>))"
            ]
          },
          "metadata": {},
          "execution_count": 173
        }
      ]
    },
    {
      "cell_type": "code",
      "source": [
        "loss.backward()"
      ],
      "metadata": {
        "id": "NBdAjK1FdYzt"
      },
      "execution_count": 174,
      "outputs": []
    },
    {
      "cell_type": "code",
      "source": [
        "W.grad"
      ],
      "metadata": {
        "colab": {
          "base_uri": "https://localhost:8080/"
        },
        "id": "MEQAsJmhdarq",
        "outputId": "7f40fa01-455b-4147-d35f-f7e8df54f0ea"
      },
      "execution_count": 175,
      "outputs": [
        {
          "output_type": "execute_result",
          "data": {
            "text/plain": [
              "tensor([[-0.1145],\n",
              "        [-0.5898],\n",
              "        [-0.7862],\n",
              "        [-0.3383],\n",
              "        [-0.1791],\n",
              "        [-0.7902],\n",
              "        [-0.7081],\n",
              "        [-0.5766],\n",
              "        [-0.3006],\n",
              "        [-0.1738]])"
            ]
          },
          "metadata": {},
          "execution_count": 175
        }
      ]
    },
    {
      "cell_type": "code",
      "source": [
        "b.grad"
      ],
      "metadata": {
        "colab": {
          "base_uri": "https://localhost:8080/"
        },
        "id": "2AsBbzMpdfTV",
        "outputId": "bf7783f6-e4e8-4233-ecf6-5acf9b41487b"
      },
      "execution_count": 176,
      "outputs": [
        {
          "output_type": "execute_result",
          "data": {
            "text/plain": [
              "tensor([-1.])"
            ]
          },
          "metadata": {},
          "execution_count": 176
        }
      ]
    },
    {
      "cell_type": "code",
      "source": [
        "learning_rate = 0.01\n",
        "with torch.no_grad():\n",
        "  W = W - learning_rate * W.grad.data\n",
        "  b = b - learning_rate * b.grad.data"
      ],
      "metadata": {
        "id": "-h3w5FgpdhpL"
      },
      "execution_count": 177,
      "outputs": []
    },
    {
      "cell_type": "code",
      "source": [
        "W"
      ],
      "metadata": {
        "colab": {
          "base_uri": "https://localhost:8080/"
        },
        "id": "CkcHR5ZHd7pC",
        "outputId": "1bad8e3d-059b-4570-cbc8-dae4e49e1155"
      },
      "execution_count": 178,
      "outputs": [
        {
          "output_type": "execute_result",
          "data": {
            "text/plain": [
              "tensor([[-0.8204],\n",
              "        [ 2.2858],\n",
              "        [ 0.4057],\n",
              "        [-0.5963],\n",
              "        [-0.2335],\n",
              "        [ 0.2165],\n",
              "        [-0.4599],\n",
              "        [ 1.3400],\n",
              "        [ 0.7638],\n",
              "        [-1.7573]])"
            ]
          },
          "metadata": {},
          "execution_count": 178
        }
      ]
    },
    {
      "cell_type": "code",
      "source": [
        "b # changed from -0.8503 to -0.84"
      ],
      "metadata": {
        "colab": {
          "base_uri": "https://localhost:8080/"
        },
        "id": "BlyXUwkbd8Ji",
        "outputId": "f6bf6131-2cae-4c54-e96c-4e6d7fa6e644"
      },
      "execution_count": 180,
      "outputs": [
        {
          "output_type": "execute_result",
          "data": {
            "text/plain": [
              "tensor([-0.8403])"
            ]
          },
          "metadata": {},
          "execution_count": 180
        }
      ]
    },
    {
      "cell_type": "code",
      "source": [
        "output = torch.matmul(x,W) + b \n",
        "loss = 1 - output"
      ],
      "metadata": {
        "id": "v4egrGjneP3q"
      },
      "execution_count": 181,
      "outputs": []
    },
    {
      "cell_type": "code",
      "source": [
        "loss, output"
      ],
      "metadata": {
        "colab": {
          "base_uri": "https://localhost:8080/"
        },
        "id": "JxiHid7OeoU9",
        "outputId": "5fdf57e5-4c06-465b-a77d-e7ba68d1b33e"
      },
      "execution_count": 182,
      "outputs": [
        {
          "output_type": "execute_result",
          "data": {
            "text/plain": [
              "(tensor([[-0.0316]]), tensor([[1.0316]]))"
            ]
          },
          "metadata": {},
          "execution_count": 182
        }
      ]
    },
    {
      "cell_type": "code",
      "source": [
        ""
      ],
      "metadata": {
        "id": "KLETwceAeqbT"
      },
      "execution_count": null,
      "outputs": []
    }
  ]
}