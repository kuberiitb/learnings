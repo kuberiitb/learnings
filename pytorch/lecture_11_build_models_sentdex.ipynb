{
  "nbformat": 4,
  "nbformat_minor": 0,
  "metadata": {
    "colab": {
      "name": "pytorch/lecture_11_build_models_sentdex",
      "provenance": [],
      "collapsed_sections": [],
      "authorship_tag": "ABX9TyNSlt4QKmt19el6jA+MG4lg",
      "include_colab_link": true
    },
    "kernelspec": {
      "name": "python3",
      "display_name": "Python 3"
    },
    "language_info": {
      "name": "python"
    },
    "accelerator": "GPU"
  },
  "cells": [
    {
      "cell_type": "markdown",
      "metadata": {
        "id": "view-in-github",
        "colab_type": "text"
      },
      "source": [
        "<a href=\"https://colab.research.google.com/github/kuberiitb/learnings/blob/master/pytorch/lecture_11_build_models_sentdex.ipynb\" target=\"_parent\"><img src=\"https://colab.research.google.com/assets/colab-badge.svg\" alt=\"Open In Colab\"/></a>"
      ]
    },
    {
      "cell_type": "markdown",
      "source": [
        "## Based on Video [Sentdex](https://www.youtube.com/watch?v=i2yPxY2rOzs)"
      ],
      "metadata": {
        "id": "VUgpTUVwDS5G"
      }
    },
    {
      "cell_type": "code",
      "execution_count": 30,
      "metadata": {
        "id": "ncYflE4dj9cv"
      },
      "outputs": [],
      "source": [
        "import torch\n",
        "import torchvision\n",
        "from torchvision import transforms, datasets\n",
        "import torch.nn as nn\n",
        "import torch.nn.functional as F"
      ]
    },
    {
      "cell_type": "markdown",
      "source": [
        "# Building Model class"
      ],
      "metadata": {
        "id": "-WIh0aHwketW"
      }
    },
    {
      "cell_type": "code",
      "source": [
        "train = datasets.MNIST(\"\", train=True, download=True, \n",
        "                       transform = transforms.Compose([transforms.ToTensor()])\n",
        "                       )\n",
        "test  = datasets.MNIST(\"\", train=False, download=True, \n",
        "                       transform = transforms.Compose([transforms.ToTensor()])\n",
        "                       )"
      ],
      "metadata": {
        "id": "9og1NFO0kaKQ"
      },
      "execution_count": 12,
      "outputs": []
    },
    {
      "cell_type": "markdown",
      "source": [
        "Making DataLoader for one batch a time."
      ],
      "metadata": {
        "id": "wLfXHItRFbN9"
      }
    },
    {
      "cell_type": "code",
      "source": [
        "trainset = torch.utils.data.DataLoader(train, batch_size = 10, shuffle = True)\n",
        "testset = torch.utils.data.DataLoader(test, batch_size = 10, shuffle = True)"
      ],
      "metadata": {
        "id": "C5z2FRbVlB8j"
      },
      "execution_count": 13,
      "outputs": []
    },
    {
      "cell_type": "code",
      "source": [
        "for data in trainset:\n",
        "  print(len(data))\n",
        "  break"
      ],
      "metadata": {
        "colab": {
          "base_uri": "https://localhost:8080/"
        },
        "id": "Jeq8Q2r4FWR6",
        "outputId": "10d0da76-d951-47ef-ba64-cb4e04dc7971"
      },
      "execution_count": 21,
      "outputs": [
        {
          "output_type": "stream",
          "name": "stdout",
          "text": [
            "2\n"
          ]
        }
      ]
    },
    {
      "cell_type": "code",
      "source": [
        "x, y  = data[0][0], data[1][0]"
      ],
      "metadata": {
        "id": "ZV5JBrA7Fzcs"
      },
      "execution_count": 26,
      "outputs": []
    },
    {
      "cell_type": "code",
      "source": [
        "import matplotlib.pyplot as plt"
      ],
      "metadata": {
        "id": "oxPd7VM_GDY5"
      },
      "execution_count": 27,
      "outputs": []
    },
    {
      "cell_type": "code",
      "source": [
        "plt.imshow(x[0])"
      ],
      "metadata": {
        "colab": {
          "base_uri": "https://localhost:8080/",
          "height": 282
        },
        "id": "yiVLNSJsGFKY",
        "outputId": "b0a4a18a-2d3f-4dd0-8648-1fe45ef6b77e"
      },
      "execution_count": 29,
      "outputs": [
        {
          "output_type": "execute_result",
          "data": {
            "text/plain": [
              "<matplotlib.image.AxesImage at 0x7f82ccbd6d50>"
            ]
          },
          "metadata": {},
          "execution_count": 29
        },
        {
          "output_type": "display_data",
          "data": {
            "image/png": "[encoded data removed]",
            "text/plain": [
              "<Figure size 432x288 with 1 Axes>"
            ]
          },
          "metadata": {
            "needs_background": "light"
          }
        }
      ]
    },
    {
      "cell_type": "markdown",
      "source": [
        " Video Lecture [part 3](https://www.youtube.com/watch?v=ixathu7U-LQ)"
      ],
      "metadata": {
        "id": "GSlDbPDdHJPh"
      }
    },
    {
      "cell_type": "code",
      "source": [
        "class Net(nn.Module):\n",
        "  def __init__(self):\n",
        "    super().__init__() \n",
        "    # it is super init, when we inherit a class(here nn.Module), \n",
        "    # all the modules except __init__ gets inherited. \n",
        "    # To inherit init, we need to run super init.\n",
        "\n",
        "    self.fc1 = nn.Linear(28*28, 64)\n",
        "    self.fc2 = nn.Linear(64, 64)\n",
        "    self.fc3 = nn.Linear(64, 64)\n",
        "    self.fc4 = nn.Linear(64, 10)\n",
        "\n",
        "  def forward(self, x):\n",
        "    x = F.relu(self.fc1(x))\n",
        "    x = F.relu(self.fc2(x))\n",
        "    x = F.relu(self.fc3(x))\n",
        "    x = self.fc4(x)\n",
        "\n",
        "    x = F.log_softmax(x, dim=1)\n",
        "\n",
        "    return x\n",
        "  \n"
      ],
      "metadata": {
        "id": "IsX66C7hGRHD"
      },
      "execution_count": 36,
      "outputs": []
    },
    {
      "cell_type": "code",
      "source": [
        "model = Net()\n",
        "model"
      ],
      "metadata": {
        "colab": {
          "base_uri": "https://localhost:8080/"
        },
        "id": "UqdM679XH85X",
        "outputId": "c35225da-0747-43f9-d173-72b0d9182314"
      },
      "execution_count": 37,
      "outputs": [
        {
          "output_type": "execute_result",
          "data": {
            "text/plain": [
              "Net(\n",
              "  (fc1): Linear(in_features=784, out_features=64, bias=True)\n",
              "  (fc2): Linear(in_features=64, out_features=64, bias=True)\n",
              "  (fc3): Linear(in_features=64, out_features=64, bias=True)\n",
              "  (fc4): Linear(in_features=64, out_features=10, bias=True)\n",
              ")"
            ]
          },
          "metadata": {},
          "execution_count": 37
        }
      ]
    },
    {
      "cell_type": "code",
      "source": [
        "X = torch.rand(28, 28)\n",
        "X = X.view(-1, 28*28)\n",
        "X"
      ],
      "metadata": {
        "colab": {
          "base_uri": "https://localhost:8080/"
        },
        "id": "S2NcqclBIf-4",
        "outputId": "9dea0465-d8ee-4e04-fe2b-6f8bb16989ce"
      },
      "execution_count": 43,
      "outputs": [
        {
          "output_type": "execute_result",
          "data": {
            "text/plain": [
              "tensor([[4.8375e-01, 4.3093e-01, 6.1175e-01, 6.6400e-02, 8.7043e-01, 4.9010e-01,\n",
              "         8.7874e-02, 6.1928e-01, 6.8185e-01, 3.5659e-01, 3.4046e-01, 8.9581e-01,\n",
              "         4.5237e-01, 3.2934e-01, 4.3950e-01, 9.8231e-01, 4.3344e-01, 3.8098e-01,\n",
              "         1.7410e-01, 6.5759e-02, 2.1618e-01, 5.0892e-01, 3.4862e-01, 1.3892e-01,\n",
              "         5.6840e-01, 2.3629e-01, 7.0535e-01, 6.7345e-01, 9.5796e-01, 2.0652e-01,\n",
              "         1.8248e-01, 9.0689e-01, 2.7551e-01, 5.5825e-01, 9.5325e-01, 8.4207e-01,\n",
              "         9.9741e-02, 5.6083e-01, 6.5099e-01, 5.2958e-01, 5.8352e-01, 6.3929e-01,\n",
              "         3.1705e-01, 8.0729e-02, 6.9918e-01, 9.6237e-01, 8.8567e-01, 1.8222e-01,\n",
              "         1.1202e-01, 4.2491e-01, 7.6613e-01, 8.6070e-01, 8.4191e-01, 5.5662e-01,\n",
              "         8.7660e-01, 1.8016e-01, 7.1399e-01, 3.6755e-01, 2.3062e-02, 1.5622e-01,\n",
              "         8.7286e-01, 4.1150e-01, 8.6966e-01, 8.3215e-01, 4.1634e-01, 3.9656e-01,\n",
              "         1.1805e-01, 9.5348e-01, 8.7143e-02, 2.5360e-02, 6.4005e-01, 8.1341e-01,\n",
              "         6.8517e-01, 5.7196e-01, 2.1789e-01, 8.2991e-01, 6.8903e-01, 2.6602e-01,\n",
              "         8.7380e-01, 5.6073e-01, 3.0554e-01, 6.4506e-01, 8.7678e-01, 8.7763e-01,\n",
              "         6.3063e-01, 3.7851e-02, 9.0902e-01, 4.9803e-01, 5.2552e-01, 4.3807e-01,\n",
              "         8.9834e-01, 8.5055e-01, 4.1631e-01, 9.5158e-01, 4.7872e-01, 6.8019e-01,\n",
              "         8.3195e-01, 8.4671e-01, 3.4101e-01, 2.7664e-03, 1.9271e-02, 4.8682e-01,\n",
              "         5.9626e-01, 3.9075e-01, 9.3711e-02, 9.3763e-01, 1.6500e-01, 9.2836e-01,\n",
              "         6.4540e-01, 7.5544e-01, 2.4556e-01, 4.0053e-01, 7.8725e-01, 5.6460e-01,\n",
              "         5.4183e-01, 7.2202e-01, 8.4732e-01, 4.1839e-01, 3.3498e-01, 9.8717e-01,\n",
              "         7.3705e-01, 7.5299e-04, 5.2996e-01, 6.4762e-01, 2.6338e-01, 5.2873e-01,\n",
              "         2.6279e-01, 2.4237e-01, 2.2265e-01, 1.5572e-01, 8.2716e-01, 6.3785e-01,\n",
              "         2.5367e-01, 1.5624e-01, 4.1099e-01, 9.8222e-01, 4.6332e-01, 7.8250e-01,\n",
              "         5.4507e-01, 4.3047e-01, 4.4087e-01, 8.7621e-01, 8.2048e-01, 5.8374e-01,\n",
              "         8.0943e-01, 8.9317e-01, 7.2452e-01, 7.8847e-01, 8.3305e-01, 1.0640e-01,\n",
              "         4.0426e-01, 4.8891e-01, 8.2856e-01, 8.4993e-01, 5.8410e-01, 2.7553e-01,\n",
              "         5.4069e-01, 6.2685e-01, 1.5103e-01, 4.9315e-01, 7.3346e-01, 2.8517e-01,\n",
              "         3.4372e-01, 8.4757e-01, 7.7582e-01, 9.0508e-01, 2.6066e-01, 8.1571e-01,\n",
              "         9.0463e-01, 5.2281e-01, 5.7850e-01, 6.7040e-01, 7.0432e-01, 3.5975e-01,\n",
              "         7.3032e-01, 4.7521e-01, 4.3526e-01, 3.3858e-01, 8.1640e-01, 8.2947e-01,\n",
              "         4.4385e-01, 9.5220e-01, 5.0741e-01, 1.5967e-01, 9.5218e-01, 5.6274e-01,\n",
              "         2.2605e-01, 4.4237e-01, 9.6387e-01, 7.5676e-01, 5.7271e-01, 8.7271e-01,\n",
              "         9.3194e-01, 7.2657e-01, 2.4747e-01, 3.8500e-01, 5.6797e-01, 2.2765e-01,\n",
              "         4.2617e-01, 7.3344e-01, 6.4418e-02, 3.5401e-01, 2.2205e-01, 1.0553e-02,\n",
              "         1.1410e-01, 3.1329e-01, 3.5534e-01, 5.6243e-01, 3.0814e-02, 8.8935e-01,\n",
              "         1.3364e-01, 4.0694e-02, 3.4918e-01, 7.2520e-01, 5.4496e-01, 6.0838e-01,\n",
              "         4.1733e-01, 2.1885e-01, 8.0189e-01, 4.5881e-01, 4.5170e-01, 9.5233e-01,\n",
              "         5.1016e-01, 7.6096e-01, 6.6325e-01, 8.1721e-01, 2.1040e-01, 5.6645e-02,\n",
              "         8.2769e-01, 2.0719e-01, 3.4791e-01, 8.8668e-01, 8.0961e-01, 4.4558e-01,\n",
              "         6.7301e-01, 1.2103e-02, 1.7151e-01, 2.2912e-01, 3.9153e-01, 2.6788e-01,\n",
              "         3.9086e-01, 5.1688e-01, 6.1912e-01, 9.6231e-01, 8.8701e-01, 6.2388e-01,\n",
              "         4.0739e-01, 7.7956e-01, 7.5158e-01, 7.6075e-01, 4.8015e-01, 9.2961e-01,\n",
              "         4.3788e-01, 8.5509e-02, 8.0875e-01, 2.7940e-01, 5.9167e-01, 1.3913e-01,\n",
              "         1.8636e-01, 7.6811e-01, 8.2259e-01, 8.0589e-01, 6.7893e-01, 4.9799e-01,\n",
              "         5.8717e-01, 9.4675e-01, 8.3063e-01, 3.7104e-01, 5.7041e-01, 1.0146e-01,\n",
              "         7.0946e-02, 2.5086e-01, 6.7193e-01, 3.1972e-01, 1.4755e-01, 4.7943e-02,\n",
              "         8.4741e-01, 2.2048e-01, 4.3321e-01, 3.2277e-01, 6.1516e-01, 2.4366e-01,\n",
              "         6.4419e-01, 2.1539e-02, 8.1783e-01, 1.7578e-01, 9.4648e-01, 4.8215e-02,\n",
              "         5.0377e-01, 4.0253e-01, 4.9306e-01, 6.9405e-01, 6.1704e-01, 6.8482e-01,\n",
              "         8.7602e-01, 7.3281e-01, 4.7228e-01, 8.3623e-01, 9.7283e-01, 9.9540e-01,\n",
              "         6.8028e-01, 3.3010e-01, 7.1397e-02, 9.0048e-01, 1.3143e-01, 3.1419e-02,\n",
              "         7.3768e-01, 5.1584e-01, 6.5126e-01, 1.0362e-01, 9.9659e-01, 8.1236e-01,\n",
              "         3.4881e-02, 4.3843e-01, 1.8091e-01, 4.4429e-01, 8.6893e-01, 5.6807e-01,\n",
              "         3.4871e-01, 6.5766e-01, 9.5520e-01, 6.1422e-01, 2.2168e-01, 8.3562e-01,\n",
              "         5.2024e-01, 5.6792e-01, 8.5849e-01, 7.9936e-01, 8.0583e-01, 9.6816e-01,\n",
              "         1.5461e-01, 2.1078e-01, 5.9207e-01, 7.1599e-01, 2.3420e-01, 1.4307e-01,\n",
              "         6.8324e-01, 8.0551e-01, 6.2351e-01, 6.0264e-02, 9.8331e-01, 6.6677e-01,\n",
              "         7.5451e-01, 8.5181e-01, 4.4267e-01, 9.7600e-01, 5.4426e-01, 3.2790e-01,\n",
              "         8.7207e-02, 7.1036e-01, 8.7177e-01, 2.7386e-01, 8.6697e-02, 8.4169e-01,\n",
              "         3.7382e-01, 9.5786e-01, 5.7945e-01, 3.1660e-01, 4.3616e-02, 6.7518e-01,\n",
              "         6.7201e-01, 4.1371e-01, 8.6100e-01, 3.7184e-01, 4.4779e-01, 3.7045e-01,\n",
              "         4.9397e-01, 2.7344e-01, 9.9088e-01, 7.9560e-01, 5.4456e-01, 8.1690e-01,\n",
              "         2.3046e-01, 2.3251e-01, 6.5564e-01, 1.3414e-02, 5.5965e-02, 7.3396e-01,\n",
              "         1.9630e-01, 4.3992e-01, 2.5276e-01, 3.0310e-01, 9.5962e-01, 1.5023e-01,\n",
              "         3.4923e-01, 5.4741e-01, 3.9779e-01, 2.3636e-01, 4.3030e-01, 5.7881e-01,\n",
              "         9.0258e-01, 6.8764e-01, 1.3277e-01, 9.0885e-02, 2.5872e-01, 1.6083e-01,\n",
              "         7.2344e-01, 8.7288e-01, 9.2015e-01, 4.3808e-01, 2.3742e-01, 5.5610e-01,\n",
              "         8.5029e-01, 9.9712e-01, 9.1073e-01, 9.8518e-01, 4.9101e-01, 9.0311e-02,\n",
              "         8.5407e-01, 6.8124e-01, 2.0079e-01, 7.3829e-01, 2.0370e-01, 5.1493e-01,\n",
              "         1.9948e-01, 4.3649e-01, 3.1932e-01, 5.1976e-01, 1.2273e-01, 4.6442e-01,\n",
              "         5.3157e-01, 6.4074e-01, 2.8430e-01, 2.3607e-01, 1.2318e-01, 6.1939e-01,\n",
              "         7.3477e-01, 9.8707e-01, 5.7623e-01, 4.4567e-02, 6.8373e-02, 7.7727e-01,\n",
              "         4.4310e-01, 5.2260e-01, 8.2215e-01, 9.8219e-01, 7.5315e-01, 5.4180e-01,\n",
              "         5.7070e-01, 6.4493e-01, 4.2892e-01, 3.7235e-01, 7.9972e-01, 1.4403e-02,\n",
              "         5.5420e-01, 9.7998e-01, 3.0037e-01, 9.8693e-01, 8.1534e-01, 4.4678e-01,\n",
              "         2.0892e-01, 8.7022e-02, 6.8522e-01, 3.2737e-02, 4.2882e-01, 6.1083e-01,\n",
              "         7.9889e-01, 2.4009e-01, 3.7895e-02, 6.9636e-01, 9.1963e-01, 7.5031e-01,\n",
              "         9.7513e-01, 1.5737e-02, 2.0870e-01, 9.9820e-01, 7.7804e-01, 7.2788e-01,\n",
              "         5.5795e-01, 2.4046e-01, 4.8628e-01, 3.4537e-01, 1.4827e-01, 1.7910e-01,\n",
              "         6.0902e-01, 8.1403e-01, 3.8838e-01, 2.4650e-01, 7.2018e-01, 4.7424e-01,\n",
              "         3.4906e-02, 6.4601e-01, 3.5256e-01, 8.4011e-01, 4.7312e-01, 8.9678e-01,\n",
              "         3.2577e-01, 2.0320e-01, 8.8025e-01, 8.2114e-01, 9.6983e-01, 2.2683e-01,\n",
              "         3.6401e-01, 1.1932e-01, 1.2524e-01, 4.3571e-01, 5.4655e-01, 5.2692e-01,\n",
              "         1.8506e-01, 9.0191e-01, 1.9195e-02, 5.7385e-01, 2.2813e-01, 4.8120e-01,\n",
              "         7.9514e-01, 1.0608e-01, 5.5265e-01, 8.5071e-01, 6.8324e-01, 4.7930e-01,\n",
              "         6.9753e-01, 7.7778e-01, 8.1345e-01, 1.5717e-01, 7.1720e-01, 2.1779e-01,\n",
              "         9.8144e-01, 2.4146e-01, 4.4646e-02, 7.9209e-02, 6.7769e-01, 1.1836e-01,\n",
              "         4.7221e-01, 5.0371e-01, 7.0081e-01, 7.9701e-01, 7.4111e-01, 3.3376e-01,\n",
              "         2.8237e-01, 5.9030e-01, 7.2216e-01, 4.0233e-01, 4.7600e-01, 2.4879e-01,\n",
              "         9.1219e-01, 8.6545e-02, 8.7805e-01, 5.9138e-01, 8.1831e-01, 2.2394e-01,\n",
              "         2.2211e-01, 2.5363e-01, 7.9085e-01, 4.9926e-02, 8.0958e-01, 8.8605e-01,\n",
              "         5.5850e-01, 1.5457e-01, 6.7801e-01, 7.1875e-01, 7.3852e-01, 9.8186e-02,\n",
              "         9.5343e-01, 2.8160e-01, 7.6463e-01, 3.2477e-01, 4.6097e-01, 8.0184e-01,\n",
              "         9.8229e-01, 9.9283e-01, 1.1783e-01, 1.8861e-01, 2.3763e-01, 4.3331e-01,\n",
              "         2.8813e-01, 8.5042e-01, 8.6671e-01, 3.2146e-01, 4.8907e-01, 5.9568e-01,\n",
              "         5.1349e-01, 3.2846e-01, 7.3902e-01, 6.9846e-01, 5.6355e-01, 6.8334e-01,\n",
              "         1.3129e-01, 1.2387e-01, 9.3247e-01, 5.7611e-01, 2.7825e-01, 6.0212e-01,\n",
              "         4.0094e-02, 3.7710e-01, 5.0269e-01, 4.6772e-01, 4.5154e-01, 8.9625e-01,\n",
              "         8.7615e-01, 3.7989e-01, 8.1110e-01, 3.5416e-01, 9.1086e-01, 2.2339e-01,\n",
              "         8.5609e-01, 5.0668e-01, 3.2688e-01, 7.6840e-01, 4.0018e-01, 2.0791e-01,\n",
              "         9.1243e-01, 3.2546e-01, 6.2913e-01, 5.6452e-01, 6.0819e-01, 6.9645e-01,\n",
              "         3.5252e-01, 3.1208e-01, 6.2774e-01, 8.6081e-01, 1.4239e-01, 4.0300e-01,\n",
              "         8.2161e-01, 9.3050e-01, 4.6740e-01, 6.1335e-01, 5.0670e-01, 3.2372e-01,\n",
              "         3.4548e-01, 5.7671e-01, 6.9719e-02, 4.4583e-01, 5.4243e-01, 1.7469e-01,\n",
              "         2.8079e-01, 4.0664e-02, 6.9030e-01, 3.4311e-01, 5.8434e-01, 9.7021e-02,\n",
              "         4.9929e-01, 6.7160e-01, 7.1011e-01, 5.7782e-01, 4.1819e-01, 1.8096e-01,\n",
              "         1.4009e-01, 4.4655e-01, 2.6235e-01, 3.1252e-01, 7.9366e-01, 9.3631e-01,\n",
              "         4.5460e-01, 3.3192e-01, 3.4881e-01, 9.9244e-01, 6.0278e-03, 5.5912e-01,\n",
              "         4.8988e-01, 5.2508e-01, 6.1904e-01, 6.9298e-01, 2.1011e-01, 8.5949e-01,\n",
              "         4.4581e-01, 3.6418e-01, 4.1237e-01, 7.8431e-02, 8.6080e-01, 9.3173e-01,\n",
              "         3.6090e-01, 4.9029e-01, 3.7979e-01, 1.5632e-01, 5.9077e-01, 4.0082e-01,\n",
              "         2.0403e-01, 6.4664e-01, 9.5523e-01, 4.0668e-02, 6.1790e-01, 9.9282e-01,\n",
              "         6.8422e-01, 7.0198e-01, 8.2368e-01, 3.6050e-01, 2.9841e-01, 7.8593e-01,\n",
              "         9.7550e-01, 3.2439e-02, 7.3216e-01, 5.0907e-02, 3.6447e-01, 3.9570e-02,\n",
              "         3.7228e-03, 2.1388e-01, 3.8228e-01, 8.3827e-01, 6.4587e-01, 8.9413e-01,\n",
              "         5.2916e-01, 5.0849e-01, 7.5600e-01, 3.9540e-01, 9.3418e-01, 8.7926e-01,\n",
              "         5.0251e-01, 7.2978e-01, 4.9050e-01, 4.9780e-02, 8.1338e-01, 8.2129e-01,\n",
              "         1.6972e-01, 6.7527e-01, 4.3112e-01, 7.6654e-01, 7.7385e-02, 8.6224e-01,\n",
              "         9.4202e-01, 8.1991e-01, 8.8275e-01, 3.3523e-01, 1.2055e-01, 9.1354e-01,\n",
              "         5.1278e-01, 6.2924e-01, 3.1752e-01, 4.3861e-01, 1.5721e-01, 3.3129e-01,\n",
              "         5.9435e-01, 7.1127e-01, 9.5014e-01, 4.4388e-01, 4.0242e-01, 4.0806e-02,\n",
              "         1.9271e-01, 3.1042e-02, 5.2355e-01, 2.1312e-01, 8.0765e-01, 3.5850e-01,\n",
              "         3.9616e-02, 9.1915e-02, 5.2787e-01, 9.7816e-01, 7.9703e-02, 2.6894e-01,\n",
              "         8.2412e-01, 8.9270e-01, 3.2305e-01, 7.1445e-01, 5.1663e-01, 2.0619e-01,\n",
              "         7.4226e-01, 8.3864e-01, 8.9342e-01, 6.1915e-01, 8.8837e-01, 7.0460e-01,\n",
              "         6.5937e-01, 8.1095e-01, 5.8765e-01, 4.3928e-01, 7.6972e-01, 3.8031e-01,\n",
              "         7.4697e-01, 5.3813e-01, 8.5591e-01, 4.1870e-01, 7.2997e-01, 8.0907e-02,\n",
              "         5.7633e-01, 9.3699e-01, 9.6810e-01, 9.0436e-01, 5.4812e-01, 4.6375e-01,\n",
              "         6.4733e-02, 8.4812e-02, 2.0578e-01, 8.1284e-01, 4.1274e-01, 3.1395e-01,\n",
              "         2.8202e-01, 3.0882e-01, 5.9474e-01, 8.3894e-01, 9.5171e-01, 8.1614e-01,\n",
              "         7.2639e-01, 8.7691e-01, 6.8760e-01, 5.0390e-01]])"
            ]
          },
          "metadata": {},
          "execution_count": 43
        }
      ]
    },
    {
      "cell_type": "code",
      "source": [
        "output = model(X)\n",
        "output.forward()"
      ],
      "metadata": {
        "colab": {
          "base_uri": "https://localhost:8080/",
          "height": 178
        },
        "id": "Z3hkQEIUKhyh",
        "outputId": "5e0b65ba-72c4-4568-e5d6-0fa81641c924"
      },
      "execution_count": 46,
      "outputs": [
        {
          "output_type": "error",
          "ename": "AttributeError",
          "evalue": "ignored",
          "traceback": [
            "\u001b[0;31m---------------------------------------------------------------------------\u001b[0m",
            "\u001b[0;31mAttributeError\u001b[0m                            Traceback (most recent call last)",
            "\u001b[0;32m<ipython-input-46-b55a5b8385c1>\u001b[0m in \u001b[0;36m<module>\u001b[0;34m()\u001b[0m\n\u001b[1;32m      1\u001b[0m \u001b[0moutput\u001b[0m \u001b[0;34m=\u001b[0m \u001b[0mmodel\u001b[0m\u001b[0;34m(\u001b[0m\u001b[0mX\u001b[0m\u001b[0;34m)\u001b[0m\u001b[0;34m\u001b[0m\u001b[0;34m\u001b[0m\u001b[0m\n\u001b[0;32m----> 2\u001b[0;31m \u001b[0moutput\u001b[0m\u001b[0;34m.\u001b[0m\u001b[0mforward\u001b[0m\u001b[0;34m(\u001b[0m\u001b[0;34m)\u001b[0m\u001b[0;34m\u001b[0m\u001b[0;34m\u001b[0m\u001b[0m\n\u001b[0m",
            "\u001b[0;31mAttributeError\u001b[0m: 'Tensor' object has no attribute 'forward'"
          ]
        }
      ]
    },
    {
      "cell_type": "code",
      "source": [
        "output"
      ],
      "metadata": {
        "id": "u-DLY1ogKnlA"
      },
      "execution_count": null,
      "outputs": []
    }
  ]
}