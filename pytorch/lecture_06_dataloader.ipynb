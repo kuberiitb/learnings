{
  "nbformat": 4,
  "nbformat_minor": 0,
  "metadata": {
    "colab": {
      "name": "pytorch/lecture_06_dataloader.ipynb",
      "provenance": [],
      "collapsed_sections": [
        "QHtN2J0roC61"
      ],
      "authorship_tag": "ABX9TyMLiPWDn2d8ZF6PeWcY8LU5",
      "include_colab_link": true
    },
    "kernelspec": {
      "name": "python3",
      "display_name": "Python 3"
    },
    "language_info": {
      "name": "python"
    },
    "accelerator": "GPU"
  },
  "cells": [
    {
      "cell_type": "markdown",
      "metadata": {
        "id": "view-in-github",
        "colab_type": "text"
      },
      "source": [
        "<a href=\"https://colab.research.google.com/github/kuberiitb/learnings/blob/master/pytorch/lecture_06_dataloader.ipynb\" target=\"_parent\"><img src=\"https://colab.research.google.com/assets/colab-badge.svg\" alt=\"Open In Colab\"/></a>"
      ]
    },
    {
      "cell_type": "markdown",
      "source": [
        "# Learnings from [Abhishek Thakur Pytoch Series](https://www.youtube.com/watch?v=_R-mvKBD5U8&list=PL98nY_tJQXZln8spB5uTZdKN08mYGkOf2&index=6)"
      ],
      "metadata": {
        "id": "0HMsltSXKh0L"
      }
    },
    {
      "cell_type": "code",
      "execution_count": 29,
      "metadata": {
        "id": "CzLw2t8YKIsx"
      },
      "outputs": [],
      "source": [
        "import torch "
      ]
    },
    {
      "cell_type": "code",
      "source": [
        "torch.cuda.is_available()"
      ],
      "metadata": {
        "colab": {
          "base_uri": "https://localhost:8080/"
        },
        "id": "Bz_DAznzKtyZ",
        "outputId": "d54fa96e-407c-4588-b7a9-56d732ba963b"
      },
      "execution_count": 30,
      "outputs": [
        {
          "output_type": "execute_result",
          "data": {
            "text/plain": [
              "True"
            ]
          },
          "metadata": {},
          "execution_count": 30
        }
      ]
    },
    {
      "cell_type": "code",
      "source": [
        "!nvidia-smi"
      ],
      "metadata": {
        "colab": {
          "base_uri": "https://localhost:8080/"
        },
        "id": "7JmP75ViLIZG",
        "outputId": "d3a334e4-baa3-4a0f-e7a4-7eb30f369de7"
      },
      "execution_count": 31,
      "outputs": [
        {
          "output_type": "stream",
          "name": "stdout",
          "text": [
            "Thu Feb  3 08:24:20 2022       \n",
            "+-----------------------------------------------------------------------------+\n",
            "| NVIDIA-SMI 460.32.03    Driver Version: 460.32.03    CUDA Version: 11.2     |\n",
            "|-------------------------------+----------------------+----------------------+\n",
            "| GPU  Name        Persistence-M| Bus-Id        Disp.A | Volatile Uncorr. ECC |\n",
            "| Fan  Temp  Perf  Pwr:Usage/Cap|         Memory-Usage | GPU-Util  Compute M. |\n",
            "|                               |                      |               MIG M. |\n",
            "|===============================+======================+======================|\n",
            "|   0  Tesla T4            Off  | 00000000:00:04.0 Off |                    0 |\n",
            "| N/A   32C    P8     9W /  70W |      3MiB / 15109MiB |      0%      Default |\n",
            "|                               |                      |                  N/A |\n",
            "+-------------------------------+----------------------+----------------------+\n",
            "                                                                               \n",
            "+-----------------------------------------------------------------------------+\n",
            "| Processes:                                                                  |\n",
            "|  GPU   GI   CI        PID   Type   Process name                  GPU Memory |\n",
            "|        ID   ID                                                   Usage      |\n",
            "|=============================================================================|\n",
            "|  No running processes found                                                 |\n",
            "+-----------------------------------------------------------------------------+\n"
          ]
        }
      ]
    },
    {
      "cell_type": "markdown",
      "source": [
        "## For tablular data "
      ],
      "metadata": {
        "id": "QHtN2J0roC61"
      }
    },
    {
      "cell_type": "markdown",
      "source": [
        "# Dataloader class\n",
        "Create a class\n",
        "\n",
        "using dataset class\n",
        "\n",
        "Create from scratch"
      ],
      "metadata": {
        "id": "1HAKy3v3fOsJ"
      }
    },
    {
      "cell_type": "markdown",
      "source": [
        "## Contents of class\n",
        "## tabular data, 2 D\n",
        "__init__: data, targets\n",
        "\n",
        "__len__: \n",
        "\n",
        "__getitems__: idx, retrun dict of tensors with keys sample, target\n",
        "\n"
      ],
      "metadata": {
        "id": "Zfu2lVDnh0Pt"
      }
    },
    {
      "cell_type": "code",
      "source": [
        ""
      ],
      "metadata": {
        "id": "rN8nQilJlTFv"
      },
      "execution_count": 4,
      "outputs": []
    },
    {
      "cell_type": "code",
      "source": [
        "class CustomDataSet:\n",
        "  def __init__(self, data, targets):\n",
        "    self.data = data\n",
        "    self.targets = targets\n",
        "\n",
        "  def __len__(self):\n",
        "    return self.data.shape[0]\n",
        "  \n",
        "  def __getitem__(self, idx):\n",
        "    current_sample = self.data[idx]\n",
        "    current_target = self.targets[idx]\n",
        "\n",
        "    return {\n",
        "        \"x\": torch.tensor(current_sample, dtype = torch.float), \n",
        "        \"y\": torch.tensor(current_target, dtype = torch.long),\n",
        "    }"
      ],
      "metadata": {
        "id": "IgB5xIBqhdLL"
      },
      "execution_count": 32,
      "outputs": []
    },
    {
      "cell_type": "code",
      "source": [
        "from sklearn.datasets import make_classification"
      ],
      "metadata": {
        "id": "U4CDs_xljUEb"
      },
      "execution_count": 33,
      "outputs": []
    },
    {
      "cell_type": "code",
      "source": [
        "# default n_samples=100, n_features=20, n_classes=2\n",
        "# returns x, y\n",
        "data, targets = make_classification(n_samples=1000, n_classes=2)"
      ],
      "metadata": {
        "id": "Eeg0sNBejpxu"
      },
      "execution_count": 34,
      "outputs": []
    },
    {
      "cell_type": "code",
      "source": [
        "dataset = CustomDataSet(data=data,  targets=targets)"
      ],
      "metadata": {
        "id": "eKmt1w1YkOeo"
      },
      "execution_count": 35,
      "outputs": []
    },
    {
      "cell_type": "code",
      "source": [
        "len(dataset)"
      ],
      "metadata": {
        "colab": {
          "base_uri": "https://localhost:8080/"
        },
        "id": "GzxvIQmfkoq9",
        "outputId": "c6279b94-e026-42b5-971c-96003d41b138"
      },
      "execution_count": 36,
      "outputs": [
        {
          "output_type": "execute_result",
          "data": {
            "text/plain": [
              "1000"
            ]
          },
          "metadata": {},
          "execution_count": 36
        }
      ]
    },
    {
      "cell_type": "markdown",
      "source": [
        "## DataLoader"
      ],
      "metadata": {
        "id": "fWkDgVJrtFbw"
      }
    },
    {
      "cell_type": "code",
      "source": [
        "? torch.utils.data.DataLoader"
      ],
      "metadata": {
        "id": "2E9nUMhktEbS"
      },
      "execution_count": 52,
      "outputs": []
    },
    {
      "cell_type": "markdown",
      "source": [
        "### collate_fn \n",
        "### sampler"
      ],
      "metadata": {
        "id": "k2OciWIQu9VR"
      }
    },
    {
      "cell_type": "code",
      "source": [
        "train_loader = torch.utils.data.DataLoader(dataset, batch_size=4, num_workers=2)"
      ],
      "metadata": {
        "id": "YJtwZxs0tEZF"
      },
      "execution_count": 47,
      "outputs": []
    },
    {
      "cell_type": "code",
      "source": [
        "train_loader[1] # not subscriptable"
      ],
      "metadata": {
        "colab": {
          "base_uri": "https://localhost:8080/",
          "height": 162
        },
        "id": "Slcmf8BItEUQ",
        "outputId": "42fe911a-fd72-4288-f910-6d64e68b8243"
      },
      "execution_count": 48,
      "outputs": [
        {
          "output_type": "error",
          "ename": "TypeError",
          "evalue": "ignored",
          "traceback": [
            "\u001b[0;31m---------------------------------------------------------------------------\u001b[0m",
            "\u001b[0;31mTypeError\u001b[0m                                 Traceback (most recent call last)",
            "\u001b[0;32m<ipython-input-48-b7c639043752>\u001b[0m in \u001b[0;36m<module>\u001b[0;34m()\u001b[0m\n\u001b[0;32m----> 1\u001b[0;31m \u001b[0mtrain_loader\u001b[0m\u001b[0;34m[\u001b[0m\u001b[0;36m1\u001b[0m\u001b[0;34m]\u001b[0m \u001b[0;31m# not subscriptable\u001b[0m\u001b[0;34m\u001b[0m\u001b[0;34m\u001b[0m\u001b[0m\n\u001b[0m",
            "\u001b[0;31mTypeError\u001b[0m: 'DataLoader' object is not subscriptable"
          ]
        }
      ]
    },
    {
      "cell_type": "code",
      "source": [
        "next(train_loader) # not iterable"
      ],
      "metadata": {
        "colab": {
          "base_uri": "https://localhost:8080/",
          "height": 162
        },
        "id": "U0qYxeRPuBJd",
        "outputId": "ac23cad3-5e5e-4b9f-c35d-4108aaebca36"
      },
      "execution_count": 49,
      "outputs": [
        {
          "output_type": "error",
          "ename": "TypeError",
          "evalue": "ignored",
          "traceback": [
            "\u001b[0;31m---------------------------------------------------------------------------\u001b[0m",
            "\u001b[0;31mTypeError\u001b[0m                                 Traceback (most recent call last)",
            "\u001b[0;32m<ipython-input-49-907d568a0096>\u001b[0m in \u001b[0;36m<module>\u001b[0;34m()\u001b[0m\n\u001b[0;32m----> 1\u001b[0;31m \u001b[0mnext\u001b[0m\u001b[0;34m(\u001b[0m\u001b[0mtrain_loader\u001b[0m\u001b[0;34m)\u001b[0m \u001b[0;31m# not iterable\u001b[0m\u001b[0;34m\u001b[0m\u001b[0;34m\u001b[0m\u001b[0m\n\u001b[0m",
            "\u001b[0;31mTypeError\u001b[0m: 'DataLoader' object is not an iterator"
          ]
        }
      ]
    },
    {
      "cell_type": "code",
      "source": [
        "for data in train_loader:\n",
        "  print(data)\n",
        "\n",
        "  print(data[\"x\"].shape)\n",
        "  print(data[\"y\"].shape)\n",
        "  break"
      ],
      "metadata": {
        "colab": {
          "base_uri": "https://localhost:8080/"
        },
        "id": "AjWTsD99tEWl",
        "outputId": "c0ed85a4-9945-4107-c54f-47c33fb561eb"
      },
      "execution_count": 51,
      "outputs": [
        {
          "output_type": "stream",
          "name": "stdout",
          "text": [
            "{'x': tensor([[-0.7112, -1.4143, -1.7663,  0.6193, -0.4429,  0.3240, -0.1540,  0.0424,\n",
            "          0.3970, -0.0446, -1.0476,  0.6504, -0.5938,  0.9461, -1.0958, -0.7547,\n",
            "         -0.4263,  0.7478,  0.0394,  1.1984],\n",
            "        [ 0.3997, -1.8340,  0.1938, -1.4806,  0.7702,  1.3765,  0.2822,  1.0088,\n",
            "         -0.1866, -0.1264,  0.6446, -1.4745, -0.7940, -0.5016,  1.3301,  1.1112,\n",
            "          0.8916, -0.9186,  0.4399,  0.4193],\n",
            "        [-1.4739, -2.0799, -1.0991, -0.4667,  0.2900,  1.3202,  0.7466,  0.6377,\n",
            "          0.8754,  0.4823, -0.2940, -0.2908, -1.0264, -0.1653, -0.1684,  1.2789,\n",
            "         -0.5361, -0.5070, -0.6546,  0.1130],\n",
            "        [ 0.4568,  1.7307,  1.4440, -0.0984, -1.4656,  0.2652, -0.3637, -0.3273,\n",
            "          0.3351, -0.7880,  0.3405, -1.3148,  0.6119, -0.0570,  0.7841, -1.6616,\n",
            "          0.6084,  0.4132,  0.9665,  1.1976]]), 'y': tensor([0, 0, 0, 1])}\n",
            "torch.Size([4, 20])\n",
            "torch.Size([4])\n"
          ]
        }
      ]
    },
    {
      "cell_type": "markdown",
      "source": [
        "# Training model using dataloader"
      ],
      "metadata": {
        "id": "r-DUxCb6vO1G"
      }
    },
    {
      "cell_type": "code",
      "source": [
        "for _ in range(10):\n",
        "  # in each epoch\n",
        "  for data in train_loader:\n",
        "    x = data[\"x\"]\n",
        "    y = data[\"y\"]\n",
        "    output = model.fit(x, y)\n",
        "    # loss\n",
        "    # optimizer \n",
        "    # "
      ],
      "metadata": {
        "id": "ciZ6nJs7tERp"
      },
      "execution_count": 49,
      "outputs": []
    }
  ]
}