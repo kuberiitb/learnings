{
  "nbformat": 4,
  "nbformat_minor": 0,
  "metadata": {
    "colab": {
      "name": "pytorch/lecture_11_build_models_sentdex",
      "provenance": [],
      "authorship_tag": "ABX9TyOSJbpwQJUNWDTuHjh/uyc/",
      "include_colab_link": true
    },
    "kernelspec": {
      "name": "python3",
      "display_name": "Python 3"
    },
    "language_info": {
      "name": "python"
    },
    "accelerator": "GPU"
  },
  "cells": [
    {
      "cell_type": "markdown",
      "metadata": {
        "id": "view-in-github",
        "colab_type": "text"
      },
      "source": [
        "<a href=\"https://colab.research.google.com/github/kuberiitb/learnings/blob/master/pytorch/sentdex_p2_data.ipynb\" target=\"_parent\"><img src=\"https://colab.research.google.com/assets/colab-badge.svg\" alt=\"Open In Colab\"/></a>"
      ]
    },
    {
      "cell_type": "markdown",
      "source": [
        "## Based on Video [Sentdex](https://www.youtube.com/watch?v=i2yPxY2rOzs)"
      ],
      "metadata": {
        "id": "VUgpTUVwDS5G"
      }
    },
    {
      "cell_type": "code",
      "execution_count": null,
      "metadata": {
        "id": "ncYflE4dj9cv"
      },
      "outputs": [],
      "source": [
        "import torch\n",
        "import torchvision\n",
        "from torchvision import transforms, datasets\n",
        "import torch.nn as nn\n",
        "import torch.nn.functional as F"
      ]
    },
    {
      "cell_type": "markdown",
      "source": [
        "# Building Model class"
      ],
      "metadata": {
        "id": "-WIh0aHwketW"
      }
    },
    {
      "cell_type": "code",
      "source": [
        "train = datasets.MNIST(\"\", train=True, download=True, \n",
        "                       transform = transforms.Compose([transforms.ToTensor()])\n",
        "                       )\n",
        "test  = datasets.MNIST(\"\", train=False, download=True, \n",
        "                       transform = transforms.Compose([transforms.ToTensor()])\n",
        "                       )"
      ],
      "metadata": {
        "id": "9og1NFO0kaKQ"
      },
      "execution_count": null,
      "outputs": []
    },
    {
      "cell_type": "markdown",
      "source": [
        "Making DataLoader for one batch a time."
      ],
      "metadata": {
        "id": "wLfXHItRFbN9"
      }
    },
    {
      "cell_type": "code",
      "source": [
        "trainset = torch.utils.data.DataLoader(train, batch_size = 10, shuffle = True)\n",
        "testset = torch.utils.data.DataLoader(test, batch_size = 10, shuffle = True)"
      ],
      "metadata": {
        "id": "C5z2FRbVlB8j"
      },
      "execution_count": null,
      "outputs": []
    },
    {
      "cell_type": "code",
      "source": [
        "for data in trainset:\n",
        "  print(len(data))\n",
        "  break"
      ],
      "metadata": {
        "colab": {
          "base_uri": "https://localhost:8080/"
        },
        "id": "Jeq8Q2r4FWR6",
        "outputId": "10d0da76-d951-47ef-ba64-cb4e04dc7971"
      },
      "execution_count": null,
      "outputs": [
        {
          "output_type": "stream",
          "name": "stdout",
          "text": [
            "2\n"
          ]
        }
      ]
    },
    {
      "cell_type": "code",
      "source": [
        "x, y  = data[0][0], data[1][0]"
      ],
      "metadata": {
        "id": "ZV5JBrA7Fzcs"
      },
      "execution_count": null,
      "outputs": []
    },
    {
      "cell_type": "code",
      "source": [
        "import matplotlib.pyplot as plt"
      ],
      "metadata": {
        "id": "oxPd7VM_GDY5"
      },
      "execution_count": null,
      "outputs": []
    },
    {
      "cell_type": "code",
      "source": [
        "plt.imshow(x[0])"
      ],
      "metadata": {
        "colab": {
          "base_uri": "https://localhost:8080/",
          "height": 282
        },
        "id": "yiVLNSJsGFKY",
        "outputId": "b0a4a18a-2d3f-4dd0-8648-1fe45ef6b77e"
      },
      "execution_count": null,
      "outputs": [
        {
          "output_type": "execute_result",
          "data": {
            "text/plain": [
              "<matplotlib.image.AxesImage at 0x7f82ccbd6d50>"
            ]
          },
          "metadata": {},
          "execution_count": 29
        },
        {
          "output_type": "display_data",
          "data": {
            "image/png": "[encoded data removed]",
            "text/plain": [
              "<Figure size 432x288 with 1 Axes>"
            ]
          },
          "metadata": {
            "needs_background": "light"
          }
        }
      ]
    },
    {
      "cell_type": "markdown",
      "source": [
        " Video Lecture [part 3](https://www.youtube.com/watch?v=ixathu7U-LQ)"
      ],
      "metadata": {
        "id": "GSlDbPDdHJPh"
      }
    },
    {
      "cell_type": "code",
      "source": [
        "class Net(nn.Module):\n",
        "  def __init__(self):\n",
        "    super().__init__() \n",
        "    # it is super init, when we inherit a class(here nn.Module), \n",
        "    # all the modules except __init__ gets inherited. \n",
        "    # To inherit init, we need to run super init.\n",
        "\n",
        "    self.fc1 = nn.Linear(28*28, 64)\n",
        "    self.fc2 = nn.Linear(64, 64)\n",
        "    self.fc3 = nn.Linear(64, 64)\n",
        "    self.fc4 = nn.Linear(64, 10)\n",
        "\n",
        "  def forward(self, x):\n",
        "    x = F.relu(self.fc1(x))\n",
        "    x = F.relu(self.fc2(x))\n",
        "    x = F.relu(self.fc3(x))\n",
        "    x = self.fc4(x)\n",
        "\n",
        "    x = F.log_softmax(x, dim=1)\n",
        "\n",
        "    return x\n",
        "  \n"
      ],
      "metadata": {
        "id": "IsX66C7hGRHD"
      },
      "execution_count": null,
      "outputs": []
    },
    {
      "cell_type": "code",
      "source": [
        "model = Net()\n",
        "model"
      ],
      "metadata": {
        "colab": {
          "base_uri": "https://localhost:8080/"
        },
        "id": "UqdM679XH85X",
        "outputId": "c35225da-0747-43f9-d173-72b0d9182314"
      },
      "execution_count": null,
      "outputs": [
        {
          "output_type": "execute_result",
          "data": {
            "text/plain": [
              "Net(\n",
              "  (fc1): Linear(in_features=784, out_features=64, bias=True)\n",
              "  (fc2): Linear(in_features=64, out_features=64, bias=True)\n",
              "  (fc3): Linear(in_features=64, out_features=64, bias=True)\n",
              "  (fc4): Linear(in_features=64, out_features=10, bias=True)\n",
              ")"
            ]
          },
          "metadata": {},
          "execution_count": 37
        }
      ]
    },
    {
      "cell_type": "code",
      "source": [
        "X = torch.rand(28, 28)\n",
        "X = X.view(-1, 28*28)\n"
      ],
      "metadata": {
        "id": "S2NcqclBIf-4"
      },
      "execution_count": null,
      "outputs": []
    },
    {
      "cell_type": "code",
      "source": [
        "output = model(X)\n",
        "output"
      ],
      "metadata": {
        "colab": {
          "base_uri": "https://localhost:8080/"
        },
        "id": "Z3hkQEIUKhyh",
        "outputId": "324b8cb7-548e-4b29-e0ac-abd34b9d360c"
      },
      "execution_count": null,
      "outputs": [
        {
          "output_type": "execute_result",
          "data": {
            "text/plain": [
              "tensor([[-2.2257, -2.1884, -2.2597, -2.2513, -2.4032, -2.2709, -2.4168, -2.3767,\n",
              "         -2.3492, -2.3114]], grad_fn=<LogSoftmaxBackward0>)"
            ]
          },
          "metadata": {},
          "execution_count": 48
        }
      ]
    },
    {
      "cell_type": "code",
      "source": [
        "optimizer = torch.optim.Adam(model.parameters(), lr=0.001)\n",
        "\n",
        "EPOCHS = 3\n",
        "\n",
        "for _ in range(EPOCHS):\n",
        "  for data in trainset:\n",
        "    X, y = data\n",
        "    model.zero_grad()\n",
        "    output = model(X.view(-1, 28*28))\n",
        "    loss = F.nll_loss(output, y) \n",
        "    # if data is one hot [0,1,0,0,0..] use mean sqrd error as loss\n",
        "    # if data is scaler like [4], use nll_loss.\n",
        "    loss.backward() \n",
        "    # Can you handcode backward? Yes, iterate over model.parameters() and calculate delta and compute as per adam\n",
        "    optimizer.step()\n",
        "  print(loss)\n"
      ],
      "metadata": {
        "colab": {
          "base_uri": "https://localhost:8080/"
        },
        "id": "u-DLY1ogKnlA",
        "outputId": "67c80873-f8b1-4df6-b828-0de7a4d635c8"
      },
      "execution_count": null,
      "outputs": [
        {
          "output_type": "stream",
          "name": "stdout",
          "text": [
            "tensor(0.4284, grad_fn=<NllLossBackward0>)\n",
            "tensor(0.0355, grad_fn=<NllLossBackward0>)\n",
            "tensor(0.0050, grad_fn=<NllLossBackward0>)\n"
          ]
        }
      ]
    },
    {
      "cell_type": "code",
      "source": [
        "total = 0\n",
        "correct = 0\n",
        "\n",
        "with torch.no_grad():\n",
        "  for data in trainset:\n",
        "    X, y = data\n",
        "    output = model(X.view(-1, 28*28))\n",
        "    for idx, i  in enumerate(output):\n",
        "      if torch.argmax(i)==y[idx]:\n",
        "        correct += 1\n",
        "      total += 1\n",
        "    print(total, correct)\n"
      ],
      "metadata": {
        "id": "A1Ltx6YpM1Pv"
      },
      "execution_count": null,
      "outputs": []
    },
    {
      "cell_type": "code",
      "source": [
        "print(\"Accuracy\", round(correct/total,4))"
      ],
      "metadata": {
        "colab": {
          "base_uri": "https://localhost:8080/"
        },
        "id": "cvmTmF6cM5GT",
        "outputId": "9684663c-1338-4a30-c45b-87ad3423fce3"
      },
      "execution_count": null,
      "outputs": [
        {
          "output_type": "stream",
          "name": "stdout",
          "text": [
            "Accuracy 0.9805\n"
          ]
        }
      ]
    },
    {
      "cell_type": "code",
      "source": [
        "idx = 2\n",
        "plt.imshow(X[idx].view(28,28))"
      ],
      "metadata": {
        "colab": {
          "base_uri": "https://localhost:8080/",
          "height": 282
        },
        "id": "waM1zvukQgKx",
        "outputId": "478a385e-059b-4aec-d827-04560ec04660"
      },
      "execution_count": null,
      "outputs": [
        {
          "output_type": "execute_result",
          "data": {
            "text/plain": [
              "<matplotlib.image.AxesImage at 0x7f82cc936590>"
            ]
          },
          "metadata": {},
          "execution_count": 83
        },
        {
          "output_type": "display_data",
          "data": {
            "image/png": "[encoded data removed]",
            "text/plain": [
              "<Figure size 432x288 with 1 Axes>"
            ]
          },
          "metadata": {
            "needs_background": "light"
          }
        }
      ]
    },
    {
      "cell_type": "code",
      "source": [
        "torch.argmax(model(X[idx].view(-1,28*28)))"
      ],
      "metadata": {
        "colab": {
          "base_uri": "https://localhost:8080/"
        },
        "id": "n25wnllBQ_Y5",
        "outputId": "066e996e-d390-49c7-fc9b-fec2501b8cf9"
      },
      "execution_count": null,
      "outputs": [
        {
          "output_type": "execute_result",
          "data": {
            "text/plain": [
              "tensor(6)"
            ]
          },
          "metadata": {},
          "execution_count": 84
        }
      ]
    },
    {
      "cell_type": "code",
      "source": [],
      "metadata": {
        "id": "h_NOqaexRJY5"
      },
      "execution_count": null,
      "outputs": []
    },
    {
      "cell_type": "code",
      "source": [],
      "metadata": {
        "id": "wQQCkebpRxvl"
      },
      "execution_count": null,
      "outputs": []
    }
  ]
}