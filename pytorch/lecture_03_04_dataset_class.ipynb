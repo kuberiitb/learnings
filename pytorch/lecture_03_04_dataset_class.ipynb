{
  "nbformat": 4,
  "nbformat_minor": 0,
  "metadata": {
    "colab": {
      "name": "pytorch/lecture_03_04_dataset_class.ipynb",
      "provenance": [],
      "collapsed_sections": [
        "QHtN2J0roC61"
      ],
      "authorship_tag": "ABX9TyO5hncp7WnlIrLHLlzHgDpA",
      "include_colab_link": true
    },
    "kernelspec": {
      "name": "python3",
      "display_name": "Python 3"
    },
    "language_info": {
      "name": "python"
    },
    "accelerator": "GPU"
  },
  "cells": [
    {
      "cell_type": "markdown",
      "metadata": {
        "id": "view-in-github",
        "colab_type": "text"
      },
      "source": [
        "<a href=\"https://colab.research.google.com/github/kuberiitb/learnings/blob/master/pytorch/lecture_03_04_dataset_class.ipynb\" target=\"_parent\"><img src=\"https://colab.research.google.com/assets/colab-badge.svg\" alt=\"Open In Colab\"/></a>"
      ]
    },
    {
      "cell_type": "markdown",
      "source": [
        "# Learnings from [Abhishek Thakur Pytoch Series](https://www.youtube.com/watch?v=_R-mvKBD5U8&list=PL98nY_tJQXZln8spB5uTZdKN08mYGkOf2&index=3)"
      ],
      "metadata": {
        "id": "0HMsltSXKh0L"
      }
    },
    {
      "cell_type": "code",
      "execution_count": 29,
      "metadata": {
        "id": "CzLw2t8YKIsx"
      },
      "outputs": [],
      "source": [
        "import torch "
      ]
    },
    {
      "cell_type": "code",
      "source": [
        "torch.cuda.is_available()"
      ],
      "metadata": {
        "colab": {
          "base_uri": "https://localhost:8080/"
        },
        "id": "Bz_DAznzKtyZ",
        "outputId": "d54fa96e-407c-4588-b7a9-56d732ba963b"
      },
      "execution_count": 30,
      "outputs": [
        {
          "output_type": "execute_result",
          "data": {
            "text/plain": [
              "True"
            ]
          },
          "metadata": {},
          "execution_count": 30
        }
      ]
    },
    {
      "cell_type": "code",
      "source": [
        "!nvidia-smi"
      ],
      "metadata": {
        "colab": {
          "base_uri": "https://localhost:8080/"
        },
        "id": "7JmP75ViLIZG",
        "outputId": "d3a334e4-baa3-4a0f-e7a4-7eb30f369de7"
      },
      "execution_count": 31,
      "outputs": [
        {
          "output_type": "stream",
          "name": "stdout",
          "text": [
            "Thu Feb  3 08:24:20 2022       \n",
            "+-----------------------------------------------------------------------------+\n",
            "| NVIDIA-SMI 460.32.03    Driver Version: 460.32.03    CUDA Version: 11.2     |\n",
            "|-------------------------------+----------------------+----------------------+\n",
            "| GPU  Name        Persistence-M| Bus-Id        Disp.A | Volatile Uncorr. ECC |\n",
            "| Fan  Temp  Perf  Pwr:Usage/Cap|         Memory-Usage | GPU-Util  Compute M. |\n",
            "|                               |                      |               MIG M. |\n",
            "|===============================+======================+======================|\n",
            "|   0  Tesla T4            Off  | 00000000:00:04.0 Off |                    0 |\n",
            "| N/A   32C    P8     9W /  70W |      3MiB / 15109MiB |      0%      Default |\n",
            "|                               |                      |                  N/A |\n",
            "+-------------------------------+----------------------+----------------------+\n",
            "                                                                               \n",
            "+-----------------------------------------------------------------------------+\n",
            "| Processes:                                                                  |\n",
            "|  GPU   GI   CI        PID   Type   Process name                  GPU Memory |\n",
            "|        ID   ID                                                   Usage      |\n",
            "|=============================================================================|\n",
            "|  No running processes found                                                 |\n",
            "+-----------------------------------------------------------------------------+\n"
          ]
        }
      ]
    },
    {
      "cell_type": "markdown",
      "source": [
        "## For tablular data "
      ],
      "metadata": {
        "id": "QHtN2J0roC61"
      }
    },
    {
      "cell_type": "markdown",
      "source": [
        "# Dataset class\n",
        "## Create a class\n",
        "\n",
        "Not inherit from torch.utils.data.dataset\n",
        "\n",
        "Create from scratch"
      ],
      "metadata": {
        "id": "1HAKy3v3fOsJ"
      }
    },
    {
      "cell_type": "markdown",
      "source": [
        "## Contents of class\n",
        "## tabular data, 2 D\n",
        "__init__: data, targets\n",
        "\n",
        "__len__: \n",
        "\n",
        "__getitems__: idx, retrun dict of tensors with keys sample, target\n",
        "\n"
      ],
      "metadata": {
        "id": "Zfu2lVDnh0Pt"
      }
    },
    {
      "cell_type": "code",
      "source": [
        ""
      ],
      "metadata": {
        "id": "rN8nQilJlTFv"
      },
      "execution_count": 4,
      "outputs": []
    },
    {
      "cell_type": "code",
      "source": [
        "class CustomDataSet:\n",
        "  def __init__(self, data, targets):\n",
        "    self.data = data\n",
        "    self.targets = targets\n",
        "\n",
        "  def __len__(self):\n",
        "    return self.data.shape[0]\n",
        "  \n",
        "  def __getitem__(self, idx):\n",
        "    current_sample = self.data[idx]\n",
        "    current_target = self.targets[idx]\n",
        "\n",
        "    return {\n",
        "        \"sample\": torch.tensor(current_sample, dtype = torch.float),  # or \"X\"\n",
        "        \"target\": torch.tensor(current_target, dtype = torch.long),   # or \"y\"\n",
        "    }"
      ],
      "metadata": {
        "id": "IgB5xIBqhdLL"
      },
      "execution_count": 16,
      "outputs": []
    },
    {
      "cell_type": "code",
      "source": [
        "from sklearn.datasets import make_classification"
      ],
      "metadata": {
        "id": "U4CDs_xljUEb"
      },
      "execution_count": 6,
      "outputs": []
    },
    {
      "cell_type": "code",
      "source": [
        "? make_classification #"
      ],
      "metadata": {
        "id": "QygyVYRBjyrk"
      },
      "execution_count": 7,
      "outputs": []
    },
    {
      "cell_type": "code",
      "source": [
        "# default n_samples=100, n_features=20, n_classes=2\n",
        "# returns x, y\n",
        "data, targets = make_classification(n_samples=1000, n_classes=2)"
      ],
      "metadata": {
        "id": "Eeg0sNBejpxu"
      },
      "execution_count": 8,
      "outputs": []
    },
    {
      "cell_type": "code",
      "source": [
        "data.shape"
      ],
      "metadata": {
        "colab": {
          "base_uri": "https://localhost:8080/"
        },
        "id": "cANw9E6Yjp0c",
        "outputId": "1597f524-f884-4849-ab26-0d3a90c2c910"
      },
      "execution_count": 9,
      "outputs": [
        {
          "output_type": "execute_result",
          "data": {
            "text/plain": [
              "(1000, 20)"
            ]
          },
          "metadata": {},
          "execution_count": 9
        }
      ]
    },
    {
      "cell_type": "code",
      "source": [
        "targets.shape"
      ],
      "metadata": {
        "colab": {
          "base_uri": "https://localhost:8080/"
        },
        "id": "QQYoRT_VkOcS",
        "outputId": "c6559e32-b42f-4b7f-d12e-c7037f01e69b"
      },
      "execution_count": 10,
      "outputs": [
        {
          "output_type": "execute_result",
          "data": {
            "text/plain": [
              "(1000,)"
            ]
          },
          "metadata": {},
          "execution_count": 10
        }
      ]
    },
    {
      "cell_type": "code",
      "source": [
        "custom_data = CustomDataSet(data=data,  targets=targets)"
      ],
      "metadata": {
        "id": "eKmt1w1YkOeo"
      },
      "execution_count": 17,
      "outputs": []
    },
    {
      "cell_type": "code",
      "source": [
        "len(custom_data)"
      ],
      "metadata": {
        "colab": {
          "base_uri": "https://localhost:8080/"
        },
        "id": "GzxvIQmfkoq9",
        "outputId": "c7b721f6-fd8c-48ac-8a0d-94e83386a111"
      },
      "execution_count": 18,
      "outputs": [
        {
          "output_type": "execute_result",
          "data": {
            "text/plain": [
              "1000"
            ]
          },
          "metadata": {},
          "execution_count": 18
        }
      ]
    },
    {
      "cell_type": "code",
      "source": [
        "custom_data.__getitem__(0)"
      ],
      "metadata": {
        "colab": {
          "base_uri": "https://localhost:8080/"
        },
        "id": "V-9bqNgckOhJ",
        "outputId": "7fece8a1-0ea6-4c74-9722-c0d900816c2f"
      },
      "execution_count": 19,
      "outputs": [
        {
          "output_type": "execute_result",
          "data": {
            "text/plain": [
              "{'sample': tensor([ 0.9673, -0.4780,  1.0807, -0.3242, -0.2710, -0.5723, -1.1665, -1.3416,\n",
              "         -0.7390, -1.4893, -0.8508,  1.3982, -1.9777,  2.2362,  1.6610,  0.7547,\n",
              "         -0.0999, -0.9596, -1.8654,  1.1327]), 'target': tensor(0)}"
            ]
          },
          "metadata": {},
          "execution_count": 19
        }
      ]
    },
    {
      "cell_type": "code",
      "source": [
        "custom_data[0]"
      ],
      "metadata": {
        "colab": {
          "base_uri": "https://localhost:8080/"
        },
        "id": "8fMggkIwkOjO",
        "outputId": "22773ae2-e6a8-4182-f0d4-dfdd14604f27"
      },
      "execution_count": 20,
      "outputs": [
        {
          "output_type": "execute_result",
          "data": {
            "text/plain": [
              "{'sample': tensor([ 0.9673, -0.4780,  1.0807, -0.3242, -0.2710, -0.5723, -1.1665, -1.3416,\n",
              "         -0.7390, -1.4893, -0.8508,  1.3982, -1.9777,  2.2362,  1.6610,  0.7547,\n",
              "         -0.0999, -0.9596, -1.8654,  1.1327]), 'target': tensor(0)}"
            ]
          },
          "metadata": {},
          "execution_count": 20
        }
      ]
    },
    {
      "cell_type": "code",
      "source": [
        "custom_data[0][\"sample\"]"
      ],
      "metadata": {
        "colab": {
          "base_uri": "https://localhost:8080/"
        },
        "id": "SjcTSF02l0q9",
        "outputId": "150de94d-e56f-48e8-aae1-f93304e8a8a2"
      },
      "execution_count": 21,
      "outputs": [
        {
          "output_type": "execute_result",
          "data": {
            "text/plain": [
              "tensor([ 0.9673, -0.4780,  1.0807, -0.3242, -0.2710, -0.5723, -1.1665, -1.3416,\n",
              "        -0.7390, -1.4893, -0.8508,  1.3982, -1.9777,  2.2362,  1.6610,  0.7547,\n",
              "        -0.0999, -0.9596, -1.8654,  1.1327])"
            ]
          },
          "metadata": {},
          "execution_count": 21
        }
      ]
    },
    {
      "cell_type": "code",
      "source": [
        "custom_data[0][\"target\"]"
      ],
      "metadata": {
        "colab": {
          "base_uri": "https://localhost:8080/"
        },
        "id": "0YWDxP0fl0vR",
        "outputId": "e08a0e66-7699-4ebc-f4cd-9ec9019a5a62"
      },
      "execution_count": 22,
      "outputs": [
        {
          "output_type": "execute_result",
          "data": {
            "text/plain": [
              "tensor(0)"
            ]
          },
          "metadata": {},
          "execution_count": 22
        }
      ]
    },
    {
      "cell_type": "code",
      "source": [
        ""
      ],
      "metadata": {
        "id": "V8juZOUrl0xe"
      },
      "execution_count": null,
      "outputs": []
    },
    {
      "cell_type": "markdown",
      "source": [
        "## For NLP Problem \n",
        "# Learnings from [Abhishek Thakur Pytoch Series](https://www.youtube.com/watch?v=_R-mvKBD5U8&list=PL98nY_tJQXZln8spB5uTZdKN08mYGkOf2&index=4)"
      ],
      "metadata": {
        "id": "Mv7t3Dv0hds9"
      }
    },
    {
      "cell_type": "code",
      "source": [
        "# classification/ regression\n",
        "\n",
        "class CustomDataSet:\n",
        "  def __init__(self, data, targets, tokenizer):\n",
        "    \"\"\"\n",
        "    data is text\n",
        "    targets is label\n",
        "    tokenizer takes text and convert to ids\n",
        "    \"\"\"\n",
        "    self.data = data\n",
        "    self.targets = targets\n",
        "    self.tokenizer = tokenizer\n",
        "\n",
        "  def __len__(self):\n",
        "    return len(self.data)\n",
        "  \n",
        "  def __getitem__(self, idx):\n",
        "    \"\"\"\n",
        "    Need to return dict of input_ids and target\n",
        "    input_id  = text -> tokens -> ids of the tokens through tokenizer\n",
        "    \"\"\"\n",
        "    text = self.data[idx]\n",
        "    # simple case\n",
        "    # target = self.targets[idx]\n",
        "    if len(self.targets.shape)==1:\n",
        "      # (1000,) case\n",
        "      target = self.targets[idx]\n",
        "    elif self.targets.shape[1] > 1:\n",
        "      #mulitlabel case [1,1,0]\n",
        "      target = self.targets[idx, :]\n",
        "    else:\n",
        "      target = self.targets[idx]\n",
        "\n",
        "    input_id = self.tokenizer(text)\n",
        "    # need to take care of padding etc\n",
        "    \n",
        "    return {\n",
        "        \"x\": torch.tensor(input_id, dtype = torch.long),\n",
        "        \"y\": torch.tensor(target, dtype = torch.long), # use dtype based on data type\n",
        "    }"
      ],
      "metadata": {
        "id": "t42Wy4fQfQTQ"
      },
      "execution_count": 28,
      "outputs": []
    },
    {
      "cell_type": "markdown",
      "source": [
        "## for problems like seq2seq, we return {\"input_id1\", \"input_id2\"} i.e. input text ids and output text ids"
      ],
      "metadata": {
        "id": "zlbQLoe6rkkJ"
      }
    }
  ]
}