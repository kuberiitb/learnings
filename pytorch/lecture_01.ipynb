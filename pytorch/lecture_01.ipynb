{
  "nbformat": 4,
  "nbformat_minor": 0,
  "metadata": {
    "colab": {
      "name": "pytorch/lecture_01.ipynb",
      "provenance": [],
      "collapsed_sections": [],
      "authorship_tag": "ABX9TyP0N2z443BDJ9sB2soEDw4o",
      "include_colab_link": true
    },
    "kernelspec": {
      "name": "python3",
      "display_name": "Python 3"
    },
    "language_info": {
      "name": "python"
    },
    "accelerator": "GPU"
  },
  "cells": [
    {
      "cell_type": "markdown",
      "metadata": {
        "id": "view-in-github",
        "colab_type": "text"
      },
      "source": [
        "<a href=\"https://colab.research.google.com/github/kuberiitb/learnings/blob/master/pytorch/lecture_01.ipynb\" target=\"_parent\"><img src=\"https://colab.research.google.com/assets/colab-badge.svg\" alt=\"Open In Colab\"/></a>"
      ]
    },
    {
      "cell_type": "markdown",
      "source": [
        "# Learnings from [Abhishek Thakur Pytoch Series](https://www.youtube.com/watch?v=_R-mvKBD5U8&list=PL98nY_tJQXZln8spB5uTZdKN08mYGkOf2&index=1)"
      ],
      "metadata": {
        "id": "0HMsltSXKh0L"
      }
    },
    {
      "cell_type": "code",
      "execution_count": 59,
      "metadata": {
        "id": "CzLw2t8YKIsx"
      },
      "outputs": [],
      "source": [
        "import torch \n",
        "import numpy as np"
      ]
    },
    {
      "cell_type": "code",
      "source": [
        "torch.cuda.is_available()"
      ],
      "metadata": {
        "colab": {
          "base_uri": "https://localhost:8080/"
        },
        "id": "Bz_DAznzKtyZ",
        "outputId": "64555bc0-a542-46c1-8f38-b5301edd4156"
      },
      "execution_count": 60,
      "outputs": [
        {
          "output_type": "execute_result",
          "data": {
            "text/plain": [
              "True"
            ]
          },
          "metadata": {},
          "execution_count": 60
        }
      ]
    },
    {
      "cell_type": "code",
      "source": [
        "!nvidia-smi"
      ],
      "metadata": {
        "colab": {
          "base_uri": "https://localhost:8080/"
        },
        "id": "7JmP75ViLIZG",
        "outputId": "61842d2a-dfe8-4619-f196-7b4ad7ec8732"
      },
      "execution_count": 61,
      "outputs": [
        {
          "output_type": "stream",
          "name": "stdout",
          "text": [
            "Thu Feb  3 06:43:54 2022       \n",
            "+-----------------------------------------------------------------------------+\n",
            "| NVIDIA-SMI 460.32.03    Driver Version: 460.32.03    CUDA Version: 11.2     |\n",
            "|-------------------------------+----------------------+----------------------+\n",
            "| GPU  Name        Persistence-M| Bus-Id        Disp.A | Volatile Uncorr. ECC |\n",
            "| Fan  Temp  Perf  Pwr:Usage/Cap|         Memory-Usage | GPU-Util  Compute M. |\n",
            "|                               |                      |               MIG M. |\n",
            "|===============================+======================+======================|\n",
            "|   0  Tesla T4            Off  | 00000000:00:04.0 Off |                    0 |\n",
            "| N/A   45C    P0    26W /  70W |   1332MiB / 15109MiB |      0%      Default |\n",
            "|                               |                      |                  N/A |\n",
            "+-------------------------------+----------------------+----------------------+\n",
            "                                                                               \n",
            "+-----------------------------------------------------------------------------+\n",
            "| Processes:                                                                  |\n",
            "|  GPU   GI   CI        PID   Type   Process name                  GPU Memory |\n",
            "|        ID   ID                                                   Usage      |\n",
            "|=============================================================================|\n",
            "+-----------------------------------------------------------------------------+\n"
          ]
        }
      ]
    },
    {
      "cell_type": "markdown",
      "source": [
        "# Conversion from/to list, Numpy, Pytorch"
      ],
      "metadata": {
        "id": "JYnUyND9Lztx"
      }
    },
    {
      "cell_type": "code",
      "source": [
        "some_data = [[1,2], \n",
        "             [3,4]]\n",
        "type(some_data)"
      ],
      "metadata": {
        "colab": {
          "base_uri": "https://localhost:8080/"
        },
        "id": "HA86u-sTLLH1",
        "outputId": "782af158-a229-42c0-a5e3-edbeb0d1dbdb"
      },
      "execution_count": 62,
      "outputs": [
        {
          "output_type": "execute_result",
          "data": {
            "text/plain": [
              "list"
            ]
          },
          "metadata": {},
          "execution_count": 62
        }
      ]
    },
    {
      "cell_type": "code",
      "source": [
        "some_data_np_1 = np.array(some_data) # way 1 array\n",
        "some_data_np_2 = np.asarray(some_data) # way 2 asarray\n",
        "print(some_data_np_1)\n",
        "print(some_data_np_2) #same\n",
        "print(type(some_data_np_1))\n",
        "print(type(some_data_np_2))"
      ],
      "metadata": {
        "colab": {
          "base_uri": "https://localhost:8080/"
        },
        "id": "lmgTLp0pLdg2",
        "outputId": "3ae76b2b-2c1a-4e19-cef2-c1fd05826fc0"
      },
      "execution_count": 63,
      "outputs": [
        {
          "output_type": "stream",
          "name": "stdout",
          "text": [
            "[[1 2]\n",
            " [3 4]]\n",
            "[[1 2]\n",
            " [3 4]]\n",
            "<class 'numpy.ndarray'>\n",
            "<class 'numpy.ndarray'>\n"
          ]
        }
      ]
    },
    {
      "cell_type": "code",
      "source": [
        "some_data_torch = torch.tensor(some_data) # from list to torch\n",
        "print(type(some_data_torch))\n",
        "print(some_data_torch)"
      ],
      "metadata": {
        "colab": {
          "base_uri": "https://localhost:8080/"
        },
        "id": "gnvm2ALiLhKD",
        "outputId": "28859c93-41da-497a-871f-afe0267cbdef"
      },
      "execution_count": 64,
      "outputs": [
        {
          "output_type": "stream",
          "name": "stdout",
          "text": [
            "<class 'torch.Tensor'>\n",
            "tensor([[1, 2],\n",
            "        [3, 4]])\n"
          ]
        }
      ]
    },
    {
      "cell_type": "code",
      "source": [
        "some_data_torch2 = torch.tensor(some_data_np_1) # from numpy to torch way 1\n",
        "print(some_data_torch2)\n",
        "print(type(some_data_torch2))"
      ],
      "metadata": {
        "colab": {
          "base_uri": "https://localhost:8080/"
        },
        "id": "FfaymQ7AMpvx",
        "outputId": "d35fd581-f86c-497e-c63b-0f64e5e521c5"
      },
      "execution_count": 65,
      "outputs": [
        {
          "output_type": "stream",
          "name": "stdout",
          "text": [
            "tensor([[1, 2],\n",
            "        [3, 4]])\n",
            "<class 'torch.Tensor'>\n"
          ]
        }
      ]
    },
    {
      "cell_type": "code",
      "source": [
        "some_data_torch3 = torch.from_numpy(some_data_np_1) # from numpy to torch way 2\n",
        "print(some_data_torch3)\n",
        "print(type(some_data_torch3))"
      ],
      "metadata": {
        "colab": {
          "base_uri": "https://localhost:8080/"
        },
        "id": "QKQs_eYtM7J-",
        "outputId": "c4e940f2-489f-489f-afe1-4d2321373f71"
      },
      "execution_count": 66,
      "outputs": [
        {
          "output_type": "stream",
          "name": "stdout",
          "text": [
            "tensor([[1, 2],\n",
            "        [3, 4]])\n",
            "<class 'torch.Tensor'>\n"
          ]
        }
      ]
    },
    {
      "cell_type": "code",
      "source": [
        "some_data_torch_to_np = np.asarray(some_data_torch) # from torch to np\n",
        "print(some_data_torch_to_np)\n",
        "print(type(some_data_torch_to_np))"
      ],
      "metadata": {
        "colab": {
          "base_uri": "https://localhost:8080/"
        },
        "id": "yK3dza-dLt09",
        "outputId": "07354bf0-3038-44f5-a0ef-7a1e6b7717fe"
      },
      "execution_count": 67,
      "outputs": [
        {
          "output_type": "stream",
          "name": "stdout",
          "text": [
            "[[1 2]\n",
            " [3 4]]\n",
            "<class 'numpy.ndarray'>\n"
          ]
        }
      ]
    },
    {
      "cell_type": "markdown",
      "source": [
        "## Torch matrix"
      ],
      "metadata": {
        "id": "SVggSnR4Rqe7"
      }
    },
    {
      "cell_type": "code",
      "source": [
        "torch.zeros(3,4)"
      ],
      "metadata": {
        "colab": {
          "base_uri": "https://localhost:8080/"
        },
        "id": "jtCFYHn-MiVy",
        "outputId": "2e9d66e7-938a-42cb-99d2-7b02331bb1f7"
      },
      "execution_count": 68,
      "outputs": [
        {
          "output_type": "execute_result",
          "data": {
            "text/plain": [
              "tensor([[0., 0., 0., 0.],\n",
              "        [0., 0., 0., 0.],\n",
              "        [0., 0., 0., 0.]])"
            ]
          },
          "metadata": {},
          "execution_count": 68
        }
      ]
    },
    {
      "cell_type": "code",
      "source": [
        "my_tensor = torch.rand(3,4)\n",
        "my_tensor"
      ],
      "metadata": {
        "colab": {
          "base_uri": "https://localhost:8080/"
        },
        "id": "60Im9xzORvhX",
        "outputId": "a12d4cd6-2aab-4388-b483-63b2ca3c9312"
      },
      "execution_count": 69,
      "outputs": [
        {
          "output_type": "execute_result",
          "data": {
            "text/plain": [
              "tensor([[0.0369, 0.7925, 0.9034, 0.7876],\n",
              "        [0.9311, 0.3457, 0.5577, 0.2953],\n",
              "        [0.6482, 0.9903, 0.2668, 0.4338]])"
            ]
          },
          "metadata": {},
          "execution_count": 69
        }
      ]
    },
    {
      "cell_type": "code",
      "source": [
        "my_tensor.dtype"
      ],
      "metadata": {
        "colab": {
          "base_uri": "https://localhost:8080/"
        },
        "id": "LC-vpPx9SA7e",
        "outputId": "b5ee9e14-c9e8-4508-bc6d-4340e8814701"
      },
      "execution_count": 70,
      "outputs": [
        {
          "output_type": "execute_result",
          "data": {
            "text/plain": [
              "torch.float32"
            ]
          },
          "metadata": {},
          "execution_count": 70
        }
      ]
    },
    {
      "cell_type": "code",
      "source": [
        "my_tensor.device # in cpu"
      ],
      "metadata": {
        "colab": {
          "base_uri": "https://localhost:8080/"
        },
        "id": "AW-gaZsHRzr3",
        "outputId": "3de8a5de-410a-41dc-cf77-ffbce0a3ed31"
      },
      "execution_count": 71,
      "outputs": [
        {
          "output_type": "execute_result",
          "data": {
            "text/plain": [
              "device(type='cpu')"
            ]
          },
          "metadata": {},
          "execution_count": 71
        }
      ]
    },
    {
      "cell_type": "code",
      "source": [
        "my_tensor_to_cuda = my_tensor.to(\"cuda\")"
      ],
      "metadata": {
        "id": "WNgip1O6SFY5"
      },
      "execution_count": 72,
      "outputs": []
    },
    {
      "cell_type": "code",
      "source": [
        "print(my_tensor_to_cuda.device) # moved to cuda\n",
        "print(my_tensor.device) # still in cpu"
      ],
      "metadata": {
        "colab": {
          "base_uri": "https://localhost:8080/"
        },
        "id": "l_ZuF4ivSKBr",
        "outputId": "a8c1f940-9a26-4b27-fee8-21c103e24dc3"
      },
      "execution_count": 73,
      "outputs": [
        {
          "output_type": "stream",
          "name": "stdout",
          "text": [
            "cuda:0\n",
            "cpu\n"
          ]
        }
      ]
    },
    {
      "cell_type": "code",
      "source": [
        "my_tensor_to_cuda[:, 1:] # slicing work like numpy array/list"
      ],
      "metadata": {
        "colab": {
          "base_uri": "https://localhost:8080/"
        },
        "id": "h9qr-PJXSSXy",
        "outputId": "440b9dab-e875-4bb6-f5e4-6ab93fb08cbf"
      },
      "execution_count": 74,
      "outputs": [
        {
          "output_type": "execute_result",
          "data": {
            "text/plain": [
              "tensor([[0.7925, 0.9034, 0.7876],\n",
              "        [0.3457, 0.5577, 0.2953],\n",
              "        [0.9903, 0.2668, 0.4338]], device='cuda:0')"
            ]
          },
          "metadata": {},
          "execution_count": 74
        }
      ]
    },
    {
      "cell_type": "code",
      "source": [
        "my_tensor = my_tensor_to_cuda # rename for ease"
      ],
      "metadata": {
        "id": "vvqx6aXUSc48"
      },
      "execution_count": 120,
      "outputs": []
    },
    {
      "cell_type": "markdown",
      "source": [
        "# matrix multiplication"
      ],
      "metadata": {
        "id": "Ot68vViNTN4N"
      }
    },
    {
      "cell_type": "code",
      "source": [
        "my_tensor.mul(my_tensor)  # elementwise"
      ],
      "metadata": {
        "colab": {
          "base_uri": "https://localhost:8080/"
        },
        "id": "NnY6RLpoS0EV",
        "outputId": "e3f558db-476e-4b00-e424-e3e8c2aaf036"
      },
      "execution_count": 76,
      "outputs": [
        {
          "output_type": "execute_result",
          "data": {
            "text/plain": [
              "tensor([[0.0014, 0.6281, 0.8161, 0.6204],\n",
              "        [0.8669, 0.1195, 0.3111, 0.0872],\n",
              "        [0.4202, 0.9807, 0.0712, 0.1882]], device='cuda:0')"
            ]
          },
          "metadata": {},
          "execution_count": 76
        }
      ]
    },
    {
      "cell_type": "code",
      "source": [
        "my_tensor * my_tensor # same thing"
      ],
      "metadata": {
        "colab": {
          "base_uri": "https://localhost:8080/"
        },
        "id": "JEEyzREOS2TG",
        "outputId": "0a649157-8c7e-4031-d252-5b65663ff843"
      },
      "execution_count": 77,
      "outputs": [
        {
          "output_type": "execute_result",
          "data": {
            "text/plain": [
              "tensor([[0.0014, 0.6281, 0.8161, 0.6204],\n",
              "        [0.8669, 0.1195, 0.3111, 0.0872],\n",
              "        [0.4202, 0.9807, 0.0712, 0.1882]], device='cuda:0')"
            ]
          },
          "metadata": {},
          "execution_count": 77
        }
      ]
    },
    {
      "cell_type": "code",
      "source": [
        "my_tensor.matmul(my_tensor) # matrix multiplication \n",
        "# fail since  3x4 x 3x4"
      ],
      "metadata": {
        "colab": {
          "base_uri": "https://localhost:8080/",
          "height": 178
        },
        "id": "mW6azMfZS7Lq",
        "outputId": "dc5bfcbc-85b4-427c-b5c6-eeb44d093e35"
      },
      "execution_count": 78,
      "outputs": [
        {
          "output_type": "error",
          "ename": "RuntimeError",
          "evalue": "ignored",
          "traceback": [
            "\u001b[0;31m---------------------------------------------------------------------------\u001b[0m",
            "\u001b[0;31mRuntimeError\u001b[0m                              Traceback (most recent call last)",
            "\u001b[0;32m<ipython-input-78-114e41ddd05f>\u001b[0m in \u001b[0;36m<module>\u001b[0;34m()\u001b[0m\n\u001b[0;32m----> 1\u001b[0;31m \u001b[0mmy_tensor\u001b[0m\u001b[0;34m.\u001b[0m\u001b[0mmatmul\u001b[0m\u001b[0;34m(\u001b[0m\u001b[0mmy_tensor\u001b[0m\u001b[0;34m)\u001b[0m \u001b[0;31m# matrix multiplication\u001b[0m\u001b[0;34m\u001b[0m\u001b[0;34m\u001b[0m\u001b[0m\n\u001b[0m\u001b[1;32m      2\u001b[0m \u001b[0;31m# fail since  3x4 x 3x4\u001b[0m\u001b[0;34m\u001b[0m\u001b[0;34m\u001b[0m\u001b[0;34m\u001b[0m\u001b[0m\n",
            "\u001b[0;31mRuntimeError\u001b[0m: mat1 and mat2 shapes cannot be multiplied (3x4 and 3x4)"
          ]
        }
      ]
    },
    {
      "cell_type": "code",
      "source": [
        "my_tensor.matmul(my_tensor.T) # fail since  3x4 x 4x3 = 3x3"
      ],
      "metadata": {
        "colab": {
          "base_uri": "https://localhost:8080/"
        },
        "id": "QapQcWj6TUoC",
        "outputId": "45f70d95-a9db-480e-9d0e-c06109e894cd"
      },
      "execution_count": 79,
      "outputs": [
        {
          "output_type": "execute_result",
          "data": {
            "text/plain": [
              "tensor([[2.0659, 1.0448, 1.3915],\n",
              "        [1.0448, 1.3847, 1.2229],\n",
              "        [1.3915, 1.2229, 1.6603]], device='cuda:0')"
            ]
          },
          "metadata": {},
          "execution_count": 79
        }
      ]
    },
    {
      "cell_type": "code",
      "source": [
        "torch.matmul(my_tensor, my_tensor.T ) "
      ],
      "metadata": {
        "colab": {
          "base_uri": "https://localhost:8080/"
        },
        "id": "osrzORTFTjH-",
        "outputId": "43810910-ffcb-4929-bf56-a4b1773fcd60"
      },
      "execution_count": 80,
      "outputs": [
        {
          "output_type": "execute_result",
          "data": {
            "text/plain": [
              "tensor([[2.0659, 1.0448, 1.3915],\n",
              "        [1.0448, 1.3847, 1.2229],\n",
              "        [1.3915, 1.2229, 1.6603]], device='cuda:0')"
            ]
          },
          "metadata": {},
          "execution_count": 80
        }
      ]
    },
    {
      "cell_type": "code",
      "source": [
        "my_tensor @ my_tensor.T  # @ is another way"
      ],
      "metadata": {
        "colab": {
          "base_uri": "https://localhost:8080/"
        },
        "id": "b4X9YBqQTx36",
        "outputId": "5a3e9b28-0c06-4767-bc4b-c318d70642b6"
      },
      "execution_count": 81,
      "outputs": [
        {
          "output_type": "execute_result",
          "data": {
            "text/plain": [
              "tensor([[2.0659, 1.0448, 1.3915],\n",
              "        [1.0448, 1.3847, 1.2229],\n",
              "        [1.3915, 1.2229, 1.6603]], device='cuda:0')"
            ]
          },
          "metadata": {},
          "execution_count": 81
        }
      ]
    },
    {
      "cell_type": "markdown",
      "source": [
        "## axis operations "
      ],
      "metadata": {
        "id": "a9OEtmSYUE3u"
      }
    },
    {
      "cell_type": "code",
      "source": [
        "my_tensor"
      ],
      "metadata": {
        "colab": {
          "base_uri": "https://localhost:8080/"
        },
        "id": "zLQlAWj-VB4v",
        "outputId": "2bc574d2-32f3-4169-a464-a5f3552c423d"
      },
      "execution_count": 84,
      "outputs": [
        {
          "output_type": "execute_result",
          "data": {
            "text/plain": [
              "tensor([[0.0369, 0.7925, 0.9034, 0.7876],\n",
              "        [0.9311, 0.3457, 0.5577, 0.2953],\n",
              "        [0.6482, 0.9903, 0.2668, 0.4338]], device='cuda:0')"
            ]
          },
          "metadata": {},
          "execution_count": 84
        }
      ]
    },
    {
      "cell_type": "code",
      "source": [
        "my_tensor.sum(axis=0) # columswise"
      ],
      "metadata": {
        "colab": {
          "base_uri": "https://localhost:8080/"
        },
        "id": "7YXd8WUPT-dc",
        "outputId": "5febafc5-f9e2-4d8c-8f33-ad6527b1e0ce"
      },
      "execution_count": 82,
      "outputs": [
        {
          "output_type": "execute_result",
          "data": {
            "text/plain": [
              "tensor([1.6162, 2.1285, 1.7280, 1.5168], device='cuda:0')"
            ]
          },
          "metadata": {},
          "execution_count": 82
        }
      ]
    },
    {
      "cell_type": "code",
      "source": [
        "my_tensor.sum(axis=1) # row-wise"
      ],
      "metadata": {
        "colab": {
          "base_uri": "https://localhost:8080/"
        },
        "id": "RgXblriHUJrm",
        "outputId": "dc7ec5f5-fc95-4e2b-8c8e-9951a8937e17"
      },
      "execution_count": 85,
      "outputs": [
        {
          "output_type": "execute_result",
          "data": {
            "text/plain": [
              "tensor([2.5205, 2.1299, 2.3392], device='cuda:0')"
            ]
          },
          "metadata": {},
          "execution_count": 85
        }
      ]
    },
    {
      "cell_type": "code",
      "source": [
        "my_tensor.max(axis=1) # row-wise"
      ],
      "metadata": {
        "colab": {
          "base_uri": "https://localhost:8080/"
        },
        "id": "PFcsGtXAULgN",
        "outputId": "fdc925eb-1f14-4725-a478-e489ebe7cc32"
      },
      "execution_count": 91,
      "outputs": [
        {
          "output_type": "execute_result",
          "data": {
            "text/plain": [
              "torch.return_types.max(values=tensor([0.9034, 0.9311, 0.9903], device='cuda:0'), indices=tensor([2, 0, 1], device='cuda:0'))"
            ]
          },
          "metadata": {},
          "execution_count": 91
        }
      ]
    },
    {
      "cell_type": "code",
      "source": [
        "my_tensor.max(axis=1)[0], my_tensor.max(axis=1)[1] \n",
        " # values,  indices"
      ],
      "metadata": {
        "colab": {
          "base_uri": "https://localhost:8080/"
        },
        "id": "R4WBjXiOXk6B",
        "outputId": "7d1ff29e-1e4a-4a65-eb4b-3cf7782e014f"
      },
      "execution_count": 94,
      "outputs": [
        {
          "output_type": "execute_result",
          "data": {
            "text/plain": [
              "(tensor([0.9034, 0.9311, 0.9903], device='cuda:0'),\n",
              " tensor([2, 0, 1], device='cuda:0'))"
            ]
          },
          "metadata": {},
          "execution_count": 94
        }
      ]
    },
    {
      "cell_type": "code",
      "source": [
        "my_tensor.argmax(axis=1) # row-wise"
      ],
      "metadata": {
        "colab": {
          "base_uri": "https://localhost:8080/"
        },
        "id": "KbvtgHlDXeDr",
        "outputId": "00b15cbc-aefc-4668-fbeb-064547e17f6d"
      },
      "execution_count": 89,
      "outputs": [
        {
          "output_type": "execute_result",
          "data": {
            "text/plain": [
              "tensor([2, 0, 1], device='cuda:0')"
            ]
          },
          "metadata": {},
          "execution_count": 89
        }
      ]
    },
    {
      "cell_type": "code",
      "source": [
        "my_tensor.max(axis=0) # column-wise"
      ],
      "metadata": {
        "colab": {
          "base_uri": "https://localhost:8080/"
        },
        "id": "-WQmFueMVM1R",
        "outputId": "dc3d2421-0fca-4116-d92e-92e9c0533fb0"
      },
      "execution_count": 87,
      "outputs": [
        {
          "output_type": "execute_result",
          "data": {
            "text/plain": [
              "torch.return_types.max(values=tensor([0.9311, 0.9903, 0.9034, 0.7876], device='cuda:0'), indices=tensor([1, 2, 0, 0], device='cuda:0'))"
            ]
          },
          "metadata": {},
          "execution_count": 87
        }
      ]
    },
    {
      "cell_type": "code",
      "source": [
        ""
      ],
      "metadata": {
        "id": "8lH6HF2kX3uj"
      },
      "execution_count": null,
      "outputs": []
    },
    {
      "cell_type": "markdown",
      "source": [
        "## Concat"
      ],
      "metadata": {
        "id": "GRI68lOEX50l"
      }
    },
    {
      "cell_type": "code",
      "source": [
        "torch.cat([my_tensor, my_tensor], axis=1) # axis or dim , axis=1 means colum wise concat"
      ],
      "metadata": {
        "colab": {
          "base_uri": "https://localhost:8080/"
        },
        "id": "0prKweuIXXoy",
        "outputId": "f86387ff-572f-4e85-fa6a-07d86d22dd8b"
      },
      "execution_count": 100,
      "outputs": [
        {
          "output_type": "execute_result",
          "data": {
            "text/plain": [
              "tensor([[0.0369, 0.7925, 0.9034, 0.7876, 0.0369, 0.7925, 0.9034, 0.7876],\n",
              "        [0.9311, 0.3457, 0.5577, 0.2953, 0.9311, 0.3457, 0.5577, 0.2953],\n",
              "        [0.6482, 0.9903, 0.2668, 0.4338, 0.6482, 0.9903, 0.2668, 0.4338]],\n",
              "       device='cuda:0')"
            ]
          },
          "metadata": {},
          "execution_count": 100
        }
      ]
    },
    {
      "cell_type": "code",
      "source": [
        "torch.cat([my_tensor, my_tensor], dim=0) # axis=0 means row wise concat"
      ],
      "metadata": {
        "colab": {
          "base_uri": "https://localhost:8080/"
        },
        "id": "0YVZicQFX_1I",
        "outputId": "eb383d29-57eb-4acb-c7d7-f8869311b1b6"
      },
      "execution_count": 102,
      "outputs": [
        {
          "output_type": "execute_result",
          "data": {
            "text/plain": [
              "tensor([[0.0369, 0.7925, 0.9034, 0.7876],\n",
              "        [0.9311, 0.3457, 0.5577, 0.2953],\n",
              "        [0.6482, 0.9903, 0.2668, 0.4338],\n",
              "        [0.0369, 0.7925, 0.9034, 0.7876],\n",
              "        [0.9311, 0.3457, 0.5577, 0.2953],\n",
              "        [0.6482, 0.9903, 0.2668, 0.4338]], device='cuda:0')"
            ]
          },
          "metadata": {},
          "execution_count": 102
        }
      ]
    },
    {
      "cell_type": "markdown",
      "source": [
        "## softmax"
      ],
      "metadata": {
        "id": "Z-LVOPOwYgcM"
      }
    },
    {
      "cell_type": "code",
      "source": [
        "my_tensor"
      ],
      "metadata": {
        "colab": {
          "base_uri": "https://localhost:8080/"
        },
        "id": "Prs8pKsuYSFd",
        "outputId": "8585fc95-83b9-437d-cef2-6ef2fec484fa"
      },
      "execution_count": 107,
      "outputs": [
        {
          "output_type": "execute_result",
          "data": {
            "text/plain": [
              "tensor([[0.0369, 0.7925, 0.9034, 0.7876],\n",
              "        [0.9311, 0.3457, 0.5577, 0.2953],\n",
              "        [0.6482, 0.9903, 0.2668, 0.4338]], device='cuda:0')"
            ]
          },
          "metadata": {},
          "execution_count": 107
        }
      ]
    },
    {
      "cell_type": "code",
      "source": [
        "torch.nn.functional.softmax(my_tensor, dim=0) # sum of each column will be 1"
      ],
      "metadata": {
        "colab": {
          "base_uri": "https://localhost:8080/"
        },
        "id": "IohtzgkrYjdq",
        "outputId": "ec00e360-47ca-4a62-8b6c-d37e7e7a47d3"
      },
      "execution_count": 106,
      "outputs": [
        {
          "output_type": "execute_result",
          "data": {
            "text/plain": [
              "tensor([[0.1891, 0.3498, 0.4471, 0.4323],\n",
              "        [0.4624, 0.2238, 0.3164, 0.2642],\n",
              "        [0.3485, 0.4264, 0.2365, 0.3035]], device='cuda:0')"
            ]
          },
          "metadata": {},
          "execution_count": 106
        }
      ]
    },
    {
      "cell_type": "code",
      "source": [
        "print(0.1891+ 0.3498+ 0.4471+ 0.4323) # sum of row 1 != 1 \n",
        "print(0.1891+ + 0.4624 + 0.3485) # sum of column 1  == 1   "
      ],
      "metadata": {
        "colab": {
          "base_uri": "https://localhost:8080/"
        },
        "id": "07rjuxBtZJVz",
        "outputId": "f4c3b819-a90b-4502-ac20-ee107cf4bf54"
      },
      "execution_count": 112,
      "outputs": [
        {
          "output_type": "stream",
          "name": "stdout",
          "text": [
            "1.4183\n",
            "1.0\n"
          ]
        }
      ]
    },
    {
      "cell_type": "code",
      "source": [
        "torch.nn.functional.softmax(my_tensor, dim=0).sum(axis=0)"
      ],
      "metadata": {
        "colab": {
          "base_uri": "https://localhost:8080/"
        },
        "id": "t-Jiv_FSY115",
        "outputId": "42438396-55b3-440b-8352-e40cf27c8368"
      },
      "execution_count": 110,
      "outputs": [
        {
          "output_type": "execute_result",
          "data": {
            "text/plain": [
              "tensor([1.0000, 1.0000, 1.0000, 1.0000], device='cuda:0')"
            ]
          },
          "metadata": {},
          "execution_count": 110
        }
      ]
    },
    {
      "cell_type": "markdown",
      "source": [
        ""
      ],
      "metadata": {
        "id": "EOIZ2x8CZtMP"
      }
    },
    {
      "cell_type": "code",
      "source": [
        "torch.nn.functional.softmax(my_tensor, dim=1)"
      ],
      "metadata": {
        "colab": {
          "base_uri": "https://localhost:8080/"
        },
        "id": "IsFngN1VYnpk",
        "outputId": "7bd040da-65d3-44ea-b148-0b10b88e9527"
      },
      "execution_count": 108,
      "outputs": [
        {
          "output_type": "execute_result",
          "data": {
            "text/plain": [
              "tensor([[0.1311, 0.2792, 0.3119, 0.2778],\n",
              "        [0.3604, 0.2007, 0.2481, 0.1908],\n",
              "        [0.2566, 0.3612, 0.1752, 0.2070]], device='cuda:0')"
            ]
          },
          "metadata": {},
          "execution_count": 108
        }
      ]
    },
    {
      "cell_type": "code",
      "source": [
        "torch.nn.functional.softmax(my_tensor, dim=1).sum(axis=1)"
      ],
      "metadata": {
        "colab": {
          "base_uri": "https://localhost:8080/"
        },
        "id": "nrBwhUPCYvAm",
        "outputId": "f362abee-fab3-48b6-86df-521f314cd08a"
      },
      "execution_count": 109,
      "outputs": [
        {
          "output_type": "execute_result",
          "data": {
            "text/plain": [
              "tensor([1.0000, 1.0000, 1.0000], device='cuda:0')"
            ]
          },
          "metadata": {},
          "execution_count": 109
        }
      ]
    },
    {
      "cell_type": "code",
      "source": [
        ""
      ],
      "metadata": {
        "id": "UTJpfwseY0O9"
      },
      "execution_count": null,
      "outputs": []
    },
    {
      "cell_type": "markdown",
      "source": [
        "# handling images"
      ],
      "metadata": {
        "id": "QWbAoFzCZvE_"
      }
    },
    {
      "cell_type": "code",
      "source": [
        "my_image = torch.rand(10, 3, 128, 128) # 10 images in a batch, 3 channels(RBG), Height, Width"
      ],
      "metadata": {
        "id": "xpPb-7QHZw5i"
      },
      "execution_count": 121,
      "outputs": []
    },
    {
      "cell_type": "code",
      "source": [
        "np.round(my_image[1,0,:4,:4], 4)"
      ],
      "metadata": {
        "colab": {
          "base_uri": "https://localhost:8080/"
        },
        "id": "cLLKlhwNZ_nc",
        "outputId": "6e58f4ca-db37-4c55-cde9-7b40c9287600"
      },
      "execution_count": 122,
      "outputs": [
        {
          "output_type": "execute_result",
          "data": {
            "text/plain": [
              "tensor([[0.0588, 0.4991, 0.0245, 0.4091],\n",
              "        [0.9752, 0.4800, 0.2861, 0.6377],\n",
              "        [0.3820, 0.3939, 0.5672, 0.0297],\n",
              "        [0.7492, 0.2333, 0.6376, 0.5377]])"
            ]
          },
          "metadata": {},
          "execution_count": 122
        }
      ]
    },
    {
      "cell_type": "code",
      "source": [
        "my_image.size()"
      ],
      "metadata": {
        "colab": {
          "base_uri": "https://localhost:8080/"
        },
        "id": "f7neW9h9aCRu",
        "outputId": "4dd5e712-48a6-4cf7-8c67-25cce309fc1f"
      },
      "execution_count": 123,
      "outputs": [
        {
          "output_type": "execute_result",
          "data": {
            "text/plain": [
              "torch.Size([10, 3, 128, 128])"
            ]
          },
          "metadata": {},
          "execution_count": 123
        }
      ]
    },
    {
      "cell_type": "markdown",
      "source": [
        "## CLipping"
      ],
      "metadata": {
        "id": "cXRBvywwavYa"
      }
    },
    {
      "cell_type": "code",
      "source": [
        "my_tensor"
      ],
      "metadata": {
        "colab": {
          "base_uri": "https://localhost:8080/"
        },
        "id": "71br-u-gartd",
        "outputId": "2a907510-f739-4723-c15e-849b3afa2b3b"
      },
      "execution_count": 125,
      "outputs": [
        {
          "output_type": "execute_result",
          "data": {
            "text/plain": [
              "tensor([[0.0369, 0.7925, 0.9034, 0.7876],\n",
              "        [0.9311, 0.3457, 0.5577, 0.2953],\n",
              "        [0.6482, 0.9903, 0.2668, 0.4338]], device='cuda:0')"
            ]
          },
          "metadata": {},
          "execution_count": 125
        }
      ]
    },
    {
      "cell_type": "code",
      "source": [
        "my_tensor.clip(0.2, 0.8)"
      ],
      "metadata": {
        "colab": {
          "base_uri": "https://localhost:8080/"
        },
        "id": "FP8UAQQ2aars",
        "outputId": "1797542f-4a05-4043-e3a3-dfa197bf67ee"
      },
      "execution_count": 124,
      "outputs": [
        {
          "output_type": "execute_result",
          "data": {
            "text/plain": [
              "tensor([[0.2000, 0.7925, 0.8000, 0.7876],\n",
              "        [0.8000, 0.3457, 0.5577, 0.2953],\n",
              "        [0.6482, 0.8000, 0.2668, 0.4338]], device='cuda:0')"
            ]
          },
          "metadata": {},
          "execution_count": 124
        }
      ]
    },
    {
      "cell_type": "code",
      "source": [
        ""
      ],
      "metadata": {
        "id": "f1FwgL-JapCS"
      },
      "execution_count": null,
      "outputs": []
    }
  ]
}