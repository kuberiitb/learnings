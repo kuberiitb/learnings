{
  "nbformat": 4,
  "nbformat_minor": 0,
  "metadata": {
    "colab": {
      "name": "pytorch/lecture_07_linear_regression_in_pytorch.ipynb",
      "provenance": [],
      "collapsed_sections": [
        "QHtN2J0roC61"
      ],
      "authorship_tag": "ABX9TyOmxljJ4GfbdHiTkHvF9xjX",
      "include_colab_link": true
    },
    "kernelspec": {
      "name": "python3",
      "display_name": "Python 3"
    },
    "language_info": {
      "name": "python"
    },
    "accelerator": "GPU"
  },
  "cells": [
    {
      "cell_type": "markdown",
      "metadata": {
        "id": "view-in-github",
        "colab_type": "text"
      },
      "source": [
        "<a href=\"https://colab.research.google.com/github/kuberiitb/learnings/blob/master/pytorch/lecture_07_linear_regression_in_pytorch.ipynb\" target=\"_parent\"><img src=\"https://colab.research.google.com/assets/colab-badge.svg\" alt=\"Open In Colab\"/></a>"
      ]
    },
    {
      "cell_type": "markdown",
      "source": [
        "# Learnings from [Abhishek Thakur Pytoch Series](https://www.youtube.com/watch?v=_R-mvKBD5U8&list=PL98nY_tJQXZln8spB5uTZdKN08mYGkOf2&index=7)"
      ],
      "metadata": {
        "id": "0HMsltSXKh0L"
      }
    },
    {
      "cell_type": "code",
      "execution_count": 2,
      "metadata": {
        "id": "CzLw2t8YKIsx"
      },
      "outputs": [],
      "source": [
        "import torch "
      ]
    },
    {
      "cell_type": "code",
      "source": [
        "torch.cuda.is_available()"
      ],
      "metadata": {
        "colab": {
          "base_uri": "https://localhost:8080/"
        },
        "id": "Bz_DAznzKtyZ",
        "outputId": "d7e9e7ff-6640-416d-cae5-5e9eedcbf27c"
      },
      "execution_count": 3,
      "outputs": [
        {
          "output_type": "execute_result",
          "data": {
            "text/plain": [
              "True"
            ]
          },
          "metadata": {},
          "execution_count": 3
        }
      ]
    },
    {
      "cell_type": "code",
      "source": [
        "!nvidia-smi"
      ],
      "metadata": {
        "colab": {
          "base_uri": "https://localhost:8080/"
        },
        "id": "7JmP75ViLIZG",
        "outputId": "4c7ce1ea-6f42-4c5a-a6f3-243d87797892"
      },
      "execution_count": 4,
      "outputs": [
        {
          "output_type": "stream",
          "name": "stdout",
          "text": [
            "Thu Feb  3 09:40:13 2022       \n",
            "+-----------------------------------------------------------------------------+\n",
            "| NVIDIA-SMI 460.32.03    Driver Version: 460.32.03    CUDA Version: 11.2     |\n",
            "|-------------------------------+----------------------+----------------------+\n",
            "| GPU  Name        Persistence-M| Bus-Id        Disp.A | Volatile Uncorr. ECC |\n",
            "| Fan  Temp  Perf  Pwr:Usage/Cap|         Memory-Usage | GPU-Util  Compute M. |\n",
            "|                               |                      |               MIG M. |\n",
            "|===============================+======================+======================|\n",
            "|   0  Tesla T4            Off  | 00000000:00:04.0 Off |                    0 |\n",
            "| N/A   48C    P8    10W /  70W |      3MiB / 15109MiB |      0%      Default |\n",
            "|                               |                      |                  N/A |\n",
            "+-------------------------------+----------------------+----------------------+\n",
            "                                                                               \n",
            "+-----------------------------------------------------------------------------+\n",
            "| Processes:                                                                  |\n",
            "|  GPU   GI   CI        PID   Type   Process name                  GPU Memory |\n",
            "|        ID   ID                                                   Usage      |\n",
            "|=============================================================================|\n",
            "|  No running processes found                                                 |\n",
            "+-----------------------------------------------------------------------------+\n"
          ]
        }
      ]
    },
    {
      "cell_type": "markdown",
      "source": [
        "## For tablular data "
      ],
      "metadata": {
        "id": "QHtN2J0roC61"
      }
    },
    {
      "cell_type": "markdown",
      "source": [
        "# Dataloader class\n",
        "Create a class\n",
        "\n",
        "using dataset class\n",
        "\n",
        "Create from scratch"
      ],
      "metadata": {
        "id": "1HAKy3v3fOsJ"
      }
    },
    {
      "cell_type": "markdown",
      "source": [
        "## Contents of class\n",
        "## tabular data, 2 D\n",
        "__init__: data, targets\n",
        "\n",
        "__len__: \n",
        "\n",
        "__getitems__: idx, retrun dict of tensors with keys sample, target\n",
        "\n"
      ],
      "metadata": {
        "id": "Zfu2lVDnh0Pt"
      }
    },
    {
      "cell_type": "code",
      "source": [
        ""
      ],
      "metadata": {
        "id": "rN8nQilJlTFv"
      },
      "execution_count": 4,
      "outputs": []
    },
    {
      "cell_type": "code",
      "source": [
        "from sklearn.datasets import make_classification\n",
        "from sklearn.model_selection import train_test_split"
      ],
      "metadata": {
        "id": "U4CDs_xljUEb"
      },
      "execution_count": 5,
      "outputs": []
    },
    {
      "cell_type": "code",
      "source": [
        "class CustomDataSet:\n",
        "  def __init__(self, data, targets):\n",
        "    self.data = data\n",
        "    self.targets = targets\n",
        "\n",
        "  def __len__(self):\n",
        "    return self.data.shape[0]\n",
        "  \n",
        "  def __getitem__(self, idx):\n",
        "    current_sample = self.data[idx]\n",
        "    current_target = self.targets[idx]\n",
        "\n",
        "    return {\n",
        "        \"x\": torch.tensor(current_sample, dtype = torch.float), \n",
        "        \"y\": torch.tensor(current_target, dtype = torch.long),\n",
        "    }"
      ],
      "metadata": {
        "id": "IgB5xIBqhdLL"
      },
      "execution_count": 6,
      "outputs": []
    },
    {
      "cell_type": "code",
      "source": [
        "# default n_samples=100, n_features=20, n_classes=2\n",
        "# returns x, y\n",
        "data, targets = make_classification(n_samples=1000)"
      ],
      "metadata": {
        "id": "Eeg0sNBejpxu"
      },
      "execution_count": 7,
      "outputs": []
    },
    {
      "cell_type": "code",
      "source": [
        "train_data, test_data, train_targets, test_targets =  train_test_split(data, targets, stratify=targets)"
      ],
      "metadata": {
        "id": "5ei-DTrFw_Fy"
      },
      "execution_count": 8,
      "outputs": []
    },
    {
      "cell_type": "code",
      "source": [
        "print(train_data.shape, \n",
        "      test_data.shape, \n",
        "      train_targets.shape, \n",
        "      test_targets.shape)"
      ],
      "metadata": {
        "colab": {
          "base_uri": "https://localhost:8080/"
        },
        "id": "6sbh0_rXxSpG",
        "outputId": "ebb07ad5-c544-46fd-9a7c-1397b694f680"
      },
      "execution_count": 9,
      "outputs": [
        {
          "output_type": "stream",
          "name": "stdout",
          "text": [
            "(750, 20) (250, 20) (750,) (250,)\n"
          ]
        }
      ]
    },
    {
      "cell_type": "code",
      "source": [
        "train_dataset = CustomDataSet(data=train_data,  targets=train_targets)\n",
        "test_dataset = CustomDataSet(data=test_data,  targets=test_targets)"
      ],
      "metadata": {
        "id": "eKmt1w1YkOeo"
      },
      "execution_count": 10,
      "outputs": []
    },
    {
      "cell_type": "code",
      "source": [
        "len(train_dataset)"
      ],
      "metadata": {
        "colab": {
          "base_uri": "https://localhost:8080/"
        },
        "id": "GzxvIQmfkoq9",
        "outputId": "b39999f6-5a73-448a-a52f-6bf964e35d6e"
      },
      "execution_count": 11,
      "outputs": [
        {
          "output_type": "execute_result",
          "data": {
            "text/plain": [
              "750"
            ]
          },
          "metadata": {},
          "execution_count": 11
        }
      ]
    },
    {
      "cell_type": "code",
      "source": [
        "train_dataset[0]"
      ],
      "metadata": {
        "colab": {
          "base_uri": "https://localhost:8080/"
        },
        "id": "9dX2M9hRwBzR",
        "outputId": "9783aea7-6d8d-4472-8c8e-1439e79aa8f9"
      },
      "execution_count": 12,
      "outputs": [
        {
          "output_type": "execute_result",
          "data": {
            "text/plain": [
              "{'x': tensor([ 0.4453, -1.3352, -0.1936,  0.3496,  1.1778, -0.7850,  0.2890, -1.8016,\n",
              "         -2.4640,  0.8013, -0.3833,  0.6848, -2.2016, -1.4477,  0.6421, -0.3431,\n",
              "         -1.9471,  0.9996,  0.0369, -0.4622]), 'y': tensor(0)}"
            ]
          },
          "metadata": {},
          "execution_count": 12
        }
      ]
    },
    {
      "cell_type": "code",
      "source": [
        "train_loader = torch.utils.data.DataLoader(train_dataset, batch_size=4, num_workers=2)\n",
        "test_loader = torch.utils.data.DataLoader(test_dataset, batch_size=4, num_workers=2)"
      ],
      "metadata": {
        "id": "_3S7YlrqwBwK"
      },
      "execution_count": 16,
      "outputs": []
    },
    {
      "cell_type": "markdown",
      "source": [
        "## Build Model"
      ],
      "metadata": {
        "id": "HNoJXv59yO3j"
      }
    },
    {
      "cell_type": "code",
      "source": [
        "def model(x, W, b):\n",
        "  return torch.matmul(x, W) +  b\n",
        "\n",
        "W = torch.randn(20, 1, requires_grad=True)\n",
        "b = torch.randn(1, requires_grad=True)\n",
        "\n",
        "learning_rate = 0.001\n",
        "N_EPOCHS = 20\n",
        "\n",
        "for epoch in range(N_EPOCHS):\n",
        "  epoch_loss = 0\n",
        "  counter = 0\n",
        "  for data in train_loader:\n",
        "    xtrain, ytrain = data[\"x\"], data[\"y\"]\n",
        "    output = model(xtrain, W, b)\n",
        "    if counter==50:\n",
        "      print(\"before\", b.grad)\n",
        "    \n",
        "    loss = torch.mean((ytrain.view(-1) - output.view(-1))**2)\n",
        "    epoch_loss = epoch_loss + loss.item()\n",
        "    loss.backward()\n",
        "    if counter==50:\n",
        "      print(\"after\", b.grad)\n",
        "    with torch.no_grad():\n",
        "      W = W - learning_rate * W.grad\n",
        "      b = b - learning_rate * b.grad\n",
        "    counter += 1\n",
        "    W.requires_grad_(True)\n",
        "    b.requires_grad_(True)\n",
        "  print(epoch, epoch_loss/counter, loss )\n",
        "    "
      ],
      "metadata": {
        "colab": {
          "base_uri": "https://localhost:8080/"
        },
        "id": "IcuISlDbwBsm",
        "outputId": "4a4c04f3-5892-4f96-d41f-1da1d9ceacbb"
      },
      "execution_count": 32,
      "outputs": [
        {
          "output_type": "stream",
          "name": "stdout",
          "text": [
            "before None\n",
            "after tensor([-2.7850])\n",
            "0 6.791921442612372 tensor(1.6339, grad_fn=<MeanBackward0>)\n",
            "before None\n",
            "after tensor([-1.3908])\n",
            "1 2.7665401164521564 tensor(0.6196, grad_fn=<MeanBackward0>)\n",
            "before None\n",
            "after tensor([-1.0033])\n",
            "2 1.3764881298263023 tensor(0.2007, grad_fn=<MeanBackward0>)\n",
            "before None\n",
            "after tensor([-0.8452])\n",
            "3 0.7279280949225451 tensor(0.0602, grad_fn=<MeanBackward0>)\n",
            "before None\n",
            "after tensor([-0.7677])\n",
            "4 0.4172610244565108 tensor(0.0294, grad_fn=<MeanBackward0>)\n",
            "before None\n",
            "after tensor([-0.7290])\n",
            "5 0.26583013630551383 tensor(0.0354, grad_fn=<MeanBackward0>)\n",
            "before None\n",
            "after tensor([-0.7112])\n",
            "6 0.19072603287690498 tensor(0.0501, grad_fn=<MeanBackward0>)\n",
            "before None\n",
            "after tensor([-0.7050])\n",
            "7 0.15285979969268468 tensor(0.0642, grad_fn=<MeanBackward0>)\n",
            "before None\n",
            "after tensor([-0.7048])\n",
            "8 0.13347481732613387 tensor(0.0751, grad_fn=<MeanBackward0>)\n",
            "before None\n",
            "after tensor([-0.7077])\n",
            "9 0.12341071810186939 tensor(0.0828, grad_fn=<MeanBackward0>)\n",
            "before None\n",
            "after tensor([-0.7118])\n",
            "10 0.11811780330645753 tensor(0.0880, grad_fn=<MeanBackward0>)\n",
            "before None\n",
            "after tensor([-0.7160])\n",
            "11 0.11530070821506942 tensor(0.0914, grad_fn=<MeanBackward0>)\n",
            "before None\n",
            "after tensor([-0.7201])\n",
            "12 0.11378443365213164 tensor(0.0936, grad_fn=<MeanBackward0>)\n",
            "before None\n",
            "after tensor([-0.7236])\n",
            "13 0.11295948712095777 tensor(0.0949, grad_fn=<MeanBackward0>)\n",
            "before None\n",
            "after tensor([-0.7266])\n",
            "14 0.11250589921466134 tensor(0.0958, grad_fn=<MeanBackward0>)\n",
            "before None\n",
            "after tensor([-0.7290])\n",
            "15 0.11225377597865906 tensor(0.0963, grad_fn=<MeanBackward0>)\n",
            "before None\n",
            "after tensor([-0.7310])\n",
            "16 0.1121120522903437 tensor(0.0967, grad_fn=<MeanBackward0>)\n",
            "before None\n",
            "after tensor([-0.7325])\n",
            "17 0.11203139417240039 tensor(0.0968, grad_fn=<MeanBackward0>)\n",
            "before None\n",
            "after tensor([-0.7338])\n",
            "18 0.11198487512252116 tensor(0.0969, grad_fn=<MeanBackward0>)\n",
            "before None\n",
            "after tensor([-0.7347])\n",
            "19 0.11195763284241424 tensor(0.0970, grad_fn=<MeanBackward0>)\n"
          ]
        }
      ]
    },
    {
      "cell_type": "code",
      "source": [
        "train_targets[0:10]"
      ],
      "metadata": {
        "colab": {
          "base_uri": "https://localhost:8080/"
        },
        "id": "v7a1DNsFya-0",
        "outputId": "ff92e74f-ecc2-483f-b801-67e4b51d1fc1"
      },
      "execution_count": 36,
      "outputs": [
        {
          "output_type": "execute_result",
          "data": {
            "text/plain": [
              "array([0, 1, 0, 1, 1, 0, 1, 1, 1, 0])"
            ]
          },
          "metadata": {},
          "execution_count": 36
        }
      ]
    },
    {
      "cell_type": "code",
      "source": [
        "labels = []\n",
        "outputs = []\n",
        "for data in test_loader:\n",
        "  xtest, ytest = data[\"x\"], data[\"y\"]\n",
        "  with torch.no_grad():\n",
        "    output = model(xtest, W, b)\n",
        "  outputs.append(output)\n",
        "  labels.append(ytest)\n",
        "  \n",
        "print(len(labels), len(outputs))"
      ],
      "metadata": {
        "colab": {
          "base_uri": "https://localhost:8080/"
        },
        "id": "AqRns__byjPj",
        "outputId": "368fe4e6-0341-4983-fa85-9568b809b79b"
      },
      "execution_count": 61,
      "outputs": [
        {
          "output_type": "stream",
          "name": "stdout",
          "text": [
            "63 63\n"
          ]
        }
      ]
    },
    {
      "cell_type": "code",
      "source": [
        "print(labels[:3]) # batchwise output\n",
        "print(len(labels)) # same as batchsize\n"
      ],
      "metadata": {
        "colab": {
          "base_uri": "https://localhost:8080/"
        },
        "id": "b_nUPWg6C_F6",
        "outputId": "530668f6-1cf5-4ac5-8f55-48003239dcc6"
      },
      "execution_count": 62,
      "outputs": [
        {
          "output_type": "stream",
          "name": "stdout",
          "text": [
            "[tensor([1, 0, 1, 1]), tensor([1, 1, 0, 1]), tensor([0, 1, 1, 0])]\n",
            "63\n"
          ]
        }
      ]
    },
    {
      "cell_type": "code",
      "source": [
        "labels_cat = torch.cat(labels) # flattening\n",
        "\n",
        "print(labels_cat[:10])\n",
        "print(len(labels_cat))\n",
        "\n",
        "labels_cat.view(-1) # making vector"
      ],
      "metadata": {
        "colab": {
          "base_uri": "https://localhost:8080/"
        },
        "id": "2EwxANTFCurn",
        "outputId": "a50622b1-6df2-4cd1-aef2-eeca69c10988"
      },
      "execution_count": 63,
      "outputs": [
        {
          "output_type": "stream",
          "name": "stdout",
          "text": [
            "tensor([1, 0, 1, 1, 1, 1, 0, 1, 0, 1])\n",
            "250\n"
          ]
        },
        {
          "output_type": "execute_result",
          "data": {
            "text/plain": [
              "tensor([1, 0, 1, 1, 1, 1, 0, 1, 0, 1, 1, 0, 1, 0, 1, 1, 1, 0, 1, 0, 0, 0, 0, 1,\n",
              "        0, 0, 0, 0, 0, 0, 1, 1, 1, 1, 0, 0, 1, 1, 0, 0, 1, 0, 1, 1, 0, 0, 0, 0,\n",
              "        1, 1, 0, 0, 1, 1, 0, 1, 0, 0, 0, 0, 1, 0, 0, 1, 1, 1, 1, 1, 1, 0, 0, 0,\n",
              "        0, 1, 1, 0, 0, 0, 1, 0, 0, 0, 0, 0, 0, 0, 0, 0, 1, 0, 1, 1, 0, 0, 0, 0,\n",
              "        1, 1, 0, 0, 0, 0, 1, 0, 1, 0, 0, 1, 1, 0, 1, 0, 0, 0, 0, 1, 1, 1, 0, 1,\n",
              "        0, 1, 1, 1, 1, 1, 1, 0, 1, 1, 0, 1, 1, 1, 0, 0, 1, 1, 0, 1, 1, 0, 1, 1,\n",
              "        0, 1, 0, 1, 1, 1, 1, 0, 0, 0, 0, 1, 1, 1, 0, 0, 1, 1, 0, 0, 0, 0, 0, 0,\n",
              "        0, 0, 1, 1, 0, 1, 1, 0, 0, 0, 0, 1, 0, 1, 1, 0, 0, 1, 1, 0, 1, 0, 1, 1,\n",
              "        1, 1, 0, 1, 1, 0, 0, 1, 0, 0, 0, 1, 0, 1, 1, 1, 1, 0, 1, 0, 0, 0, 1, 1,\n",
              "        0, 0, 1, 0, 1, 1, 0, 1, 1, 1, 0, 1, 1, 0, 0, 1, 0, 1, 0, 1, 0, 1, 0, 1,\n",
              "        0, 1, 1, 0, 1, 0, 1, 1, 0, 1])"
            ]
          },
          "metadata": {},
          "execution_count": 63
        }
      ]
    },
    {
      "cell_type": "code",
      "source": [
        ""
      ],
      "metadata": {
        "id": "QpiDz098E-W4"
      },
      "execution_count": 75,
      "outputs": []
    },
    {
      "cell_type": "code",
      "source": [
        "outputs_cat = torch.cat(outputs) # flattening\n",
        "\n",
        "print(outputs_cat[:10])\n",
        "print(len(outputs_cat))\n",
        "\n",
        "outputs_cat.view(-1)[:20] # making vector"
      ],
      "metadata": {
        "colab": {
          "base_uri": "https://localhost:8080/"
        },
        "id": "-I67AHrTCy_e",
        "outputId": "a7f3e96c-251e-4ac5-b4f4-d4ff29625e55"
      },
      "execution_count": 75,
      "outputs": [
        {
          "output_type": "stream",
          "name": "stdout",
          "text": [
            "tensor([[0.3905],\n",
            "        [0.1541],\n",
            "        [1.4401],\n",
            "        [0.0017],\n",
            "        [0.7410],\n",
            "        [1.2124],\n",
            "        [0.2074],\n",
            "        [0.7838],\n",
            "        [0.4497],\n",
            "        [0.7517]])\n",
            "250\n"
          ]
        },
        {
          "output_type": "execute_result",
          "data": {
            "text/plain": [
              "tensor([ 0.3905,  0.1541,  1.4401,  0.0017,  0.7410,  1.2124,  0.2074,  0.7838,\n",
              "         0.4497,  0.7517,  1.4073,  0.2446,  0.7040,  0.4037,  1.1659,  1.0694,\n",
              "         0.7377, -0.0165,  1.0258, -0.0451])"
            ]
          },
          "metadata": {},
          "execution_count": 75
        }
      ]
    },
    {
      "cell_type": "code",
      "source": [
        "from sklearn.metrics import roc_auc_score\n",
        "roc_auc_score(torch.cat(labels).view(-1) , torch.cat(outputs).view(-1))"
      ],
      "metadata": {
        "colab": {
          "base_uri": "https://localhost:8080/"
        },
        "id": "cUvFadMAEO0E",
        "outputId": "21ebb89d-2733-4d45-d35b-c9a43bd79963"
      },
      "execution_count": 72,
      "outputs": [
        {
          "output_type": "execute_result",
          "data": {
            "text/plain": [
              "0.8969976313936369"
            ]
          },
          "metadata": {},
          "execution_count": 72
        }
      ]
    },
    {
      "cell_type": "code",
      "source": [
        ""
      ],
      "metadata": {
        "id": "xJkfbP3eEZle"
      },
      "execution_count": 73,
      "outputs": []
    },
    {
      "cell_type": "markdown",
      "source": [
        "# Issues: use sigmoid for classification problems"
      ],
      "metadata": {
        "id": "481zDQecGhnt"
      }
    },
    {
      "cell_type": "code",
      "source": [
        "model"
      ],
      "metadata": {
        "colab": {
          "base_uri": "https://localhost:8080/"
        },
        "id": "kXUFQyq-Ee7_",
        "outputId": "0029a539-8be5-416a-b9b8-68749088ace4"
      },
      "execution_count": 74,
      "outputs": [
        {
          "output_type": "execute_result",
          "data": {
            "text/plain": [
              "<function __main__.model>"
            ]
          },
          "metadata": {},
          "execution_count": 74
        }
      ]
    },
    {
      "cell_type": "code",
      "source": [
        ""
      ],
      "metadata": {
        "id": "znjyYukZN7PM"
      },
      "execution_count": null,
      "outputs": []
    }
  ]
}