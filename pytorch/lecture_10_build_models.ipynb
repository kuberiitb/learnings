{
  "nbformat": 4,
  "nbformat_minor": 0,
  "metadata": {
    "colab": {
      "name": "pytorch/lecture_10_build_models",
      "provenance": [],
      "collapsed_sections": [],
      "authorship_tag": "ABX9TyPa/Qrfjx2jy3HKcHeXh8d5",
      "include_colab_link": true
    },
    "kernelspec": {
      "name": "python3",
      "display_name": "Python 3"
    },
    "language_info": {
      "name": "python"
    },
    "accelerator": "GPU"
  },
  "cells": [
    {
      "cell_type": "markdown",
      "metadata": {
        "id": "view-in-github",
        "colab_type": "text"
      },
      "source": [
        "<a href=\"https://colab.research.google.com/github/kuberiitb/learnings/blob/master/pytorch/lecture_10_build_models.ipynb\" target=\"_parent\"><img src=\"https://colab.research.google.com/assets/colab-badge.svg\" alt=\"Open In Colab\"/></a>"
      ]
    },
    {
      "cell_type": "markdown",
      "source": [
        "## Based on Video [Building Model Class](https://www.youtube.com/watch?v=8ua0qfbPnfk)"
      ],
      "metadata": {
        "id": "VUgpTUVwDS5G"
      }
    },
    {
      "cell_type": "code",
      "execution_count": 1,
      "metadata": {
        "id": "ncYflE4dj9cv"
      },
      "outputs": [],
      "source": [
        "import torch\n",
        "import torch.nn as nn"
      ]
    },
    {
      "cell_type": "markdown",
      "source": [
        "# Building Model class"
      ],
      "metadata": {
        "id": "-WIh0aHwketW"
      }
    },
    {
      "cell_type": "code",
      "source": [
        "class Model(nn.Module):\n",
        "  def __init__(self, *args, **kwargs):\n",
        "    super().__init__(*args, **kwargs)\n",
        "    self.optimizer = None\n",
        "    self.scheduler = None\n",
        "    self.train_loader = None\n",
        "\n",
        "  def forward(self, *args, **kwargs):\n",
        "    super().forward(*args, **kwargs)\n",
        "  \n",
        "  def fetch_scheduler(self, *args, **kwargs):\n",
        "    return\n",
        "\n",
        "  def fetch_optimizer(self, *args, **kwargs):\n",
        "    return\n",
        "\n",
        "  def train_one_step(self, data):\n",
        "    self.optimizer.zero_grad()\n",
        "    for k, v in data.items():\n",
        "      data[k] = v.to(device)\n",
        "    _, loss = self.forward(**data)\n",
        "    loss.backward()\n",
        "    self.optimizer.step()\n",
        "    self.scheduler.step()\n",
        "    return loss\n",
        "\n",
        "  def train_one_epoch(self, data_loader, device):\n",
        "    self.train() # put model in train mode\n",
        "    epoch_loss = 0 \n",
        "    for data in data_loader:\n",
        "      loss = self.train_one_step(data, device)\n",
        "      epoch_loss += loss\n",
        "    return epoch_loss / len(data_loader.view(-1))\n",
        "    \n",
        "  def fit(self, train_dataset, batch_size, epochs, device):\n",
        "    if self.train_loader is None:\n",
        "        self.train_loader = torch.utils.data.DataLoader(\n",
        "                                train_dataset, \n",
        "                                batch_size = batch_size,\n",
        "                                shuffle = True)\n",
        "    if next(self.parameters()).device != device:\n",
        "      self.to(device)\n",
        "\n",
        "    self.optimizer = self.fetch_optimizer()\n",
        "    self.scheduler = self.fetch_scheduler()\n",
        "    \n",
        "    for _ in range(epochs):\n",
        "      train_loss = self.train_one_epoch(self.train_loader, device)\n"
      ],
      "metadata": {
        "id": "9og1NFO0kaKQ"
      },
      "execution_count": 4,
      "outputs": []
    },
    {
      "cell_type": "code",
      "source": [
        "class MyModel(Model):\n",
        "  super().__init__()\n",
        "  def __init__(self, num_classes):\n",
        "    # define network, layers\n",
        "    self.out = nn.Linear(128, num_classes)\n",
        "\n",
        "  def loss(self, outputs, targets):\n",
        "    if targets is None:\n",
        "      return None\n",
        "    return nn.BCEWithLogitsLoss()(outputs, targets)\n",
        "  \n",
        "  def fetch_scheduler(self):\n",
        "    sch = torch.optim.lr_scheduler(self.optimizer())\n",
        "    return sch\n",
        "\n",
        "  def fetch_optimizer(self):\n",
        "    # params\n",
        "    opt = torch.optim.Adam(self.parameters())\n",
        "    return opt\n",
        "\n",
        "  def forward(self, features):\n",
        "    x = nn.Linear(features)\n",
        "\n",
        "    out = self.loss(x)\n",
        "    return out, loss\n",
        "\n",
        "m = MyModel()"
      ],
      "metadata": {
        "colab": {
          "base_uri": "https://localhost:8080/",
          "height": 346
        },
        "id": "C5z2FRbVlB8j",
        "outputId": "1bb8debd-4e38-4a99-99e6-9de2a646a8c0"
      },
      "execution_count": 6,
      "outputs": [
        {
          "output_type": "error",
          "ename": "RuntimeError",
          "evalue": "ignored",
          "traceback": [
            "\u001b[0;31m---------------------------------------------------------------------------\u001b[0m",
            "\u001b[0;31mRuntimeError\u001b[0m                              Traceback (most recent call last)",
            "\u001b[0;32m<ipython-input-6-029e07778674>\u001b[0m in \u001b[0;36m<module>\u001b[0;34m()\u001b[0m\n\u001b[0;32m----> 1\u001b[0;31m \u001b[0;32mclass\u001b[0m \u001b[0mMyModel\u001b[0m\u001b[0;34m(\u001b[0m\u001b[0mModel\u001b[0m\u001b[0;34m)\u001b[0m\u001b[0;34m:\u001b[0m\u001b[0;34m\u001b[0m\u001b[0;34m\u001b[0m\u001b[0m\n\u001b[0m\u001b[1;32m      2\u001b[0m   \u001b[0msuper\u001b[0m\u001b[0;34m(\u001b[0m\u001b[0;34m)\u001b[0m\u001b[0;34m.\u001b[0m\u001b[0m__init__\u001b[0m\u001b[0;34m(\u001b[0m\u001b[0;34m)\u001b[0m\u001b[0;34m\u001b[0m\u001b[0;34m\u001b[0m\u001b[0m\n\u001b[1;32m      3\u001b[0m   \u001b[0;32mdef\u001b[0m \u001b[0m__init__\u001b[0m\u001b[0;34m(\u001b[0m\u001b[0mself\u001b[0m\u001b[0;34m,\u001b[0m \u001b[0mnum_classes\u001b[0m\u001b[0;34m)\u001b[0m\u001b[0;34m:\u001b[0m\u001b[0;34m\u001b[0m\u001b[0;34m\u001b[0m\u001b[0m\n\u001b[1;32m      4\u001b[0m     \u001b[0;31m# define network, layers\u001b[0m\u001b[0;34m\u001b[0m\u001b[0;34m\u001b[0m\u001b[0;34m\u001b[0m\u001b[0m\n\u001b[1;32m      5\u001b[0m     \u001b[0mself\u001b[0m\u001b[0;34m.\u001b[0m\u001b[0mout\u001b[0m \u001b[0;34m=\u001b[0m \u001b[0mnn\u001b[0m\u001b[0;34m.\u001b[0m\u001b[0mLinear\u001b[0m\u001b[0;34m(\u001b[0m\u001b[0;36m128\u001b[0m\u001b[0;34m,\u001b[0m \u001b[0mnum_classes\u001b[0m\u001b[0;34m)\u001b[0m\u001b[0;34m\u001b[0m\u001b[0;34m\u001b[0m\u001b[0m\n",
            "\u001b[0;32m<ipython-input-6-029e07778674>\u001b[0m in \u001b[0;36mMyModel\u001b[0;34m()\u001b[0m\n\u001b[1;32m      1\u001b[0m \u001b[0;32mclass\u001b[0m \u001b[0mMyModel\u001b[0m\u001b[0;34m(\u001b[0m\u001b[0mModel\u001b[0m\u001b[0;34m)\u001b[0m\u001b[0;34m:\u001b[0m\u001b[0;34m\u001b[0m\u001b[0;34m\u001b[0m\u001b[0m\n\u001b[0;32m----> 2\u001b[0;31m   \u001b[0msuper\u001b[0m\u001b[0;34m(\u001b[0m\u001b[0;34m)\u001b[0m\u001b[0;34m.\u001b[0m\u001b[0m__init__\u001b[0m\u001b[0;34m(\u001b[0m\u001b[0;34m)\u001b[0m\u001b[0;34m\u001b[0m\u001b[0;34m\u001b[0m\u001b[0m\n\u001b[0m\u001b[1;32m      3\u001b[0m   \u001b[0;32mdef\u001b[0m \u001b[0m__init__\u001b[0m\u001b[0;34m(\u001b[0m\u001b[0mself\u001b[0m\u001b[0;34m,\u001b[0m \u001b[0mnum_classes\u001b[0m\u001b[0;34m)\u001b[0m\u001b[0;34m:\u001b[0m\u001b[0;34m\u001b[0m\u001b[0;34m\u001b[0m\u001b[0m\n\u001b[1;32m      4\u001b[0m     \u001b[0;31m# define network, layers\u001b[0m\u001b[0;34m\u001b[0m\u001b[0;34m\u001b[0m\u001b[0;34m\u001b[0m\u001b[0m\n\u001b[1;32m      5\u001b[0m     \u001b[0mself\u001b[0m\u001b[0;34m.\u001b[0m\u001b[0mout\u001b[0m \u001b[0;34m=\u001b[0m \u001b[0mnn\u001b[0m\u001b[0;34m.\u001b[0m\u001b[0mLinear\u001b[0m\u001b[0;34m(\u001b[0m\u001b[0;36m128\u001b[0m\u001b[0;34m,\u001b[0m \u001b[0mnum_classes\u001b[0m\u001b[0;34m)\u001b[0m\u001b[0;34m\u001b[0m\u001b[0;34m\u001b[0m\u001b[0m\n",
            "\u001b[0;31mRuntimeError\u001b[0m: super(): no arguments"
          ]
        }
      ]
    },
    {
      "cell_type": "markdown",
      "source": [
        "## Little complicated, need to come back after learning little basics"
      ],
      "metadata": {
        "id": "Ok2W5wrYCzVW"
      }
    },
    {
      "cell_type": "code",
      "source": [
        ""
      ],
      "metadata": {
        "id": "clSwos9R91BX"
      },
      "execution_count": null,
      "outputs": []
    }
  ]
}