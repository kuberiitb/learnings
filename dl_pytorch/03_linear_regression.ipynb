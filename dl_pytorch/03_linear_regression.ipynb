{
  "nbformat": 4,
  "nbformat_minor": 0,
  "metadata": {
    "colab": {
      "provenance": [],
      "authorship_tag": "ABX9TyNMPeW6tfv+SLs8gkfKO4pX",
      "include_colab_link": true
    },
    "kernelspec": {
      "name": "python3",
      "display_name": "Python 3"
    },
    "language_info": {
      "name": "python"
    }
  },
  "cells": [
    {
      "cell_type": "markdown",
      "metadata": {
        "id": "view-in-github",
        "colab_type": "text"
      },
      "source": [
        "<a href=\"https://colab.research.google.com/github/kuberiitb/learnings/blob/master/dl_pytorch/03_linear_regression.ipynb\" target=\"_parent\"><img src=\"https://colab.research.google.com/assets/colab-badge.svg\" alt=\"Open In Colab\"/></a>"
      ]
    },
    {
      "cell_type": "markdown",
      "source": [
        "Based on [PyTorch Tutorial 07 - Linear Regression](https://www.youtube.com/watch?v=YAJ5XBwlN4o) video of [playlist](https://www.youtube.com/playlist?list=PLqnslRFeH2UrcDBWF5mfPGpqQDSta6VK4)"
      ],
      "metadata": {
        "id": "OQ6JfdADeWDB"
      }
    },
    {
      "cell_type": "code",
      "execution_count": 2,
      "metadata": {
        "id": "Wj3-TyVdeIqD"
      },
      "outputs": [],
      "source": [
        "import torch\n",
        "import torch.nn as nn\n",
        "from torch.optim import Adam"
      ]
    },
    {
      "cell_type": "code",
      "source": [
        "from sklearn import datasets\n",
        "import numpy as np\n",
        "import matplotlib.pyplot as plt"
      ],
      "metadata": {
        "id": "-Me8vIPme0gZ"
      },
      "execution_count": 3,
      "outputs": []
    },
    {
      "cell_type": "markdown",
      "source": [
        "# Make data for regression"
      ],
      "metadata": {
        "id": "wxvNanWatZux"
      }
    },
    {
      "cell_type": "code",
      "source": [
        "X_numpy, y_numpy = datasets.make_regression(n_samples=100, n_features=1, noise=20, random_state=100)"
      ],
      "metadata": {
        "id": "muJos4ANse2a"
      },
      "execution_count": 4,
      "outputs": []
    },
    {
      "cell_type": "code",
      "source": [
        "X = torch.from_numpy(X_numpy.astype(np.float32))\n",
        "y = torch.from_numpy(y_numpy.astype(np.float32))\n",
        "y = y.view(y.shape[0], 1)"
      ],
      "metadata": {
        "id": "ppwuec7tsw9q"
      },
      "execution_count": 34,
      "outputs": []
    },
    {
      "cell_type": "code",
      "source": [
        "y[:10]"
      ],
      "metadata": {
        "colab": {
          "base_uri": "https://localhost:8080/"
        },
        "id": "cBbCH4EPsyXg",
        "outputId": "80ddf2e1-5817-4de5-ad29-19b3365c2d42"
      },
      "execution_count": 35,
      "outputs": [
        {
          "output_type": "execute_result",
          "data": {
            "text/plain": [
              "tensor([[ 16.1746],\n",
              "        [-65.9969],\n",
              "        [-70.3073],\n",
              "        [ 41.8237],\n",
              "        [-65.0504],\n",
              "        [  3.7563],\n",
              "        [ 14.1827],\n",
              "        [ 85.1604],\n",
              "        [-77.8749],\n",
              "        [-47.7083]])"
            ]
          },
          "metadata": {},
          "execution_count": 35
        }
      ]
    },
    {
      "cell_type": "code",
      "source": [
        "n_rows, n_features = X.shape\n",
        "print(n_rows, n_features)"
      ],
      "metadata": {
        "colab": {
          "base_uri": "https://localhost:8080/"
        },
        "id": "w6s_NWUttK5n",
        "outputId": "ffb88cd8-a078-44c5-d88c-04b40db61bbd"
      },
      "execution_count": 36,
      "outputs": [
        {
          "output_type": "stream",
          "name": "stdout",
          "text": [
            "100 1\n"
          ]
        }
      ]
    },
    {
      "cell_type": "code",
      "source": [
        "input_size = n_features\n",
        "output_size = 1"
      ],
      "metadata": {
        "id": "SH1BNLHptuF-"
      },
      "execution_count": 37,
      "outputs": []
    },
    {
      "cell_type": "code",
      "source": [
        "model = nn.Linear(input_size, output_size)\n",
        "print(input_size, output_size)"
      ],
      "metadata": {
        "colab": {
          "base_uri": "https://localhost:8080/"
        },
        "id": "slLE5-MIuEe9",
        "outputId": "8600422f-28d6-4fdc-ea1f-bbf6b41f4d92"
      },
      "execution_count": 57,
      "outputs": [
        {
          "output_type": "stream",
          "name": "stdout",
          "text": [
            "1 1\n"
          ]
        }
      ]
    },
    {
      "cell_type": "code",
      "source": [
        "learning_rate=0.1\n",
        "criterion = nn.MSELoss()\n",
        "optimizer = torch.optim.SGD(model.parameters(), lr=learning_rate)"
      ],
      "metadata": {
        "id": "olwXIWu-uJL5"
      },
      "execution_count": 58,
      "outputs": []
    },
    {
      "cell_type": "code",
      "source": [
        "EPOCHS = 20\n",
        "loss_list = []\n",
        "\n",
        "for epoch in range(EPOCHS):\n",
        "  y_pred = model(X)\n",
        "  optimizer.zero_grad()\n",
        "  loss = criterion(y_pred, y)\n",
        "  loss.backward()\n",
        "  optimizer.step()\n",
        "  print(f\"Epoch {epoch} Loss {loss}\")\n",
        "  loss_list.append(loss)"
      ],
      "metadata": {
        "colab": {
          "base_uri": "https://localhost:8080/"
        },
        "id": "avURRO_QuRNc",
        "outputId": "7f036858-1d56-49f0-a445-b202b335879f"
      },
      "execution_count": 68,
      "outputs": [
        {
          "output_type": "stream",
          "name": "stdout",
          "text": [
            "Epoch 0 Loss 488.65057373046875\n",
            "Epoch 1 Loss 488.5063171386719\n",
            "Epoch 2 Loss 488.4088134765625\n",
            "Epoch 3 Loss 488.34295654296875\n",
            "Epoch 4 Loss 488.29840087890625\n",
            "Epoch 5 Loss 488.2681884765625\n",
            "Epoch 6 Loss 488.24774169921875\n",
            "Epoch 7 Loss 488.23382568359375\n",
            "Epoch 8 Loss 488.2244567871094\n",
            "Epoch 9 Loss 488.218017578125\n",
            "Epoch 10 Loss 488.2137145996094\n",
            "Epoch 11 Loss 488.21075439453125\n",
            "Epoch 12 Loss 488.208740234375\n",
            "Epoch 13 Loss 488.20733642578125\n",
            "Epoch 14 Loss 488.2064514160156\n",
            "Epoch 15 Loss 488.2057800292969\n",
            "Epoch 16 Loss 488.20538330078125\n",
            "Epoch 17 Loss 488.2051086425781\n",
            "Epoch 18 Loss 488.2049255371094\n",
            "Epoch 19 Loss 488.2047119140625\n"
          ]
        }
      ]
    },
    {
      "cell_type": "code",
      "source": [
        "predicted = model(X).detach().numpy()\n",
        "\n",
        "plt.plot(X_numpy,y_numpy,'ro')\n",
        "plt.plot(X_numpy, predicted, 'b')\n",
        "plt.show()"
      ],
      "metadata": {
        "colab": {
          "base_uri": "https://localhost:8080/",
          "height": 430
        },
        "id": "Emftdo_TvHEG",
        "outputId": "6e8428ee-a7b8-4041-eef4-b0a74c7fbc04"
      },
      "execution_count": 67,
      "outputs": [
        {
          "output_type": "display_data",
          "data": {
            "text/plain": [
              "<Figure size 640x480 with 1 Axes>"
            ],
            "image/png": "[encoded data removed]"
          },
          "metadata": {}
        }
      ]
    },
    {
      "cell_type": "code",
      "source": [
        "loss_array = np.array([x.detach() for x in loss_list])\n",
        "epoch_array = np.array(range(len(loss_array)))\n",
        "plt.plot(epoch_array, loss_array)\n",
        "plt.show()\n"
      ],
      "metadata": {
        "colab": {
          "base_uri": "https://localhost:8080/",
          "height": 430
        },
        "id": "aVHAJh3IxzbN",
        "outputId": "80a5d8ec-48c2-4f3b-fa0c-ca2bdf74b063"
      },
      "execution_count": 84,
      "outputs": [
        {
          "output_type": "display_data",
          "data": {
            "text/plain": [
              "<Figure size 640x480 with 1 Axes>"
            ],
            "image/png": "[encoded data removed]"
          },
          "metadata": {}
        }
      ]
    }
  ]
}