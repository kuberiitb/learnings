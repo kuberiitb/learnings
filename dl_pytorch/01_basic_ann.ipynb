{
  "nbformat": 4,
  "nbformat_minor": 0,
  "metadata": {
    "colab": {
      "provenance": [],
      "authorship_tag": "ABX9TyMdmqdz/9EjjVuOou2EgnvH",
      "include_colab_link": true
    },
    "kernelspec": {
      "name": "python3",
      "display_name": "Python 3"
    },
    "language_info": {
      "name": "python"
    }
  },
  "cells": [
    {
      "cell_type": "markdown",
      "metadata": {
        "id": "view-in-github",
        "colab_type": "text"
      },
      "source": [
        "<a href=\"https://colab.research.google.com/github/kuberiitb/learnings/blob/master/dl_pytorch/01_basic_ann.ipynb\" target=\"_parent\"><img src=\"https://colab.research.google.com/assets/colab-badge.svg\" alt=\"Open In Colab\"/></a>"
      ]
    },
    {
      "cell_type": "markdown",
      "source": [
        "### Based on lessons in [Deep Learning and Neural Networks with Python and Pytorch](https://www.youtube.com/watch?v=i2yPxY2rOzs)"
      ],
      "metadata": {
        "id": "5snTwkI3fEkJ"
      }
    },
    {
      "cell_type": "code",
      "source": [
        "import torch\n",
        "import torchvision\n",
        "from torchvision import transforms, datasets\n"
      ],
      "metadata": {
        "id": "Mgw6Tx_qe5vT"
      },
      "execution_count": 2,
      "outputs": []
    },
    {
      "cell_type": "code",
      "source": [
        "train = datasets.MNIST(\"\", train=True, download=True,\n",
        "                       transform=transforms.Compose([transforms.ToTensor()]))"
      ],
      "metadata": {
        "colab": {
          "base_uri": "https://localhost:8080/"
        },
        "id": "7yGqhp4QfSss",
        "outputId": "77e2962a-398f-4566-c38e-d1632b97dbe8"
      },
      "execution_count": 3,
      "outputs": [
        {
          "output_type": "stream",
          "name": "stdout",
          "text": [
            "Downloading http://yann.lecun.com/exdb/mnist/train-images-idx3-ubyte.gz\n",
            "Downloading http://yann.lecun.com/exdb/mnist/train-images-idx3-ubyte.gz to MNIST/raw/train-images-idx3-ubyte.gz\n"
          ]
        },
        {
          "output_type": "stream",
          "name": "stderr",
          "text": [
            "100%|██████████| 9912422/9912422 [00:00<00:00, 135133933.05it/s]\n"
          ]
        },
        {
          "output_type": "stream",
          "name": "stdout",
          "text": [
            "Extracting MNIST/raw/train-images-idx3-ubyte.gz to MNIST/raw\n",
            "\n",
            "Downloading http://yann.lecun.com/exdb/mnist/train-labels-idx1-ubyte.gz\n",
            "Downloading http://yann.lecun.com/exdb/mnist/train-labels-idx1-ubyte.gz to MNIST/raw/train-labels-idx1-ubyte.gz\n"
          ]
        },
        {
          "output_type": "stream",
          "name": "stderr",
          "text": [
            "100%|██████████| 28881/28881 [00:00<00:00, 31220539.65it/s]"
          ]
        },
        {
          "output_type": "stream",
          "name": "stdout",
          "text": [
            "Extracting MNIST/raw/train-labels-idx1-ubyte.gz to MNIST/raw\n",
            "\n",
            "Downloading http://yann.lecun.com/exdb/mnist/t10k-images-idx3-ubyte.gz\n"
          ]
        },
        {
          "output_type": "stream",
          "name": "stderr",
          "text": [
            "\n"
          ]
        },
        {
          "output_type": "stream",
          "name": "stdout",
          "text": [
            "Downloading http://yann.lecun.com/exdb/mnist/t10k-images-idx3-ubyte.gz to MNIST/raw/t10k-images-idx3-ubyte.gz\n"
          ]
        },
        {
          "output_type": "stream",
          "name": "stderr",
          "text": [
            "100%|██████████| 1648877/1648877 [00:00<00:00, 33168152.11it/s]"
          ]
        },
        {
          "output_type": "stream",
          "name": "stdout",
          "text": [
            "Extracting MNIST/raw/t10k-images-idx3-ubyte.gz to MNIST/raw\n",
            "\n",
            "Downloading http://yann.lecun.com/exdb/mnist/t10k-labels-idx1-ubyte.gz\n",
            "Downloading http://yann.lecun.com/exdb/mnist/t10k-labels-idx1-ubyte.gz to MNIST/raw/t10k-labels-idx1-ubyte.gz\n"
          ]
        },
        {
          "output_type": "stream",
          "name": "stderr",
          "text": [
            "\n",
            "100%|██████████| 4542/4542 [00:00<00:00, 14142931.53it/s]\n"
          ]
        },
        {
          "output_type": "stream",
          "name": "stdout",
          "text": [
            "Extracting MNIST/raw/t10k-labels-idx1-ubyte.gz to MNIST/raw\n",
            "\n"
          ]
        }
      ]
    },
    {
      "cell_type": "code",
      "source": [
        "test = datasets.MNIST(\"\", train=False, download=True,\n",
        "                       transform=transforms.Compose([transforms.ToTensor()]))"
      ],
      "metadata": {
        "id": "tW6q8OsVfu7D"
      },
      "execution_count": 4,
      "outputs": []
    },
    {
      "cell_type": "code",
      "source": [
        "print(f\"there are {len(train)} train and {len(test)} test examples\")"
      ],
      "metadata": {
        "colab": {
          "base_uri": "https://localhost:8080/"
        },
        "id": "gx4ErHTCgDr8",
        "outputId": "10be4d08-7453-43b4-a764-f679b2bbd674"
      },
      "execution_count": 14,
      "outputs": [
        {
          "output_type": "stream",
          "name": "stdout",
          "text": [
            "there are 60000 train and 10000 test examples\n"
          ]
        }
      ]
    },
    {
      "cell_type": "code",
      "source": [
        "print(train[0][0].shape)\n",
        "print(test[0][0].shape)"
      ],
      "metadata": {
        "colab": {
          "base_uri": "https://localhost:8080/"
        },
        "id": "h70LYgpofzHI",
        "outputId": "32f01a67-f51b-4bb0-8b2f-9f47b2310347"
      },
      "execution_count": 15,
      "outputs": [
        {
          "output_type": "stream",
          "name": "stdout",
          "text": [
            "torch.Size([1, 28, 28])\n",
            "torch.Size([1, 28, 28])\n"
          ]
        }
      ]
    },
    {
      "cell_type": "markdown",
      "source": [
        "## Creating Dataloader"
      ],
      "metadata": {
        "id": "r79uW56QgYqp"
      }
    },
    {
      "cell_type": "code",
      "source": [
        "trainset = torch.utils.data.DataLoader(train, batch_size=32, shuffle=True)\n",
        "testset = torch.utils.data.DataLoader(test, batch_size=32, shuffle=True)"
      ],
      "metadata": {
        "id": "aogU1tQCgVG9"
      },
      "execution_count": 17,
      "outputs": []
    },
    {
      "cell_type": "code",
      "source": [
        "for X, y in trainset:\n",
        "  print(X)\n",
        "  print(y)\n",
        "  break"
      ],
      "metadata": {
        "colab": {
          "base_uri": "https://localhost:8080/"
        },
        "id": "AwMlh0rwf1kp",
        "outputId": "b24a456d-22f0-4524-9f81-9b6f5c2d5230"
      },
      "execution_count": 19,
      "outputs": [
        {
          "output_type": "stream",
          "name": "stdout",
          "text": [
            "tensor([[[[0., 0., 0.,  ..., 0., 0., 0.],\n",
            "          [0., 0., 0.,  ..., 0., 0., 0.],\n",
            "          [0., 0., 0.,  ..., 0., 0., 0.],\n",
            "          ...,\n",
            "          [0., 0., 0.,  ..., 0., 0., 0.],\n",
            "          [0., 0., 0.,  ..., 0., 0., 0.],\n",
            "          [0., 0., 0.,  ..., 0., 0., 0.]]],\n",
            "\n",
            "\n",
            "        [[[0., 0., 0.,  ..., 0., 0., 0.],\n",
            "          [0., 0., 0.,  ..., 0., 0., 0.],\n",
            "          [0., 0., 0.,  ..., 0., 0., 0.],\n",
            "          ...,\n",
            "          [0., 0., 0.,  ..., 0., 0., 0.],\n",
            "          [0., 0., 0.,  ..., 0., 0., 0.],\n",
            "          [0., 0., 0.,  ..., 0., 0., 0.]]],\n",
            "\n",
            "\n",
            "        [[[0., 0., 0.,  ..., 0., 0., 0.],\n",
            "          [0., 0., 0.,  ..., 0., 0., 0.],\n",
            "          [0., 0., 0.,  ..., 0., 0., 0.],\n",
            "          ...,\n",
            "          [0., 0., 0.,  ..., 0., 0., 0.],\n",
            "          [0., 0., 0.,  ..., 0., 0., 0.],\n",
            "          [0., 0., 0.,  ..., 0., 0., 0.]]],\n",
            "\n",
            "\n",
            "        ...,\n",
            "\n",
            "\n",
            "        [[[0., 0., 0.,  ..., 0., 0., 0.],\n",
            "          [0., 0., 0.,  ..., 0., 0., 0.],\n",
            "          [0., 0., 0.,  ..., 0., 0., 0.],\n",
            "          ...,\n",
            "          [0., 0., 0.,  ..., 0., 0., 0.],\n",
            "          [0., 0., 0.,  ..., 0., 0., 0.],\n",
            "          [0., 0., 0.,  ..., 0., 0., 0.]]],\n",
            "\n",
            "\n",
            "        [[[0., 0., 0.,  ..., 0., 0., 0.],\n",
            "          [0., 0., 0.,  ..., 0., 0., 0.],\n",
            "          [0., 0., 0.,  ..., 0., 0., 0.],\n",
            "          ...,\n",
            "          [0., 0., 0.,  ..., 0., 0., 0.],\n",
            "          [0., 0., 0.,  ..., 0., 0., 0.],\n",
            "          [0., 0., 0.,  ..., 0., 0., 0.]]],\n",
            "\n",
            "\n",
            "        [[[0., 0., 0.,  ..., 0., 0., 0.],\n",
            "          [0., 0., 0.,  ..., 0., 0., 0.],\n",
            "          [0., 0., 0.,  ..., 0., 0., 0.],\n",
            "          ...,\n",
            "          [0., 0., 0.,  ..., 0., 0., 0.],\n",
            "          [0., 0., 0.,  ..., 0., 0., 0.],\n",
            "          [0., 0., 0.,  ..., 0., 0., 0.]]]])\n",
            "tensor([2, 0, 1, 7, 2, 2, 4, 5, 2, 6, 9, 0, 5, 3, 5, 6, 7, 0, 3, 6, 6, 2, 8, 6,\n",
            "        0, 2, 7, 7, 4, 6, 7, 1])\n"
          ]
        }
      ]
    },
    {
      "cell_type": "code",
      "source": [
        "X, y = X[0], y[0]"
      ],
      "metadata": {
        "id": "V9SOwhIOhIRT"
      },
      "execution_count": 23,
      "outputs": []
    },
    {
      "cell_type": "code",
      "source": [
        "X.shape"
      ],
      "metadata": {
        "colab": {
          "base_uri": "https://localhost:8080/"
        },
        "id": "HAg9xThGh2vt",
        "outputId": "ec291d8a-315b-4af4-9411-ef57b8ab57eb"
      },
      "execution_count": 33,
      "outputs": [
        {
          "output_type": "execute_result",
          "data": {
            "text/plain": [
              "torch.Size([1, 28, 28])"
            ]
          },
          "metadata": {},
          "execution_count": 33
        }
      ]
    },
    {
      "cell_type": "code",
      "source": [
        "import matplotlib.pyplot as plt\n",
        "plt.imshow(X.view(28,28))\n",
        "plt.show()\n",
        "print(y)"
      ],
      "metadata": {
        "colab": {
          "base_uri": "https://localhost:8080/",
          "height": 447
        },
        "id": "wxAMtFXChBV0",
        "outputId": "29fdaa36-2b84-4ee1-bc85-b504f09a1b0a"
      },
      "execution_count": 38,
      "outputs": [
        {
          "output_type": "display_data",
          "data": {
            "text/plain": [
              "<Figure size 640x480 with 1 Axes>"
            ],
            "image/png": "[encoded data removed]"
          },
          "metadata": {}
        },
        {
          "output_type": "stream",
          "name": "stdout",
          "text": [
            "tensor(2)\n"
          ]
        }
      ]
    },
    {
      "cell_type": "markdown",
      "source": [
        "### check balance in data"
      ],
      "metadata": {
        "id": "eKLcVx_oiS_z"
      }
    },
    {
      "cell_type": "code",
      "source": [
        "from collections import defaultdict\n",
        "count = defaultdict(int)\n",
        "\n",
        "for _, y in trainset:\n",
        "  for record in y:\n",
        "    count[int(record)]+=1\n",
        "\n",
        "print(count)\n"
      ],
      "metadata": {
        "colab": {
          "base_uri": "https://localhost:8080/"
        },
        "id": "bedaNFDshS2U",
        "outputId": "10ec9a1c-381a-4741-fbda-fd0cc78ece9d"
      },
      "execution_count": 54,
      "outputs": [
        {
          "output_type": "stream",
          "name": "stdout",
          "text": [
            "defaultdict(<class 'int'>, {6: 5918, 4: 5842, 8: 5851, 3: 6131, 9: 5949, 1: 6742, 5: 5421, 7: 6265, 2: 5958, 0: 5923})\n"
          ]
        }
      ]
    },
    {
      "cell_type": "code",
      "source": [
        "total = sum(count.values())\n",
        "print(total)"
      ],
      "metadata": {
        "colab": {
          "base_uri": "https://localhost:8080/"
        },
        "id": "p2opksTUiszU",
        "outputId": "fb91b6d8-629e-45f4-9f54-869f770ff21d"
      },
      "execution_count": 55,
      "outputs": [
        {
          "output_type": "stream",
          "name": "stdout",
          "text": [
            "60000\n"
          ]
        }
      ]
    },
    {
      "cell_type": "code",
      "source": [
        "for c in count:\n",
        "  print(f\"\"\"{c}, {count[c]}, {round(count[c]/total*100.,1)}%\"\"\")"
      ],
      "metadata": {
        "colab": {
          "base_uri": "https://localhost:8080/"
        },
        "id": "XsqOvoDXjdKL",
        "outputId": "05d5ebd6-97d8-4c5d-a069-288d6e69e0d6"
      },
      "execution_count": 63,
      "outputs": [
        {
          "output_type": "stream",
          "name": "stdout",
          "text": [
            "6, 5918, 9.9%\n",
            "4, 5842, 9.7%\n",
            "8, 5851, 9.8%\n",
            "3, 6131, 10.2%\n",
            "9, 5949, 9.9%\n",
            "1, 6742, 11.2%\n",
            "5, 5421, 9.0%\n",
            "7, 6265, 10.4%\n",
            "2, 5958, 9.9%\n",
            "0, 5923, 9.9%\n"
          ]
        }
      ]
    },
    {
      "cell_type": "markdown",
      "source": [
        "Data seems balanced"
      ],
      "metadata": {
        "id": "KjgIJRTlkMhL"
      }
    },
    {
      "cell_type": "markdown",
      "source": [
        "## Build DL Model"
      ],
      "metadata": {
        "id": "zABJ1ozCkW-i"
      }
    },
    {
      "cell_type": "code",
      "source": [
        "import torch.nn as nn\n",
        "import torch.nn.functional as F"
      ],
      "metadata": {
        "id": "rwBlL1HwkMQ-"
      },
      "execution_count": 68,
      "outputs": []
    },
    {
      "cell_type": "code",
      "source": [
        "class Net(nn.Module):\n",
        "  def __init__(self):\n",
        "    super().__init__()\n",
        "\n",
        "    #define layers\n",
        "    n_classes = 10\n",
        "    self.fc1 = nn.Linear(28*28, 64)\n",
        "    self.fc2 = nn.Linear(64, 64)\n",
        "    self.fc3 = nn.Linear(64, 64)\n",
        "    self.fc4 = nn.Linear(64, n_classes)\n",
        "\n",
        "  def forward(self, x):\n",
        "    # pass data(x) through layers\n",
        "    x = F.relu(self.fc1(x))\n",
        "    x = F.relu(self.fc2(x))\n",
        "    x = F.relu(self.fc3(x))\n",
        "    x = self.fc4(x)\n",
        "    return F.log_softmax(x, dim=1)\n",
        "\n",
        "net = Net()\n",
        "# net(trainset)\n",
        "print(net)\n"
      ],
      "metadata": {
        "colab": {
          "base_uri": "https://localhost:8080/"
        },
        "id": "764CD50Bjw2a",
        "outputId": "b5c05bdb-aa27-4b11-dfb6-b7995a196ae3"
      },
      "execution_count": 100,
      "outputs": [
        {
          "output_type": "stream",
          "name": "stdout",
          "text": [
            "Net(\n",
            "  (fc1): Linear(in_features=784, out_features=64, bias=True)\n",
            "  (fc2): Linear(in_features=64, out_features=64, bias=True)\n",
            "  (fc3): Linear(in_features=64, out_features=64, bias=True)\n",
            "  (fc4): Linear(in_features=64, out_features=10, bias=True)\n",
            ")\n"
          ]
        }
      ]
    },
    {
      "cell_type": "code",
      "source": [
        "net(X.view(-1, 28*28))"
      ],
      "metadata": {
        "colab": {
          "base_uri": "https://localhost:8080/"
        },
        "id": "Ddr9XdApn3e_",
        "outputId": "63ee1623-4fbe-4692-9e1c-c595a7fac0ee"
      },
      "execution_count": 101,
      "outputs": [
        {
          "output_type": "execute_result",
          "data": {
            "text/plain": [
              "tensor([[-2.4330, -2.4340, -2.3266, -2.2518, -2.3367, -2.3150, -2.2223, -2.2317,\n",
              "         -2.3009, -2.2035]], grad_fn=<LogSoftmaxBackward0>)"
            ]
          },
          "metadata": {},
          "execution_count": 101
        }
      ]
    },
    {
      "cell_type": "markdown",
      "source": [
        "### Define optimizer and loss function"
      ],
      "metadata": {
        "id": "e7P9owcpoKk7"
      }
    },
    {
      "cell_type": "code",
      "source": [
        "import torch.optim as optim\n",
        "\n",
        "optimizer = optim.Adam(net.parameters(), lr=0.001)\n",
        "\n",
        "EPOCHS = 3\n",
        "\n",
        "print(\"Checking data\")\n",
        "for data in range(EPOCHS):\n",
        "  for data in trainset:\n",
        "    X, y = data\n",
        "    print(X.shape, y.shape)\n",
        "    break\n",
        "\n",
        "print(f\"training models for {EPOCHS} epochs\")\n",
        "for data in range(EPOCHS):\n",
        "  for data in trainset:\n",
        "    X, y = data\n",
        "\n",
        "    net.zero_grad()\n",
        "    output = net(X.view(-1,28*28))\n",
        "    loss = F.nll_loss(output, y)\n",
        "    loss.backward()\n",
        "    optimizer.step()\n",
        "\n",
        "  print(loss)\n"
      ],
      "metadata": {
        "colab": {
          "base_uri": "https://localhost:8080/"
        },
        "id": "ckAIOmNRnihb",
        "outputId": "ae40abda-c6d6-412a-c7a1-233d3d471d8b"
      },
      "execution_count": 111,
      "outputs": [
        {
          "output_type": "stream",
          "name": "stdout",
          "text": [
            "Checking data\n",
            "torch.Size([32, 1, 28, 28]) torch.Size([32])\n",
            "torch.Size([32, 1, 28, 28]) torch.Size([32])\n",
            "torch.Size([32, 1, 28, 28]) torch.Size([32])\n",
            "training models for 3 epochs\n",
            "tensor(0.1763, grad_fn=<NllLossBackward0>)\n",
            "tensor(0.3566, grad_fn=<NllLossBackward0>)\n",
            "tensor(0.0972, grad_fn=<NllLossBackward0>)\n"
          ]
        }
      ]
    },
    {
      "cell_type": "markdown",
      "source": [
        "### Test and Get accuracy"
      ],
      "metadata": {
        "id": "bqznEYTvqQjh"
      }
    },
    {
      "cell_type": "code",
      "source": [
        "correct = 0\n",
        "total = 0\n",
        "n_class = 10\n",
        "\n",
        "with torch.no_grad():\n",
        "  for X, y in trainset:\n",
        "    output = net(X.view(-1,28*28))\n",
        "    # print(output)\n",
        "    for idx, i in enumerate(output):\n",
        "      if torch.argmax(i)==y[idx]:\n",
        "        correct+=1\n",
        "      total+=1\n",
        "print(correct, total)\n",
        "print(f\"train accuract {round(correct/total*100,2)}%\")"
      ],
      "metadata": {
        "colab": {
          "base_uri": "https://localhost:8080/"
        },
        "id": "LH6Q_ih_qDxX",
        "outputId": "d0836f80-647c-4403-d955-8ea1ae3c3ce7"
      },
      "execution_count": 124,
      "outputs": [
        {
          "output_type": "stream",
          "name": "stdout",
          "text": [
            "58302 60000\n",
            "train accuract 97.17%\n"
          ]
        }
      ]
    },
    {
      "cell_type": "code",
      "source": [
        "correct = 0\n",
        "total = 0\n",
        "n_class = 10\n",
        "\n",
        "with torch.no_grad():\n",
        "  for X, y in testset:\n",
        "    output = net(X.view(-1,28*28))\n",
        "    for idx, i in enumerate(output):\n",
        "      if torch.argmax(i)==y[idx]:\n",
        "        correct+=1\n",
        "      total+=1\n",
        "print(correct, total)\n",
        "\n",
        "print(f\"test accuract {round(correct/total*100,2)}%\")"
      ],
      "metadata": {
        "colab": {
          "base_uri": "https://localhost:8080/"
        },
        "id": "-WQVydePrjev",
        "outputId": "8c039530-af0b-491d-befe-b553ddc358b0"
      },
      "execution_count": 125,
      "outputs": [
        {
          "output_type": "stream",
          "name": "stdout",
          "text": [
            "9636 10000\n",
            "test accuract 96.36%\n"
          ]
        }
      ]
    },
    {
      "cell_type": "markdown",
      "source": [
        "## Vizualize the network using torchviz package"
      ],
      "metadata": {
        "id": "6VzzphfnsBhP"
      }
    },
    {
      "cell_type": "code",
      "source": [
        "# !pip install torchviz\n",
        "\n",
        "from torchviz import make_dot\n",
        "y = net(X.view(-1,28*28))\n",
        "make_dot(y, params=dict(net.named_parameters()),  show_attrs=False, show_saved=True)\n"
      ],
      "metadata": {
        "colab": {
          "base_uri": "https://localhost:8080/",
          "height": 1000
        },
        "id": "hz3xL_JQkn59",
        "outputId": "d83100e0-753e-4abe-eaf7-15fa81c2c897"
      },
      "execution_count": 134,
      "outputs": [
        {
          "output_type": "execute_result",
          "data": {
            "image/svg+xml": "<?xml version=\"1.0\" encoding=\"UTF-8\" standalone=\"no\"?>\n<!DOCTYPE svg PUBLIC \"-//W3C//DTD SVG 1.1//EN\"\n \"http://www.w3.org/Graphics/SVG/1.1/DTD/svg11.dtd\">\n<!-- Generated by graphviz version 2.43.0 (0)\n -->\n<!-- Title: %3 Pages: 1 -->\n<svg width=\"762pt\" height=\"765pt\"\n viewBox=\"0.00 0.00 762.00 765.00\" xmlns=\"http://www.w3.org/2000/svg\" xmlns:xlink=\"http://www.w3.org/1999/xlink\">\n<g id=\"graph0\" class=\"graph\" transform=\"scale(1 1) rotate(0) translate(4 761)\">\n<title>%3</title>\n<polygon fill=\"white\" stroke=\"transparent\" points=\"-4,4 -4,-761 758,-761 758,4 -4,4\"/>\n<!-- 136534599756640 -->\n<g id=\"node1\" class=\"node\">\n<title>136534599756640</title>\n<polygon fill=\"#caff70\" stroke=\"black\" points=\"71,-31 0,-31 0,0 71,0 71,-31\"/>\n<text text-anchor=\"middle\" x=\"35.5\" y=\"-7\" font-family=\"monospace\" font-size=\"10.00\"> (16, 10)</text>\n</g>\n<!-- 136534601258208 -->\n<g id=\"node2\" class=\"node\">\n<title>136534601258208</title>\n<polygon fill=\"lightgrey\" stroke=\"black\" points=\"145,-91.5 14,-91.5 14,-72.5 145,-72.5 145,-91.5\"/>\n<text text-anchor=\"middle\" x=\"79.5\" y=\"-79.5\" font-family=\"monospace\" font-size=\"10.00\">LogSoftmaxBackward0</text>\n</g>\n<!-- 136534601258208&#45;&gt;136534599756640 -->\n<g id=\"edge39\" class=\"edge\">\n<title>136534601258208&#45;&gt;136534599756640</title>\n<path fill=\"none\" stroke=\"black\" d=\"M73.57,-72.3C67.94,-64.05 59.23,-51.29 51.56,-40.04\"/>\n<polygon fill=\"black\" stroke=\"black\" points=\"54.24,-37.76 45.71,-31.47 48.46,-41.7 54.24,-37.76\"/>\n</g>\n<!-- 136534599746320 -->\n<g id=\"node3\" class=\"node\">\n<title>136534599746320</title>\n<polygon fill=\"orange\" stroke=\"black\" points=\"160,-30.5 89,-30.5 89,-0.5 160,-0.5 160,-30.5\"/>\n<text text-anchor=\"middle\" x=\"124.5\" y=\"-18.5\" font-family=\"monospace\" font-size=\"10.00\">result</text>\n<text text-anchor=\"middle\" x=\"124.5\" y=\"-7.5\" font-family=\"monospace\" font-size=\"10.00\"> (16, 10)</text>\n</g>\n<!-- 136534601258208&#45;&gt;136534599746320 -->\n<g id=\"edge1\" class=\"edge\">\n<title>136534601258208&#45;&gt;136534599746320</title>\n<path fill=\"none\" stroke=\"black\" d=\"M85.57,-72.3C92.96,-61.71 105.55,-43.67 114.4,-30.97\"/>\n</g>\n<!-- 136534601261712 -->\n<g id=\"node4\" class=\"node\">\n<title>136534601261712</title>\n<polygon fill=\"lightgrey\" stroke=\"black\" points=\"249,-157.5 148,-157.5 148,-138.5 249,-138.5 249,-157.5\"/>\n<text text-anchor=\"middle\" x=\"198.5\" y=\"-145.5\" font-family=\"monospace\" font-size=\"10.00\">AddmmBackward0</text>\n</g>\n<!-- 136534601261712&#45;&gt;136534601258208 -->\n<g id=\"edge2\" class=\"edge\">\n<title>136534601261712&#45;&gt;136534601258208</title>\n<path fill=\"none\" stroke=\"black\" d=\"M182.45,-138.37C162.49,-127.63 128.18,-109.18 104.7,-96.55\"/>\n<polygon fill=\"black\" stroke=\"black\" points=\"106.14,-93.35 95.67,-91.7 102.82,-99.52 106.14,-93.35\"/>\n</g>\n<!-- 136534599754160 -->\n<g id=\"node5\" class=\"node\">\n<title>136534599754160</title>\n<polygon fill=\"orange\" stroke=\"black\" points=\"234,-97 163,-97 163,-67 234,-67 234,-97\"/>\n<text text-anchor=\"middle\" x=\"198.5\" y=\"-85\" font-family=\"monospace\" font-size=\"10.00\">mat1</text>\n<text text-anchor=\"middle\" x=\"198.5\" y=\"-74\" font-family=\"monospace\" font-size=\"10.00\"> (16, 64)</text>\n</g>\n<!-- 136534601261712&#45;&gt;136534599754160 -->\n<g id=\"edge3\" class=\"edge\">\n<title>136534601261712&#45;&gt;136534599754160</title>\n<path fill=\"none\" stroke=\"black\" d=\"M198.5,-138.37C198.5,-127.86 198.5,-109.96 198.5,-97.36\"/>\n</g>\n<!-- 136534599756800 -->\n<g id=\"node6\" class=\"node\">\n<title>136534599756800</title>\n<polygon fill=\"orange\" stroke=\"black\" points=\"323,-97 252,-97 252,-67 323,-67 323,-97\"/>\n<text text-anchor=\"middle\" x=\"287.5\" y=\"-85\" font-family=\"monospace\" font-size=\"10.00\">mat2</text>\n<text text-anchor=\"middle\" x=\"287.5\" y=\"-74\" font-family=\"monospace\" font-size=\"10.00\"> (64, 10)</text>\n</g>\n<!-- 136534601261712&#45;&gt;136534599756800 -->\n<g id=\"edge4\" class=\"edge\">\n<title>136534601261712&#45;&gt;136534599756800</title>\n<path fill=\"none\" stroke=\"black\" d=\"M210.5,-138.37C225.21,-127.79 250.34,-109.72 267.87,-97.12\"/>\n</g>\n<!-- 136534601264592 -->\n<g id=\"node7\" class=\"node\">\n<title>136534601264592</title>\n<polygon fill=\"lightgrey\" stroke=\"black\" points=\"142,-223.5 41,-223.5 41,-204.5 142,-204.5 142,-223.5\"/>\n<text text-anchor=\"middle\" x=\"91.5\" y=\"-211.5\" font-family=\"monospace\" font-size=\"10.00\">AccumulateGrad</text>\n</g>\n<!-- 136534601264592&#45;&gt;136534601261712 -->\n<g id=\"edge5\" class=\"edge\">\n<title>136534601264592&#45;&gt;136534601261712</title>\n<path fill=\"none\" stroke=\"black\" d=\"M105.93,-204.37C123.72,-193.73 154.18,-175.51 175.28,-162.89\"/>\n<polygon fill=\"black\" stroke=\"black\" points=\"177.17,-165.84 183.96,-157.7 173.58,-159.83 177.17,-165.84\"/>\n</g>\n<!-- 136534601736544 -->\n<g id=\"node8\" class=\"node\">\n<title>136534601736544</title>\n<polygon fill=\"lightblue\" stroke=\"black\" points=\"124,-295 59,-295 59,-265 124,-265 124,-295\"/>\n<text text-anchor=\"middle\" x=\"91.5\" y=\"-283\" font-family=\"monospace\" font-size=\"10.00\">fc4.bias</text>\n<text text-anchor=\"middle\" x=\"91.5\" y=\"-272\" font-family=\"monospace\" font-size=\"10.00\"> (10)</text>\n</g>\n<!-- 136534601736544&#45;&gt;136534601264592 -->\n<g id=\"edge6\" class=\"edge\">\n<title>136534601736544&#45;&gt;136534601264592</title>\n<path fill=\"none\" stroke=\"black\" d=\"M91.5,-264.8C91.5,-255.7 91.5,-243.79 91.5,-233.9\"/>\n<polygon fill=\"black\" stroke=\"black\" points=\"95,-233.84 91.5,-223.84 88,-233.84 95,-233.84\"/>\n</g>\n<!-- 136534601268288 -->\n<g id=\"node9\" class=\"node\">\n<title>136534601268288</title>\n<polygon fill=\"lightgrey\" stroke=\"black\" points=\"610,-223.5 515,-223.5 515,-204.5 610,-204.5 610,-223.5\"/>\n<text text-anchor=\"middle\" x=\"562.5\" y=\"-211.5\" font-family=\"monospace\" font-size=\"10.00\">ReluBackward0</text>\n</g>\n<!-- 136534601268288&#45;&gt;136534601261712 -->\n<g id=\"edge7\" class=\"edge\">\n<title>136534601268288&#45;&gt;136534601261712</title>\n<path fill=\"none\" stroke=\"black\" d=\"M530.33,-204.47C522.56,-202.54 514.25,-200.6 506.5,-199 421.18,-181.44 321.53,-166.21 259.21,-157.32\"/>\n<polygon fill=\"black\" stroke=\"black\" points=\"259.55,-153.83 249.15,-155.89 258.56,-160.76 259.55,-153.83\"/>\n</g>\n<!-- 136534596411184 -->\n<g id=\"node10\" class=\"node\">\n<title>136534596411184</title>\n<polygon fill=\"orange\" stroke=\"black\" points=\"598,-163 527,-163 527,-133 598,-133 598,-163\"/>\n<text text-anchor=\"middle\" x=\"562.5\" y=\"-151\" font-family=\"monospace\" font-size=\"10.00\">result</text>\n<text text-anchor=\"middle\" x=\"562.5\" y=\"-140\" font-family=\"monospace\" font-size=\"10.00\"> (16, 64)</text>\n</g>\n<!-- 136534601268288&#45;&gt;136534596411184 -->\n<g id=\"edge8\" class=\"edge\">\n<title>136534601268288&#45;&gt;136534596411184</title>\n<path fill=\"none\" stroke=\"black\" d=\"M562.5,-204.37C562.5,-193.86 562.5,-175.96 562.5,-163.36\"/>\n</g>\n<!-- 136534601260704 -->\n<g id=\"node11\" class=\"node\">\n<title>136534601260704</title>\n<polygon fill=\"lightgrey\" stroke=\"black\" points=\"563,-289.5 462,-289.5 462,-270.5 563,-270.5 563,-289.5\"/>\n<text text-anchor=\"middle\" x=\"512.5\" y=\"-277.5\" font-family=\"monospace\" font-size=\"10.00\">AddmmBackward0</text>\n</g>\n<!-- 136534601260704&#45;&gt;136534601268288 -->\n<g id=\"edge9\" class=\"edge\">\n<title>136534601260704&#45;&gt;136534601268288</title>\n<path fill=\"none\" stroke=\"black\" d=\"M519.24,-270.37C526.88,-260.59 539.51,-244.42 549.16,-232.08\"/>\n<polygon fill=\"black\" stroke=\"black\" points=\"552.14,-233.94 555.54,-223.91 546.63,-229.63 552.14,-233.94\"/>\n</g>\n<!-- 136534599746160 -->\n<g id=\"node12\" class=\"node\">\n<title>136534599746160</title>\n<polygon fill=\"orange\" stroke=\"black\" points=\"497,-229 426,-229 426,-199 497,-199 497,-229\"/>\n<text text-anchor=\"middle\" x=\"461.5\" y=\"-217\" font-family=\"monospace\" font-size=\"10.00\">mat1</text>\n<text text-anchor=\"middle\" x=\"461.5\" y=\"-206\" font-family=\"monospace\" font-size=\"10.00\"> (16, 64)</text>\n</g>\n<!-- 136534601260704&#45;&gt;136534599746160 -->\n<g id=\"edge10\" class=\"edge\">\n<title>136534601260704&#45;&gt;136534599746160</title>\n<path fill=\"none\" stroke=\"black\" d=\"M505.62,-270.37C497.25,-259.86 482.98,-241.96 472.94,-229.36\"/>\n</g>\n<!-- 136534599756720 -->\n<g id=\"node13\" class=\"node\">\n<title>136534599756720</title>\n<polygon fill=\"orange\" stroke=\"black\" points=\"408,-229 337,-229 337,-199 408,-199 408,-229\"/>\n<text text-anchor=\"middle\" x=\"372.5\" y=\"-217\" font-family=\"monospace\" font-size=\"10.00\">mat2</text>\n<text text-anchor=\"middle\" x=\"372.5\" y=\"-206\" font-family=\"monospace\" font-size=\"10.00\"> (64, 64)</text>\n</g>\n<!-- 136534601260704&#45;&gt;136534599756720 -->\n<g id=\"edge11\" class=\"edge\">\n<title>136534601260704&#45;&gt;136534599756720</title>\n<path fill=\"none\" stroke=\"black\" d=\"M493.62,-270.37C470.48,-259.79 430.96,-241.72 403.38,-229.12\"/>\n</g>\n<!-- 136534601987360 -->\n<g id=\"node14\" class=\"node\">\n<title>136534601987360</title>\n<polygon fill=\"lightgrey\" stroke=\"black\" points=\"644,-355.5 543,-355.5 543,-336.5 644,-336.5 644,-355.5\"/>\n<text text-anchor=\"middle\" x=\"593.5\" y=\"-343.5\" font-family=\"monospace\" font-size=\"10.00\">AccumulateGrad</text>\n</g>\n<!-- 136534601987360&#45;&gt;136534601260704 -->\n<g id=\"edge12\" class=\"edge\">\n<title>136534601987360&#45;&gt;136534601260704</title>\n<path fill=\"none\" stroke=\"black\" d=\"M582.58,-336.37C569.53,-326.06 547.49,-308.65 531.6,-296.09\"/>\n<polygon fill=\"black\" stroke=\"black\" points=\"533.53,-293.15 523.51,-289.7 529.19,-298.64 533.53,-293.15\"/>\n</g>\n<!-- 136534601742144 -->\n<g id=\"node15\" class=\"node\">\n<title>136534601742144</title>\n<polygon fill=\"lightblue\" stroke=\"black\" points=\"546,-427 481,-427 481,-397 546,-397 546,-427\"/>\n<text text-anchor=\"middle\" x=\"513.5\" y=\"-415\" font-family=\"monospace\" font-size=\"10.00\">fc3.bias</text>\n<text text-anchor=\"middle\" x=\"513.5\" y=\"-404\" font-family=\"monospace\" font-size=\"10.00\"> (64)</text>\n</g>\n<!-- 136534601742144&#45;&gt;136534601987360 -->\n<g id=\"edge13\" class=\"edge\">\n<title>136534601742144&#45;&gt;136534601987360</title>\n<path fill=\"none\" stroke=\"black\" d=\"M531.25,-396.8C544.09,-386.53 561.42,-372.67 574.53,-362.18\"/>\n<polygon fill=\"black\" stroke=\"black\" points=\"576.82,-364.82 582.44,-355.84 572.45,-359.36 576.82,-364.82\"/>\n</g>\n<!-- 136534601262240 -->\n<g id=\"node16\" class=\"node\">\n<title>136534601262240</title>\n<polygon fill=\"lightgrey\" stroke=\"black\" points=\"347,-355.5 252,-355.5 252,-336.5 347,-336.5 347,-355.5\"/>\n<text text-anchor=\"middle\" x=\"299.5\" y=\"-343.5\" font-family=\"monospace\" font-size=\"10.00\">ReluBackward0</text>\n</g>\n<!-- 136534601262240&#45;&gt;136534601260704 -->\n<g id=\"edge14\" class=\"edge\">\n<title>136534601262240&#45;&gt;136534601260704</title>\n<path fill=\"none\" stroke=\"black\" d=\"M328.23,-336.37C365.97,-325.03 432.36,-305.08 474.3,-292.48\"/>\n<polygon fill=\"black\" stroke=\"black\" points=\"475.32,-295.83 483.89,-289.6 473.31,-289.12 475.32,-295.83\"/>\n</g>\n<!-- 136534599751920 -->\n<g id=\"node17\" class=\"node\">\n<title>136534599751920</title>\n<polygon fill=\"orange\" stroke=\"black\" points=\"335,-295 264,-295 264,-265 335,-265 335,-295\"/>\n<text text-anchor=\"middle\" x=\"299.5\" y=\"-283\" font-family=\"monospace\" font-size=\"10.00\">result</text>\n<text text-anchor=\"middle\" x=\"299.5\" y=\"-272\" font-family=\"monospace\" font-size=\"10.00\"> (16, 64)</text>\n</g>\n<!-- 136534601262240&#45;&gt;136534599751920 -->\n<g id=\"edge15\" class=\"edge\">\n<title>136534601262240&#45;&gt;136534599751920</title>\n<path fill=\"none\" stroke=\"black\" d=\"M299.5,-336.37C299.5,-325.86 299.5,-307.96 299.5,-295.36\"/>\n</g>\n<!-- 136534601262768 -->\n<g id=\"node18\" class=\"node\">\n<title>136534601262768</title>\n<polygon fill=\"lightgrey\" stroke=\"black\" points=\"451,-421.5 350,-421.5 350,-402.5 451,-402.5 451,-421.5\"/>\n<text text-anchor=\"middle\" x=\"400.5\" y=\"-409.5\" font-family=\"monospace\" font-size=\"10.00\">AddmmBackward0</text>\n</g>\n<!-- 136534601262768&#45;&gt;136534601262240 -->\n<g id=\"edge16\" class=\"edge\">\n<title>136534601262768&#45;&gt;136534601262240</title>\n<path fill=\"none\" stroke=\"black\" d=\"M386.88,-402.37C370.16,-391.78 341.59,-373.67 321.69,-361.06\"/>\n<polygon fill=\"black\" stroke=\"black\" points=\"323.55,-358.1 313.23,-355.7 319.8,-364.01 323.55,-358.1\"/>\n</g>\n<!-- 136534599746480 -->\n<g id=\"node19\" class=\"node\">\n<title>136534599746480</title>\n<polygon fill=\"orange\" stroke=\"black\" points=\"436,-361 365,-361 365,-331 436,-331 436,-361\"/>\n<text text-anchor=\"middle\" x=\"400.5\" y=\"-349\" font-family=\"monospace\" font-size=\"10.00\">mat1</text>\n<text text-anchor=\"middle\" x=\"400.5\" y=\"-338\" font-family=\"monospace\" font-size=\"10.00\"> (16, 64)</text>\n</g>\n<!-- 136534601262768&#45;&gt;136534599746480 -->\n<g id=\"edge17\" class=\"edge\">\n<title>136534601262768&#45;&gt;136534599746480</title>\n<path fill=\"none\" stroke=\"black\" d=\"M400.5,-402.37C400.5,-391.86 400.5,-373.96 400.5,-361.36\"/>\n</g>\n<!-- 136534599756960 -->\n<g id=\"node20\" class=\"node\">\n<title>136534599756960</title>\n<polygon fill=\"orange\" stroke=\"black\" points=\"525,-361 454,-361 454,-331 525,-331 525,-361\"/>\n<text text-anchor=\"middle\" x=\"489.5\" y=\"-349\" font-family=\"monospace\" font-size=\"10.00\">mat2</text>\n<text text-anchor=\"middle\" x=\"489.5\" y=\"-338\" font-family=\"monospace\" font-size=\"10.00\"> (64, 64)</text>\n</g>\n<!-- 136534601262768&#45;&gt;136534599756960 -->\n<g id=\"edge18\" class=\"edge\">\n<title>136534601262768&#45;&gt;136534599756960</title>\n<path fill=\"none\" stroke=\"black\" d=\"M412.5,-402.37C427.21,-391.79 452.34,-373.72 469.87,-361.12\"/>\n</g>\n<!-- 136534601974064 -->\n<g id=\"node21\" class=\"node\">\n<title>136534601974064</title>\n<polygon fill=\"lightgrey\" stroke=\"black\" points=\"344,-487.5 243,-487.5 243,-468.5 344,-468.5 344,-487.5\"/>\n<text text-anchor=\"middle\" x=\"293.5\" y=\"-475.5\" font-family=\"monospace\" font-size=\"10.00\">AccumulateGrad</text>\n</g>\n<!-- 136534601974064&#45;&gt;136534601262768 -->\n<g id=\"edge19\" class=\"edge\">\n<title>136534601974064&#45;&gt;136534601262768</title>\n<path fill=\"none\" stroke=\"black\" d=\"M307.93,-468.37C325.72,-457.73 356.18,-439.51 377.28,-426.89\"/>\n<polygon fill=\"black\" stroke=\"black\" points=\"379.17,-429.84 385.96,-421.7 375.58,-423.83 379.17,-429.84\"/>\n</g>\n<!-- 136534601739184 -->\n<g id=\"node22\" class=\"node\">\n<title>136534601739184</title>\n<polygon fill=\"lightblue\" stroke=\"black\" points=\"326,-559 261,-559 261,-529 326,-529 326,-559\"/>\n<text text-anchor=\"middle\" x=\"293.5\" y=\"-547\" font-family=\"monospace\" font-size=\"10.00\">fc2.bias</text>\n<text text-anchor=\"middle\" x=\"293.5\" y=\"-536\" font-family=\"monospace\" font-size=\"10.00\"> (64)</text>\n</g>\n<!-- 136534601739184&#45;&gt;136534601974064 -->\n<g id=\"edge20\" class=\"edge\">\n<title>136534601739184&#45;&gt;136534601974064</title>\n<path fill=\"none\" stroke=\"black\" d=\"M293.5,-528.8C293.5,-519.7 293.5,-507.79 293.5,-497.9\"/>\n<polygon fill=\"black\" stroke=\"black\" points=\"297,-497.84 293.5,-487.84 290,-497.84 297,-497.84\"/>\n</g>\n<!-- 136534601253168 -->\n<g id=\"node23\" class=\"node\">\n<title>136534601253168</title>\n<polygon fill=\"lightgrey\" stroke=\"black\" points=\"647,-487.5 552,-487.5 552,-468.5 647,-468.5 647,-487.5\"/>\n<text text-anchor=\"middle\" x=\"599.5\" y=\"-475.5\" font-family=\"monospace\" font-size=\"10.00\">ReluBackward0</text>\n</g>\n<!-- 136534601253168&#45;&gt;136534601262768 -->\n<g id=\"edge21\" class=\"edge\">\n<title>136534601253168&#45;&gt;136534601262768</title>\n<path fill=\"none\" stroke=\"black\" d=\"M572.66,-468.37C537.63,-457.1 476.16,-437.33 436.94,-424.72\"/>\n<polygon fill=\"black\" stroke=\"black\" points=\"437.82,-421.33 427.23,-421.6 435.68,-427.99 437.82,-421.33\"/>\n</g>\n<!-- 136534599757040 -->\n<g id=\"node24\" class=\"node\">\n<title>136534599757040</title>\n<polygon fill=\"orange\" stroke=\"black\" points=\"635,-427 564,-427 564,-397 635,-397 635,-427\"/>\n<text text-anchor=\"middle\" x=\"599.5\" y=\"-415\" font-family=\"monospace\" font-size=\"10.00\">result</text>\n<text text-anchor=\"middle\" x=\"599.5\" y=\"-404\" font-family=\"monospace\" font-size=\"10.00\"> (16, 64)</text>\n</g>\n<!-- 136534601253168&#45;&gt;136534599757040 -->\n<g id=\"edge22\" class=\"edge\">\n<title>136534601253168&#45;&gt;136534599757040</title>\n<path fill=\"none\" stroke=\"black\" d=\"M599.5,-468.37C599.5,-457.86 599.5,-439.96 599.5,-427.36\"/>\n</g>\n<!-- 136534601265408 -->\n<g id=\"node25\" class=\"node\">\n<title>136534601265408</title>\n<polygon fill=\"lightgrey\" stroke=\"black\" points=\"610,-553.5 509,-553.5 509,-534.5 610,-534.5 610,-553.5\"/>\n<text text-anchor=\"middle\" x=\"559.5\" y=\"-541.5\" font-family=\"monospace\" font-size=\"10.00\">AddmmBackward0</text>\n</g>\n<!-- 136534601265408&#45;&gt;136534601253168 -->\n<g id=\"edge23\" class=\"edge\">\n<title>136534601265408&#45;&gt;136534601253168</title>\n<path fill=\"none\" stroke=\"black\" d=\"M564.89,-534.37C570.94,-524.69 580.91,-508.74 588.6,-496.44\"/>\n<polygon fill=\"black\" stroke=\"black\" points=\"591.6,-498.24 593.93,-487.91 585.67,-494.53 591.6,-498.24\"/>\n</g>\n<!-- 136534599746640 -->\n<g id=\"node26\" class=\"node\">\n<title>136534599746640</title>\n<polygon fill=\"orange\" stroke=\"black\" points=\"534,-493 457,-493 457,-463 534,-463 534,-493\"/>\n<text text-anchor=\"middle\" x=\"495.5\" y=\"-481\" font-family=\"monospace\" font-size=\"10.00\">mat1</text>\n<text text-anchor=\"middle\" x=\"495.5\" y=\"-470\" font-family=\"monospace\" font-size=\"10.00\"> (16, 784)</text>\n</g>\n<!-- 136534601265408&#45;&gt;136534599746640 -->\n<g id=\"edge24\" class=\"edge\">\n<title>136534601265408&#45;&gt;136534599746640</title>\n<path fill=\"none\" stroke=\"black\" d=\"M550.87,-534.37C540.36,-523.86 522.46,-505.96 509.86,-493.36\"/>\n</g>\n<!-- 136534601982560 -->\n<g id=\"node27\" class=\"node\">\n<title>136534601982560</title>\n<polygon fill=\"lightgrey\" stroke=\"black\" points=\"685,-619.5 584,-619.5 584,-600.5 685,-600.5 685,-619.5\"/>\n<text text-anchor=\"middle\" x=\"634.5\" y=\"-607.5\" font-family=\"monospace\" font-size=\"10.00\">AccumulateGrad</text>\n</g>\n<!-- 136534601982560&#45;&gt;136534601265408 -->\n<g id=\"edge25\" class=\"edge\">\n<title>136534601982560&#45;&gt;136534601265408</title>\n<path fill=\"none\" stroke=\"black\" d=\"M624.39,-600.37C612.49,-590.21 592.5,-573.16 577.85,-560.65\"/>\n<polygon fill=\"black\" stroke=\"black\" points=\"579.81,-557.73 569.94,-553.91 575.27,-563.06 579.81,-557.73\"/>\n</g>\n<!-- 136534601739904 -->\n<g id=\"node28\" class=\"node\">\n<title>136534601739904</title>\n<polygon fill=\"lightblue\" stroke=\"black\" points=\"667,-691 602,-691 602,-661 667,-661 667,-691\"/>\n<text text-anchor=\"middle\" x=\"634.5\" y=\"-679\" font-family=\"monospace\" font-size=\"10.00\">fc1.bias</text>\n<text text-anchor=\"middle\" x=\"634.5\" y=\"-668\" font-family=\"monospace\" font-size=\"10.00\"> (64)</text>\n</g>\n<!-- 136534601739904&#45;&gt;136534601982560 -->\n<g id=\"edge26\" class=\"edge\">\n<title>136534601739904&#45;&gt;136534601982560</title>\n<path fill=\"none\" stroke=\"black\" d=\"M634.5,-660.8C634.5,-651.7 634.5,-639.79 634.5,-629.9\"/>\n<polygon fill=\"black\" stroke=\"black\" points=\"638,-629.84 634.5,-619.84 631,-629.84 638,-629.84\"/>\n</g>\n<!-- 136534601259120 -->\n<g id=\"node29\" class=\"node\">\n<title>136534601259120</title>\n<polygon fill=\"lightgrey\" stroke=\"black\" points=\"566,-619.5 489,-619.5 489,-600.5 566,-600.5 566,-619.5\"/>\n<text text-anchor=\"middle\" x=\"527.5\" y=\"-607.5\" font-family=\"monospace\" font-size=\"10.00\">TBackward0</text>\n</g>\n<!-- 136534601259120&#45;&gt;136534601265408 -->\n<g id=\"edge27\" class=\"edge\">\n<title>136534601259120&#45;&gt;136534601265408</title>\n<path fill=\"none\" stroke=\"black\" d=\"M531.82,-600.37C536.56,-590.88 544.32,-575.36 550.42,-563.16\"/>\n<polygon fill=\"black\" stroke=\"black\" points=\"553.71,-564.41 555.05,-553.91 547.44,-561.28 553.71,-564.41\"/>\n</g>\n<!-- 136534601987696 -->\n<g id=\"node30\" class=\"node\">\n<title>136534601987696</title>\n<polygon fill=\"lightgrey\" stroke=\"black\" points=\"578,-685.5 477,-685.5 477,-666.5 578,-666.5 578,-685.5\"/>\n<text text-anchor=\"middle\" x=\"527.5\" y=\"-673.5\" font-family=\"monospace\" font-size=\"10.00\">AccumulateGrad</text>\n</g>\n<!-- 136534601987696&#45;&gt;136534601259120 -->\n<g id=\"edge28\" class=\"edge\">\n<title>136534601987696&#45;&gt;136534601259120</title>\n<path fill=\"none\" stroke=\"black\" d=\"M527.5,-666.37C527.5,-657.16 527.5,-642.29 527.5,-630.27\"/>\n<polygon fill=\"black\" stroke=\"black\" points=\"531,-629.91 527.5,-619.91 524,-629.91 531,-629.91\"/>\n</g>\n<!-- 136534599945968 -->\n<g id=\"node31\" class=\"node\">\n<title>136534599945968</title>\n<polygon fill=\"lightblue\" stroke=\"black\" points=\"566,-757 489,-757 489,-727 566,-727 566,-757\"/>\n<text text-anchor=\"middle\" x=\"527.5\" y=\"-745\" font-family=\"monospace\" font-size=\"10.00\">fc1.weight</text>\n<text text-anchor=\"middle\" x=\"527.5\" y=\"-734\" font-family=\"monospace\" font-size=\"10.00\"> (64, 784)</text>\n</g>\n<!-- 136534599945968&#45;&gt;136534601987696 -->\n<g id=\"edge29\" class=\"edge\">\n<title>136534599945968&#45;&gt;136534601987696</title>\n<path fill=\"none\" stroke=\"black\" d=\"M527.5,-726.8C527.5,-717.7 527.5,-705.79 527.5,-695.9\"/>\n<polygon fill=\"black\" stroke=\"black\" points=\"531,-695.84 527.5,-685.84 524,-695.84 531,-695.84\"/>\n</g>\n<!-- 136534601262384 -->\n<g id=\"node32\" class=\"node\">\n<title>136534601262384</title>\n<polygon fill=\"lightgrey\" stroke=\"black\" points=\"439,-487.5 362,-487.5 362,-468.5 439,-468.5 439,-487.5\"/>\n<text text-anchor=\"middle\" x=\"400.5\" y=\"-475.5\" font-family=\"monospace\" font-size=\"10.00\">TBackward0</text>\n</g>\n<!-- 136534601262384&#45;&gt;136534601262768 -->\n<g id=\"edge30\" class=\"edge\">\n<title>136534601262384&#45;&gt;136534601262768</title>\n<path fill=\"none\" stroke=\"black\" d=\"M400.5,-468.37C400.5,-459.16 400.5,-444.29 400.5,-432.27\"/>\n<polygon fill=\"black\" stroke=\"black\" points=\"404,-431.91 400.5,-421.91 397,-431.91 404,-431.91\"/>\n</g>\n<!-- 136534601980832 -->\n<g id=\"node33\" class=\"node\">\n<title>136534601980832</title>\n<polygon fill=\"lightgrey\" stroke=\"black\" points=\"451,-553.5 350,-553.5 350,-534.5 451,-534.5 451,-553.5\"/>\n<text text-anchor=\"middle\" x=\"400.5\" y=\"-541.5\" font-family=\"monospace\" font-size=\"10.00\">AccumulateGrad</text>\n</g>\n<!-- 136534601980832&#45;&gt;136534601262384 -->\n<g id=\"edge31\" class=\"edge\">\n<title>136534601980832&#45;&gt;136534601262384</title>\n<path fill=\"none\" stroke=\"black\" d=\"M400.5,-534.37C400.5,-525.16 400.5,-510.29 400.5,-498.27\"/>\n<polygon fill=\"black\" stroke=\"black\" points=\"404,-497.91 400.5,-487.91 397,-497.91 404,-497.91\"/>\n</g>\n<!-- 136534599945168 -->\n<g id=\"node34\" class=\"node\">\n<title>136534599945168</title>\n<polygon fill=\"lightblue\" stroke=\"black\" points=\"439,-625 362,-625 362,-595 439,-595 439,-625\"/>\n<text text-anchor=\"middle\" x=\"400.5\" y=\"-613\" font-family=\"monospace\" font-size=\"10.00\">fc2.weight</text>\n<text text-anchor=\"middle\" x=\"400.5\" y=\"-602\" font-family=\"monospace\" font-size=\"10.00\"> (64, 64)</text>\n</g>\n<!-- 136534599945168&#45;&gt;136534601980832 -->\n<g id=\"edge32\" class=\"edge\">\n<title>136534599945168&#45;&gt;136534601980832</title>\n<path fill=\"none\" stroke=\"black\" d=\"M400.5,-594.8C400.5,-585.7 400.5,-573.79 400.5,-563.9\"/>\n<polygon fill=\"black\" stroke=\"black\" points=\"404,-563.84 400.5,-553.84 397,-563.84 404,-563.84\"/>\n</g>\n<!-- 136534601264736 -->\n<g id=\"node35\" class=\"node\">\n<title>136534601264736</title>\n<polygon fill=\"lightgrey\" stroke=\"black\" points=\"741,-355.5 664,-355.5 664,-336.5 741,-336.5 741,-355.5\"/>\n<text text-anchor=\"middle\" x=\"702.5\" y=\"-343.5\" font-family=\"monospace\" font-size=\"10.00\">TBackward0</text>\n</g>\n<!-- 136534601264736&#45;&gt;136534601260704 -->\n<g id=\"edge33\" class=\"edge\">\n<title>136534601264736&#45;&gt;136534601260704</title>\n<path fill=\"none\" stroke=\"black\" d=\"M676.88,-336.37C643.49,-325.12 584.99,-305.42 547.53,-292.8\"/>\n<polygon fill=\"black\" stroke=\"black\" points=\"548.62,-289.47 538.02,-289.6 546.38,-296.11 548.62,-289.47\"/>\n</g>\n<!-- 136534601978528 -->\n<g id=\"node36\" class=\"node\">\n<title>136534601978528</title>\n<polygon fill=\"lightgrey\" stroke=\"black\" points=\"754,-421.5 653,-421.5 653,-402.5 754,-402.5 754,-421.5\"/>\n<text text-anchor=\"middle\" x=\"703.5\" y=\"-409.5\" font-family=\"monospace\" font-size=\"10.00\">AccumulateGrad</text>\n</g>\n<!-- 136534601978528&#45;&gt;136534601264736 -->\n<g id=\"edge34\" class=\"edge\">\n<title>136534601978528&#45;&gt;136534601264736</title>\n<path fill=\"none\" stroke=\"black\" d=\"M703.37,-402.37C703.22,-393.16 702.99,-378.29 702.8,-366.27\"/>\n<polygon fill=\"black\" stroke=\"black\" points=\"706.3,-365.85 702.64,-355.91 699.3,-365.96 706.3,-365.85\"/>\n</g>\n<!-- 136534601736704 -->\n<g id=\"node37\" class=\"node\">\n<title>136534601736704</title>\n<polygon fill=\"lightblue\" stroke=\"black\" points=\"742,-493 665,-493 665,-463 742,-463 742,-493\"/>\n<text text-anchor=\"middle\" x=\"703.5\" y=\"-481\" font-family=\"monospace\" font-size=\"10.00\">fc3.weight</text>\n<text text-anchor=\"middle\" x=\"703.5\" y=\"-470\" font-family=\"monospace\" font-size=\"10.00\"> (64, 64)</text>\n</g>\n<!-- 136534601736704&#45;&gt;136534601978528 -->\n<g id=\"edge35\" class=\"edge\">\n<title>136534601736704&#45;&gt;136534601978528</title>\n<path fill=\"none\" stroke=\"black\" d=\"M703.5,-462.8C703.5,-453.7 703.5,-441.79 703.5,-431.9\"/>\n<polygon fill=\"black\" stroke=\"black\" points=\"707,-431.84 703.5,-421.84 700,-431.84 707,-431.84\"/>\n</g>\n<!-- 136534601253504 -->\n<g id=\"node38\" class=\"node\">\n<title>136534601253504</title>\n<polygon fill=\"lightgrey\" stroke=\"black\" points=\"237,-223.5 160,-223.5 160,-204.5 237,-204.5 237,-223.5\"/>\n<text text-anchor=\"middle\" x=\"198.5\" y=\"-211.5\" font-family=\"monospace\" font-size=\"10.00\">TBackward0</text>\n</g>\n<!-- 136534601253504&#45;&gt;136534601261712 -->\n<g id=\"edge36\" class=\"edge\">\n<title>136534601253504&#45;&gt;136534601261712</title>\n<path fill=\"none\" stroke=\"black\" d=\"M198.5,-204.37C198.5,-195.16 198.5,-180.29 198.5,-168.27\"/>\n<polygon fill=\"black\" stroke=\"black\" points=\"202,-167.91 198.5,-157.91 195,-167.91 202,-167.91\"/>\n</g>\n<!-- 136534601974352 -->\n<g id=\"node39\" class=\"node\">\n<title>136534601974352</title>\n<polygon fill=\"lightgrey\" stroke=\"black\" points=\"246,-289.5 145,-289.5 145,-270.5 246,-270.5 246,-289.5\"/>\n<text text-anchor=\"middle\" x=\"195.5\" y=\"-277.5\" font-family=\"monospace\" font-size=\"10.00\">AccumulateGrad</text>\n</g>\n<!-- 136534601974352&#45;&gt;136534601253504 -->\n<g id=\"edge37\" class=\"edge\">\n<title>136534601974352&#45;&gt;136534601253504</title>\n<path fill=\"none\" stroke=\"black\" d=\"M195.9,-270.37C196.34,-261.07 197.05,-245.98 197.61,-233.9\"/>\n<polygon fill=\"black\" stroke=\"black\" points=\"201.11,-234.06 198.08,-223.91 194.12,-233.73 201.11,-234.06\"/>\n</g>\n<!-- 136534601736864 -->\n<g id=\"node40\" class=\"node\">\n<title>136534601736864</title>\n<polygon fill=\"lightblue\" stroke=\"black\" points=\"234,-361 157,-361 157,-331 234,-331 234,-361\"/>\n<text text-anchor=\"middle\" x=\"195.5\" y=\"-349\" font-family=\"monospace\" font-size=\"10.00\">fc4.weight</text>\n<text text-anchor=\"middle\" x=\"195.5\" y=\"-338\" font-family=\"monospace\" font-size=\"10.00\"> (10, 64)</text>\n</g>\n<!-- 136534601736864&#45;&gt;136534601974352 -->\n<g id=\"edge38\" class=\"edge\">\n<title>136534601736864&#45;&gt;136534601974352</title>\n<path fill=\"none\" stroke=\"black\" d=\"M195.5,-330.8C195.5,-321.7 195.5,-309.79 195.5,-299.9\"/>\n<polygon fill=\"black\" stroke=\"black\" points=\"199,-299.84 195.5,-289.84 192,-299.84 199,-299.84\"/>\n</g>\n</g>\n</svg>\n",
            "text/plain": [
              "<graphviz.graphs.Digraph at 0x7c2d70685840>"
            ]
          },
          "metadata": {},
          "execution_count": 134
        }
      ]
    },
    {
      "cell_type": "code",
      "source": [],
      "metadata": {
        "id": "0sJxilblm2WU"
      },
      "execution_count": null,
      "outputs": []
    }
  ]
}