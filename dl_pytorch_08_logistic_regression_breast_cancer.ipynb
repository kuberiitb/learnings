{
  "nbformat": 4,
  "nbformat_minor": 0,
  "metadata": {
    "colab": {
      "provenance": [],
      "authorship_tag": "ABX9TyMhKy5Z1AXeUtcl78AerVhw",
      "include_colab_link": true
    },
    "kernelspec": {
      "name": "python3",
      "display_name": "Python 3"
    },
    "language_info": {
      "name": "python"
    }
  },
  "cells": [
    {
      "cell_type": "markdown",
      "metadata": {
        "id": "view-in-github",
        "colab_type": "text"
      },
      "source": [
        "<a href=\"https://colab.research.google.com/github/kuberiitb/learnings/blob/master/dl_pytorch_08_logistic_regression_breast_cancer.ipynb\" target=\"_parent\"><img src=\"https://colab.research.google.com/assets/colab-badge.svg\" alt=\"Open In Colab\"/></a>"
      ]
    },
    {
      "cell_type": "code",
      "execution_count": 60,
      "metadata": {
        "id": "jJRM5QcPUF2V"
      },
      "outputs": [],
      "source": [
        "import torch\n",
        "import torch.nn as nn\n",
        "import numpy as np\n",
        "from sklearn import datasets\n",
        "from sklearn.preprocessing import StandardScaler\n",
        "from sklearn.model_selection import train_test_split"
      ]
    },
    {
      "cell_type": "code",
      "source": [
        "bc = datasets.load_breast_cancer()\n",
        "X, y = bc.data, bc.target\n",
        "n_samples, n_features = X.shape"
      ],
      "metadata": {
        "id": "AAWSHZtMUR8H"
      },
      "execution_count": 61,
      "outputs": []
    },
    {
      "cell_type": "code",
      "source": [
        "X_train, X_test, y_train, y_test = train_test_split(X, y, test_size=0.2, random_state=1234)"
      ],
      "metadata": {
        "id": "GnzH3PO3Ugmm"
      },
      "execution_count": 62,
      "outputs": []
    },
    {
      "cell_type": "code",
      "source": [
        "X_train.shape, y_train.shape"
      ],
      "metadata": {
        "colab": {
          "base_uri": "https://localhost:8080/"
        },
        "id": "JnLLqMv9UrC_",
        "outputId": "1c171bd7-ff71-4bf5-e55e-022408e05d7c"
      },
      "execution_count": 65,
      "outputs": [
        {
          "output_type": "execute_result",
          "data": {
            "text/plain": [
              "((455, 30), (455,))"
            ]
          },
          "metadata": {},
          "execution_count": 65
        }
      ]
    },
    {
      "cell_type": "code",
      "source": [
        "sc = StandardScaler()\n",
        "X_train = sc.fit_transform(X_train)\n",
        "X_test = sc.transform(X_test)"
      ],
      "metadata": {
        "id": "N2DaDORFUtXB"
      },
      "execution_count": 66,
      "outputs": []
    },
    {
      "cell_type": "code",
      "source": [
        "X_train[0]"
      ],
      "metadata": {
        "colab": {
          "base_uri": "https://localhost:8080/"
        },
        "id": "KYoTFjDyUyv2",
        "outputId": "01b59c0d-d66d-4476-a1fb-70bb2be4cfb6"
      },
      "execution_count": 67,
      "outputs": [
        {
          "output_type": "execute_result",
          "data": {
            "text/plain": [
              "array([-0.36180827, -0.26521011, -0.31715702, -0.46713841,  1.80382609,\n",
              "        1.18174184, -0.51689239,  0.10653677, -0.39005152,  1.39140136,\n",
              "        0.14370971, -0.12075458,  0.16013008, -0.13255126, -0.58631633,\n",
              "       -0.12476339, -0.57865272,  0.10906824, -0.28187354, -0.1889237 ,\n",
              "       -0.25710149, -0.24033176, -0.2441722 , -0.36688232,  0.5448709 ,\n",
              "        0.24812607, -0.71088618, -0.07967528, -0.52798733,  0.2506337 ])"
            ]
          },
          "metadata": {},
          "execution_count": 67
        }
      ]
    },
    {
      "cell_type": "markdown",
      "source": [
        "## Converting X numpy array to torch tensor"
      ],
      "metadata": {
        "id": "_bbpfMvzcuXc"
      }
    },
    {
      "cell_type": "code",
      "source": [
        "X_train = torch.from_numpy(X_train.astype(np.float32))"
      ],
      "metadata": {
        "id": "mzwN_rD-cPex"
      },
      "execution_count": 68,
      "outputs": []
    },
    {
      "cell_type": "code",
      "source": [
        "X_test = torch.from_numpy(X_test.astype(np.float32))"
      ],
      "metadata": {
        "id": "MT1GkK_Vcg_u"
      },
      "execution_count": 69,
      "outputs": []
    },
    {
      "cell_type": "code",
      "source": [
        "X_train[0]"
      ],
      "metadata": {
        "colab": {
          "base_uri": "https://localhost:8080/"
        },
        "id": "MCftCeOUcjbc",
        "outputId": "74951134-d2ab-46d4-babb-f119ac41e164"
      },
      "execution_count": 70,
      "outputs": [
        {
          "output_type": "execute_result",
          "data": {
            "text/plain": [
              "tensor([-0.3618, -0.2652, -0.3172, -0.4671,  1.8038,  1.1817, -0.5169,  0.1065,\n",
              "        -0.3901,  1.3914,  0.1437, -0.1208,  0.1601, -0.1326, -0.5863, -0.1248,\n",
              "        -0.5787,  0.1091, -0.2819, -0.1889, -0.2571, -0.2403, -0.2442, -0.3669,\n",
              "         0.5449,  0.2481, -0.7109, -0.0797, -0.5280,  0.2506])"
            ]
          },
          "metadata": {},
          "execution_count": 70
        }
      ]
    },
    {
      "cell_type": "markdown",
      "source": [
        "## Reshape y arrays to tensors"
      ],
      "metadata": {
        "id": "anTXgorLc9uG"
      }
    },
    {
      "cell_type": "code",
      "source": [
        "y_train = torch.from_numpy(y_train.astype(np.float32))"
      ],
      "metadata": {
        "id": "IuRiHSKYg9pF"
      },
      "execution_count": 73,
      "outputs": []
    },
    {
      "cell_type": "code",
      "source": [
        "y_test = torch.from_numpy(y_test.astype(np.float32))"
      ],
      "metadata": {
        "id": "Bfva6vPvhKbV"
      },
      "execution_count": 74,
      "outputs": []
    },
    {
      "cell_type": "code",
      "source": [
        "y_train = y_train.view(y_train.shape[0],1)\n",
        "y_test = y_test.view(y_test.shape[0],1)"
      ],
      "metadata": {
        "id": "kKu92XjpcmjK"
      },
      "execution_count": 75,
      "outputs": []
    },
    {
      "cell_type": "markdown",
      "source": [
        "# Model"
      ],
      "metadata": {
        "id": "o_b9ryOcdcEm"
      }
    },
    {
      "cell_type": "code",
      "source": [
        "class LogisticRegression(nn.Module):\n",
        "  def __init__(self, n_input_features):\n",
        "    super(LogisticRegression, self).__init__()\n",
        "    self.linear = nn.Linear(n_input_features, 1)\n",
        "\n",
        "  def forward(self, x):\n",
        "    y_predicted = torch.sigmoid(self.linear(x))\n",
        "    return y_predicted\n",
        "\n",
        "model = LogisticRegression(n_features)"
      ],
      "metadata": {
        "id": "H_nbkRXIddP_"
      },
      "execution_count": 78,
      "outputs": []
    },
    {
      "cell_type": "code",
      "source": [
        "learning_rate = 0.01"
      ],
      "metadata": {
        "id": "0utgxQ2peNTh"
      },
      "execution_count": 79,
      "outputs": []
    },
    {
      "cell_type": "code",
      "source": [
        "criterion = nn.BCELoss() #loss"
      ],
      "metadata": {
        "id": "afyCTfizd7TI"
      },
      "execution_count": 80,
      "outputs": []
    },
    {
      "cell_type": "code",
      "source": [
        "optimizer = torch.optim.SGD(model.parameters(), lr=learning_rate) #optimizer"
      ],
      "metadata": {
        "id": "Uw2sGBqjeEcV"
      },
      "execution_count": 81,
      "outputs": []
    },
    {
      "cell_type": "code",
      "source": [
        "num_epochs = 100\n",
        "for epoch in range(num_epochs):\n",
        "  y_pred = model(X_train)\n",
        "  loss = criterion(y_pred, y_train)\n",
        "\n",
        "  loss.backward()\n",
        "\n",
        "  optimizer.step()\n",
        "\n",
        "  optimizer.zero_grad()\n",
        "\n",
        "  if (epoch+1)%10==0:\n",
        "    print(epoch, loss)"
      ],
      "metadata": {
        "colab": {
          "base_uri": "https://localhost:8080/"
        },
        "id": "JKrT3iXXeXYU",
        "outputId": "7e6efedd-485a-4bc0-b2d9-c1fb913a9485"
      },
      "execution_count": 83,
      "outputs": [
        {
          "output_type": "stream",
          "name": "stdout",
          "text": [
            "9 tensor(0.6044, grad_fn=<BinaryCrossEntropyBackward0>)\n",
            "19 tensor(0.4959, grad_fn=<BinaryCrossEntropyBackward0>)\n",
            "29 tensor(0.4274, grad_fn=<BinaryCrossEntropyBackward0>)\n",
            "39 tensor(0.3800, grad_fn=<BinaryCrossEntropyBackward0>)\n",
            "49 tensor(0.3449, grad_fn=<BinaryCrossEntropyBackward0>)\n",
            "59 tensor(0.3178, grad_fn=<BinaryCrossEntropyBackward0>)\n",
            "69 tensor(0.2961, grad_fn=<BinaryCrossEntropyBackward0>)\n",
            "79 tensor(0.2783, grad_fn=<BinaryCrossEntropyBackward0>)\n",
            "89 tensor(0.2633, grad_fn=<BinaryCrossEntropyBackward0>)\n",
            "99 tensor(0.2504, grad_fn=<BinaryCrossEntropyBackward0>)\n"
          ]
        }
      ]
    },
    {
      "cell_type": "code",
      "source": [
        "with torch.no_grad():\n",
        "  y_pred_train = model(X_train)\n",
        "  y_pred_cls_train = y_pred_train.round()\n",
        "  acc_train = y_pred_cls_train.eq(y_train).sum()/float(y_train.shape[0])\n",
        "\n",
        "  y_pred_test = model(X_test)\n",
        "  y_pred_cls_test = y_pred_test.round()\n",
        "  acc_test = y_pred_cls_test.eq(y_test).sum()/float(y_test.shape[0])\n",
        "  print(f\"accruacy: acc_train {acc_train:.4f} acc_test:{acc_test:.4f} \")"
      ],
      "metadata": {
        "colab": {
          "base_uri": "https://localhost:8080/"
        },
        "id": "1s_DPXivfOQW",
        "outputId": "5ceed443-0220-45cd-f843-db2a4ee31410"
      },
      "execution_count": 91,
      "outputs": [
        {
          "output_type": "stream",
          "name": "stdout",
          "text": [
            "accruacy: acc_train 0.9429 acc_test:0.9035 \n"
          ]
        }
      ]
    },
    {
      "cell_type": "code",
      "source": [],
      "metadata": {
        "id": "tlMBPg_sfZ6w"
      },
      "execution_count": 87,
      "outputs": []
    },
    {
      "cell_type": "code",
      "source": [],
      "metadata": {
        "id": "b39uGG74faxt"
      },
      "execution_count": null,
      "outputs": []
    }
  ]
}