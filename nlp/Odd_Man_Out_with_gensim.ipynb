{
  "nbformat": 4,
  "nbformat_minor": 0,
  "metadata": {
    "kernelspec": {
      "display_name": "Python 3",
      "language": "python",
      "name": "python3"
    },
    "language_info": {
      "codemirror_mode": {
        "name": "ipython",
        "version": 3
      },
      "file_extension": ".py",
      "mimetype": "text/x-python",
      "name": "python",
      "nbconvert_exporter": "python",
      "pygments_lexer": "ipython3",
      "version": "3.7.1"
    },
    "colab": {
      "name": "Odd Man Out with gensim.ipynb",
      "provenance": [],
      "collapsed_sections": []
    }
  },
  "cells": [
    {
      "cell_type": "markdown",
      "metadata": {
        "id": "qY49pL1Q6e9O"
      },
      "source": [
        "# Gensim word vector visualization of various word vectors"
      ]
    },
    {
      "cell_type": "code",
      "metadata": {
        "id": "T6rGu40p6e9c"
      },
      "source": [
        "import numpy as np\n",
        "\n",
        "# Get the interactive Tools for Matplotlib\n",
        "%matplotlib notebook\n",
        "import matplotlib.pyplot as plt\n",
        "plt.style.use('ggplot')\n",
        "\n",
        "from gensim.test.utils import datapath\n",
        "from gensim.models import KeyedVectors\n",
        "from gensim.scripts.glove2word2vec import glove2word2vec"
      ],
      "execution_count": 7,
      "outputs": []
    },
    {
      "cell_type": "code",
      "metadata": {
        "colab": {
          "base_uri": "https://localhost:8080/"
        },
        "id": "_eg7y5KZByNB",
        "outputId": "8a2062a9-6008-48aa-9d1c-c4ff04a98744"
      },
      "source": [
        "from google.colab import drive\n",
        "drive.mount('/content/drive')"
      ],
      "execution_count": 2,
      "outputs": [
        {
          "output_type": "stream",
          "text": [
            "Mounted at /content/drive\n"
          ],
          "name": "stdout"
        }
      ]
    },
    {
      "cell_type": "markdown",
      "metadata": {
        "id": "n18uuKXQ6e9e"
      },
      "source": [
        "For looking at word vectors, I'll use Gensim. We also use it in hw1 for word vectors. Gensim isn't really a deep learning package. It's a package for for word and text similarity modeling, which started with (LDA-style) topic models and grew into SVD and neural word representations. But its efficient and scalable, and quite widely used."
      ]
    },
    {
      "cell_type": "markdown",
      "metadata": {
        "id": "51E_yUNN6e9f"
      },
      "source": [
        "Our homegrown Stanford offering is GloVe word vectors. Gensim doesn't give them first class support, but allows you to convert a file of GloVe vectors into word2vec format. You can download the GloVe vectors from [the Glove page](https://nlp.stanford.edu/projects/glove/). They're inside [this zip file](https://nlp.stanford.edu/data/glove.6B.zip)"
      ]
    },
    {
      "cell_type": "markdown",
      "metadata": {
        "id": "haYwjDCI6e9g"
      },
      "source": [
        "(I use the 100d vectors below as a mix between speed and smallness vs. quality. If you try out the 50d vectors, they basically work for similarity but clearly aren't as good for analogy problems. If you load the 300d vectors, they're even better than the 100d vectors.)"
      ]
    },
    {
      "cell_type": "code",
      "metadata": {
        "colab": {
          "base_uri": "https://localhost:8080/"
        },
        "id": "SMiylMSgCBJ0",
        "outputId": "bee4e761-cafb-4e77-f83f-a5655e70ad60"
      },
      "source": [
        "#!wget https://nlp.stanford.edu/data/glove.6B.zip\n",
        "#!cp glove.* /content/drive/MyDrive/dataScience/deepLearning/nlp/\n",
        "! cp /content/drive/MyDrive/dataScience/deepLearning/nlp/glove.6B.zip . \n",
        "!unzip glove.6B.zip "
      ],
      "execution_count": 3,
      "outputs": [
        {
          "output_type": "stream",
          "text": [
            "Archive:  glove.6B.zip\n",
            "  inflating: glove.6B.50d.txt        \n",
            "  inflating: glove.6B.100d.txt       \n",
            "  inflating: glove.6B.200d.txt       \n",
            "  inflating: glove.6B.300d.txt       \n"
          ],
          "name": "stdout"
        }
      ]
    },
    {
      "cell_type": "code",
      "metadata": {
        "colab": {
          "base_uri": "https://localhost:8080/"
        },
        "id": "HFO75d8UCldg",
        "outputId": "1a6372e5-6f5a-45c6-fe3f-db419b20a5f7"
      },
      "source": [
        "!ls -ltrh"
      ],
      "execution_count": 4,
      "outputs": [
        {
          "output_type": "stream",
          "text": [
            "total 2.9G\n",
            "-rw-rw-r-- 1 root root 332M Aug  4  2014 glove.6B.100d.txt\n",
            "-rw-rw-r-- 1 root root 662M Aug  4  2014 glove.6B.200d.txt\n",
            "-rw-rw-r-- 1 root root 164M Aug  4  2014 glove.6B.50d.txt\n",
            "-rw-rw-r-- 1 root root 990M Aug 27  2014 glove.6B.300d.txt\n",
            "drwxr-xr-x 1 root root 4.0K Jun 15 13:37 sample_data\n",
            "drwx------ 5 root root 4.0K Jun 17 12:12 drive\n",
            "-rw------- 1 root root 823M Jun 17 12:12 glove.6B.zip\n"
          ],
          "name": "stdout"
        }
      ]
    },
    {
      "cell_type": "code",
      "metadata": {
        "colab": {
          "base_uri": "https://localhost:8080/"
        },
        "id": "uTQbOW0iuN1s",
        "outputId": "ead12ed6-6282-40e0-e1b5-433f1e229838"
      },
      "source": [
        "!head glove.6B.100d.txt -n 3"
      ],
      "execution_count": 5,
      "outputs": [
        {
          "output_type": "stream",
          "text": [
            "the -0.038194 -0.24487 0.72812 -0.39961 0.083172 0.043953 -0.39141 0.3344 -0.57545 0.087459 0.28787 -0.06731 0.30906 -0.26384 -0.13231 -0.20757 0.33395 -0.33848 -0.31743 -0.48336 0.1464 -0.37304 0.34577 0.052041 0.44946 -0.46971 0.02628 -0.54155 -0.15518 -0.14107 -0.039722 0.28277 0.14393 0.23464 -0.31021 0.086173 0.20397 0.52624 0.17164 -0.082378 -0.71787 -0.41531 0.20335 -0.12763 0.41367 0.55187 0.57908 -0.33477 -0.36559 -0.54857 -0.062892 0.26584 0.30205 0.99775 -0.80481 -3.0243 0.01254 -0.36942 2.2167 0.72201 -0.24978 0.92136 0.034514 0.46745 1.1079 -0.19358 -0.074575 0.23353 -0.052062 -0.22044 0.057162 -0.15806 -0.30798 -0.41625 0.37972 0.15006 -0.53212 -0.2055 -1.2526 0.071624 0.70565 0.49744 -0.42063 0.26148 -1.538 -0.30223 -0.073438 -0.28312 0.37104 -0.25217 0.016215 -0.017099 -0.38984 0.87424 -0.72569 -0.51058 -0.52028 -0.1459 0.8278 0.27062\n",
            ", -0.10767 0.11053 0.59812 -0.54361 0.67396 0.10663 0.038867 0.35481 0.06351 -0.094189 0.15786 -0.81665 0.14172 0.21939 0.58505 -0.52158 0.22783 -0.16642 -0.68228 0.3587 0.42568 0.19021 0.91963 0.57555 0.46185 0.42363 -0.095399 -0.42749 -0.16567 -0.056842 -0.29595 0.26037 -0.26606 -0.070404 -0.27662 0.15821 0.69825 0.43081 0.27952 -0.45437 -0.33801 -0.58184 0.22364 -0.5778 -0.26862 -0.20425 0.56394 -0.58524 -0.14365 -0.64218 0.0054697 -0.35248 0.16162 1.1796 -0.47674 -2.7553 -0.1321 -0.047729 1.0655 1.1034 -0.2208 0.18669 0.13177 0.15117 0.7131 -0.35215 0.91348 0.61783 0.70992 0.23955 -0.14571 -0.37859 -0.045959 -0.47368 0.2385 0.20536 -0.18996 0.32507 -1.1112 -0.36341 0.98679 -0.084776 -0.54008 0.11726 -1.0194 -0.24424 0.12771 0.013884 0.080374 -0.35414 0.34951 -0.7226 0.37549 0.4441 -0.99059 0.61214 -0.35111 -0.83155 0.45293 0.082577\n",
            ". -0.33979 0.20941 0.46348 -0.64792 -0.38377 0.038034 0.17127 0.15978 0.46619 -0.019169 0.41479 -0.34349 0.26872 0.04464 0.42131 -0.41032 0.15459 0.022239 -0.64653 0.25256 0.043136 -0.19445 0.46516 0.45651 0.68588 0.091295 0.21875 -0.70351 0.16785 -0.35079 -0.12634 0.66384 -0.2582 0.036542 -0.13605 0.40253 0.14289 0.38132 -0.12283 -0.45886 -0.25282 -0.30432 -0.11215 -0.26182 -0.22482 -0.44554 0.2991 -0.85612 -0.14503 -0.49086 0.0082973 -0.17491 0.27524 1.4401 -0.21239 -2.8435 -0.27958 -0.45722 1.6386 0.78808 -0.55262 0.65 0.086426 0.39012 1.0632 -0.35379 0.48328 0.346 0.84174 0.098707 -0.24213 -0.27053 0.045287 -0.40147 0.11395 0.0062226 0.036673 0.018518 -1.0213 -0.20806 0.64072 -0.068763 -0.58635 0.33476 -1.1432 -0.1148 -0.25091 -0.45907 -0.096819 -0.17946 -0.063351 -0.67412 -0.068895 0.53604 -0.87773 0.31802 -0.39242 -0.23394 0.47298 -0.028803\n"
          ],
          "name": "stdout"
        }
      ]
    },
    {
      "cell_type": "code",
      "metadata": {
        "id": "krIob_QxuV43"
      },
      "source": [
        ""
      ],
      "execution_count": 5,
      "outputs": []
    },
    {
      "cell_type": "code",
      "metadata": {
        "id": "cOJK0Agh6e9h",
        "colab": {
          "base_uri": "https://localhost:8080/"
        },
        "outputId": "255508a5-d4db-4e16-ea41-82d2b94bb4c8"
      },
      "source": [
        "glove_file = datapath('glove.6B.100d.txt')\n",
        "word2vec_glove_file = 'glove.6B.100d.word2vec.txt'\n",
        "glove2word2vec('glove.6B.100d.txt', word2vec_glove_file)"
      ],
      "execution_count": 8,
      "outputs": [
        {
          "output_type": "execute_result",
          "data": {
            "text/plain": [
              "(400000, 100)"
            ]
          },
          "metadata": {
            "tags": []
          },
          "execution_count": 8
        }
      ]
    },
    {
      "cell_type": "code",
      "metadata": {
        "id": "R0YxaJaN6e9i"
      },
      "source": [
        "model = KeyedVectors.load_word2vec_format(word2vec_glove_file)"
      ],
      "execution_count": 9,
      "outputs": []
    },
    {
      "cell_type": "markdown",
      "metadata": {
        "id": "5Rq-kMsQ3b7X"
      },
      "source": [
        "### Simlar words for given words "
      ]
    },
    {
      "cell_type": "code",
      "metadata": {
        "id": "1b0h5H2C6e9i",
        "colab": {
          "base_uri": "https://localhost:8080/"
        },
        "outputId": "d5aba130-9e53-459d-f800-b66b58a9414c"
      },
      "source": [
        "model.most_similar('banana')"
      ],
      "execution_count": 11,
      "outputs": [
        {
          "output_type": "execute_result",
          "data": {
            "text/plain": [
              "[('coconut', 0.7097253799438477),\n",
              " ('mango', 0.7054824233055115),\n",
              " ('bananas', 0.6887733936309814),\n",
              " ('potato', 0.6629636287689209),\n",
              " ('pineapple', 0.6534532904624939),\n",
              " ('fruit', 0.6519855260848999),\n",
              " ('peanut', 0.6420576572418213),\n",
              " ('pecan', 0.6349173188209534),\n",
              " ('cashew', 0.6294420957565308),\n",
              " ('papaya', 0.6246591210365295)]"
            ]
          },
          "metadata": {
            "tags": []
          },
          "execution_count": 11
        }
      ]
    },
    {
      "cell_type": "markdown",
      "metadata": {
        "id": "SJRqfDbQ3hAo"
      },
      "source": [
        "### Simlarity of two given words"
      ]
    },
    {
      "cell_type": "code",
      "metadata": {
        "colab": {
          "base_uri": "https://localhost:8080/"
        },
        "id": "OU4Q2IUtibrr",
        "outputId": "010b4fde-7a06-4b9b-d543-be4e406de213"
      },
      "source": [
        "model.wv.similarity('apple','banana')"
      ],
      "execution_count": 12,
      "outputs": [
        {
          "output_type": "stream",
          "text": [
            "/usr/local/lib/python3.7/dist-packages/ipykernel_launcher.py:1: DeprecationWarning: Call to deprecated `wv` (Attribute will be removed in 4.0.0, use self instead).\n",
            "  \"\"\"Entry point for launching an IPython kernel.\n"
          ],
          "name": "stderr"
        },
        {
          "output_type": "execute_result",
          "data": {
            "text/plain": [
              "0.5054469"
            ]
          },
          "metadata": {
            "tags": []
          },
          "execution_count": 12
        }
      ]
    },
    {
      "cell_type": "markdown",
      "metadata": {
        "id": "VzxAsCq43uQY"
      },
      "source": [
        "### Using similarity of two given words to solve \"Odd Man Out\" problem"
      ]
    },
    {
      "cell_type": "code",
      "metadata": {
        "id": "qGrm8OxFj28c"
      },
      "source": [
        "def odd_man_out(question_list):\n",
        "  \"\"\"\n",
        "  Input: Takes a list of words like [\"apple\", \"banana\", \"guvava\",'cachew\"] as input\n",
        "  Output: Using semantic based word similary, try to find out which words are simiar and which one is the odd man out.\n",
        "  \"\"\"\n",
        "  question_list = [w.lower() for w in question_list]\n",
        "  out = {}\n",
        "  for t1 in question_list:\n",
        "    for t2 in question_list:\n",
        "      if t1==t2: continue\n",
        "      if (t2,t1) not in out:\n",
        "        out[(t1,t2)] = model.similarity(t1,t2)\n",
        "\n",
        "  odd_man = question_list.copy()\n",
        "  sorted_items = [k for k,v in sorted(out.items(),key=lambda x:x[1],reverse=True)]\n",
        "  while len(odd_man)>1:\n",
        "    for pair in sorted_items:\n",
        "      for item in pair:\n",
        "        if item in odd_man:\n",
        "          if len(odd_man)==1: return odd_man[0]\n",
        "          odd_man.remove(item)\n",
        "        #print(odd_man, pair)\n",
        "        if len(odd_man)==1: return odd_man[0]"
      ],
      "execution_count": 13,
      "outputs": []
    },
    {
      "cell_type": "code",
      "metadata": {
        "id": "TVSgNdG86e9r",
        "colab": {
          "base_uri": "https://localhost:8080/"
        },
        "outputId": "4ca0dcc5-6863-48ef-d943-9dc9c26dc12e"
      },
      "source": [
        "\"\"\"\n",
        "Sample Question \n",
        "answers are  \n",
        "\"\"\"\n",
        "\n",
        "question_list_list  = [['Banana','Mango','Cashew','Guava'],\n",
        "                  ['Gold', 'Silver', 'Carbon', 'Diamond'],\n",
        "                  ['Screw','Hammer','Needle','Pin'],\n",
        "                  ['Car','Bicycle','Motorcycle','Jeep'],\n",
        "                  ['Listen','Swim','Walk','Climb']\n",
        "                ]\n",
        "for qlist in question_list_list:\n",
        "  print(\"Odd man from %s is %s \"%(qlist, odd_man_out(qlist)))"
      ],
      "execution_count": 14,
      "outputs": [
        {
          "output_type": "stream",
          "text": [
            "Odd man from ['Banana', 'Mango', 'Cashew', 'Guava'] is cashew \n",
            "Odd man from ['Gold', 'Silver', 'Carbon', 'Diamond'] is carbon \n",
            "Odd man from ['Screw', 'Hammer', 'Needle', 'Pin'] is hammer \n",
            "Odd man from ['Car', 'Bicycle', 'Motorcycle', 'Jeep'] is jeep \n",
            "Odd man from ['Listen', 'Swim', 'Walk', 'Climb'] is listen \n"
          ],
          "name": "stdout"
        }
      ]
    },
    {
      "cell_type": "code",
      "metadata": {
        "id": "0QSB_vSL5oyc"
      },
      "source": [
        ""
      ],
      "execution_count": null,
      "outputs": []
    }
  ]
}
